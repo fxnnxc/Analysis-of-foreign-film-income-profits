{
 "metadata": {
  "language_info": {
   "codemirror_mode": {
    "name": "ipython",
    "version": 3
   },
   "file_extension": ".py",
   "mimetype": "text/x-python",
   "name": "python",
   "nbconvert_exporter": "python",
   "pygments_lexer": "ipython3",
   "version": "3.7.4-final"
  },
  "orig_nbformat": 2,
  "kernelspec": {
   "name": "python_defaultSpec_1598854105656",
   "display_name": "Python 3.7.4 64-bit ('base': conda)"
  }
 },
 "nbformat": 4,
 "nbformat_minor": 2,
 "cells": [
  {
   "cell_type": "code",
   "execution_count": 8,
   "metadata": {
    "tags": []
   },
   "outputs": [
    {
     "output_type": "stream",
     "name": "stdout",
     "text": "Requirement already satisfied: selenium in c:\\users\\beomj\\anaconda3\\lib\\site-packages (3.141.0)\nRequirement already satisfied: urllib3 in c:\\users\\beomj\\anaconda3\\lib\\site-packages (from selenium) (1.25.9)\nRequirement already satisfied: webdriver-manager in c:\\users\\beomj\\anaconda3\\lib\\site-packages (3.2.1)\nRequirement already satisfied: crayons in c:\\users\\beomj\\anaconda3\\lib\\site-packages (from webdriver-manager) (0.3.1)\nRequirement already satisfied: configparser in c:\\users\\beomj\\anaconda3\\lib\\site-packages (from webdriver-manager) (5.0.0)\nRequirement already satisfied: requests in c:\\users\\beomj\\anaconda3\\lib\\site-packages (from webdriver-manager) (2.24.0)\nRequirement already satisfied: colorama in c:\\users\\beomj\\anaconda3\\lib\\site-packages (from crayons->webdriver-manager) (0.4.3)\nRequirement already satisfied: chardet<4,>=3.0.2 in c:\\users\\beomj\\anaconda3\\lib\\site-packages (from requests->webdriver-manager) (3.0.4)\nRequirement already satisfied: urllib3!=1.25.0,!=1.25.1,<1.26,>=1.21.1 in c:\\users\\beomj\\anaconda3\\lib\\site-packages (from requests->webdriver-manager) (1.25.9)\nRequirement already satisfied: idna<3,>=2.5 in c:\\users\\beomj\\anaconda3\\lib\\site-packages (from requests->webdriver-manager) (2.10)\nRequirement already satisfied: certifi>=2017.4.17 in c:\\users\\beomj\\anaconda3\\lib\\site-packages (from requests->webdriver-manager) (2020.6.20)\n"
    }
   ],
   "source": [
    "!pip install selenium\n",
    "!pip install webdriver-manager"
   ]
  },
  {
   "cell_type": "code",
   "execution_count": 2,
   "metadata": {},
   "outputs": [],
   "source": [
    "import pandas as pd\n",
    "from selenium import webdriver\n",
    "from webdriver_manager.chrome import ChromeDriverManager\n",
    "import time\n",
    "\n",
    "from bs4 import BeautifulSoup\n",
    "from selenium import webdriver\n",
    "from selenium.common import exceptions"
   ]
  },
  {
   "cell_type": "code",
   "execution_count": 3,
   "metadata": {
    "tags": []
   },
   "outputs": [
    {
     "output_type": "stream",
     "name": "stderr",
     "text": "[WDM] - Current google-chrome version is 84.0.4147\n[WDM] - Get LATEST driver version for 84.0.4147\n[WDM] - Driver [C:\\Users\\beomj\\.wdm\\drivers\\chromedriver\\win32\\84.0.4147.30\\chromedriver.exe] found in cache\n \n"
    },
    {
     "output_type": "error",
     "ename": "SessionNotCreatedException",
     "evalue": "Message: session not created\nfrom chrome not reachable\n  (Session info: chrome=84.0.4147.135)\n",
     "traceback": [
      "\u001b[1;31m---------------------------------------------------------------------------\u001b[0m",
      "\u001b[1;31mSessionNotCreatedException\u001b[0m                Traceback (most recent call last)",
      "\u001b[1;32m<ipython-input-3-81a120a4deea>\u001b[0m in \u001b[0;36m<module>\u001b[1;34m\u001b[0m\n\u001b[0;32m      1\u001b[0m \u001b[0maddr\u001b[0m \u001b[1;33m=\u001b[0m \u001b[1;34m\"https://www.imdb.com/find?q=deadpool&ref_=nv_sr_sm\"\u001b[0m\u001b[1;33m\u001b[0m\u001b[1;33m\u001b[0m\u001b[0m\n\u001b[0;32m      2\u001b[0m \u001b[1;33m\u001b[0m\u001b[0m\n\u001b[1;32m----> 3\u001b[1;33m \u001b[0mdriver\u001b[0m \u001b[1;33m=\u001b[0m \u001b[0mwebdriver\u001b[0m\u001b[1;33m.\u001b[0m\u001b[0mChrome\u001b[0m\u001b[1;33m(\u001b[0m\u001b[0mChromeDriverManager\u001b[0m\u001b[1;33m(\u001b[0m\u001b[1;33m)\u001b[0m\u001b[1;33m.\u001b[0m\u001b[0minstall\u001b[0m\u001b[1;33m(\u001b[0m\u001b[1;33m)\u001b[0m\u001b[1;33m)\u001b[0m\u001b[1;33m\u001b[0m\u001b[1;33m\u001b[0m\u001b[0m\n\u001b[0m\u001b[0;32m      4\u001b[0m \u001b[0mdriver\u001b[0m\u001b[1;33m.\u001b[0m\u001b[0mget\u001b[0m\u001b[1;33m(\u001b[0m\u001b[0maddr\u001b[0m\u001b[1;33m)\u001b[0m\u001b[1;33m\u001b[0m\u001b[1;33m\u001b[0m\u001b[0m\n\u001b[0;32m      5\u001b[0m \u001b[1;33m\u001b[0m\u001b[0m\n",
      "\u001b[1;32m~\\Anaconda3\\lib\\site-packages\\selenium\\webdriver\\chrome\\webdriver.py\u001b[0m in \u001b[0;36m__init__\u001b[1;34m(self, executable_path, port, options, service_args, desired_capabilities, service_log_path, chrome_options, keep_alive)\u001b[0m\n\u001b[0;32m     79\u001b[0m                     \u001b[0mremote_server_addr\u001b[0m\u001b[1;33m=\u001b[0m\u001b[0mself\u001b[0m\u001b[1;33m.\u001b[0m\u001b[0mservice\u001b[0m\u001b[1;33m.\u001b[0m\u001b[0mservice_url\u001b[0m\u001b[1;33m,\u001b[0m\u001b[1;33m\u001b[0m\u001b[1;33m\u001b[0m\u001b[0m\n\u001b[0;32m     80\u001b[0m                     keep_alive=keep_alive),\n\u001b[1;32m---> 81\u001b[1;33m                 desired_capabilities=desired_capabilities)\n\u001b[0m\u001b[0;32m     82\u001b[0m         \u001b[1;32mexcept\u001b[0m \u001b[0mException\u001b[0m\u001b[1;33m:\u001b[0m\u001b[1;33m\u001b[0m\u001b[1;33m\u001b[0m\u001b[0m\n\u001b[0;32m     83\u001b[0m             \u001b[0mself\u001b[0m\u001b[1;33m.\u001b[0m\u001b[0mquit\u001b[0m\u001b[1;33m(\u001b[0m\u001b[1;33m)\u001b[0m\u001b[1;33m\u001b[0m\u001b[1;33m\u001b[0m\u001b[0m\n",
      "\u001b[1;32m~\\Anaconda3\\lib\\site-packages\\selenium\\webdriver\\remote\\webdriver.py\u001b[0m in \u001b[0;36m__init__\u001b[1;34m(self, command_executor, desired_capabilities, browser_profile, proxy, keep_alive, file_detector, options)\u001b[0m\n\u001b[0;32m    155\u001b[0m             warnings.warn(\"Please use FirefoxOptions to set browser profile\",\n\u001b[0;32m    156\u001b[0m                           DeprecationWarning, stacklevel=2)\n\u001b[1;32m--> 157\u001b[1;33m         \u001b[0mself\u001b[0m\u001b[1;33m.\u001b[0m\u001b[0mstart_session\u001b[0m\u001b[1;33m(\u001b[0m\u001b[0mcapabilities\u001b[0m\u001b[1;33m,\u001b[0m \u001b[0mbrowser_profile\u001b[0m\u001b[1;33m)\u001b[0m\u001b[1;33m\u001b[0m\u001b[1;33m\u001b[0m\u001b[0m\n\u001b[0m\u001b[0;32m    158\u001b[0m         \u001b[0mself\u001b[0m\u001b[1;33m.\u001b[0m\u001b[0m_switch_to\u001b[0m \u001b[1;33m=\u001b[0m \u001b[0mSwitchTo\u001b[0m\u001b[1;33m(\u001b[0m\u001b[0mself\u001b[0m\u001b[1;33m)\u001b[0m\u001b[1;33m\u001b[0m\u001b[1;33m\u001b[0m\u001b[0m\n\u001b[0;32m    159\u001b[0m         \u001b[0mself\u001b[0m\u001b[1;33m.\u001b[0m\u001b[0m_mobile\u001b[0m \u001b[1;33m=\u001b[0m \u001b[0mMobile\u001b[0m\u001b[1;33m(\u001b[0m\u001b[0mself\u001b[0m\u001b[1;33m)\u001b[0m\u001b[1;33m\u001b[0m\u001b[1;33m\u001b[0m\u001b[0m\n",
      "\u001b[1;32m~\\Anaconda3\\lib\\site-packages\\selenium\\webdriver\\remote\\webdriver.py\u001b[0m in \u001b[0;36mstart_session\u001b[1;34m(self, capabilities, browser_profile)\u001b[0m\n\u001b[0;32m    250\u001b[0m         parameters = {\"capabilities\": w3c_caps,\n\u001b[0;32m    251\u001b[0m                       \"desiredCapabilities\": capabilities}\n\u001b[1;32m--> 252\u001b[1;33m         \u001b[0mresponse\u001b[0m \u001b[1;33m=\u001b[0m \u001b[0mself\u001b[0m\u001b[1;33m.\u001b[0m\u001b[0mexecute\u001b[0m\u001b[1;33m(\u001b[0m\u001b[0mCommand\u001b[0m\u001b[1;33m.\u001b[0m\u001b[0mNEW_SESSION\u001b[0m\u001b[1;33m,\u001b[0m \u001b[0mparameters\u001b[0m\u001b[1;33m)\u001b[0m\u001b[1;33m\u001b[0m\u001b[1;33m\u001b[0m\u001b[0m\n\u001b[0m\u001b[0;32m    253\u001b[0m         \u001b[1;32mif\u001b[0m \u001b[1;34m'sessionId'\u001b[0m \u001b[1;32mnot\u001b[0m \u001b[1;32min\u001b[0m \u001b[0mresponse\u001b[0m\u001b[1;33m:\u001b[0m\u001b[1;33m\u001b[0m\u001b[1;33m\u001b[0m\u001b[0m\n\u001b[0;32m    254\u001b[0m             \u001b[0mresponse\u001b[0m \u001b[1;33m=\u001b[0m \u001b[0mresponse\u001b[0m\u001b[1;33m[\u001b[0m\u001b[1;34m'value'\u001b[0m\u001b[1;33m]\u001b[0m\u001b[1;33m\u001b[0m\u001b[1;33m\u001b[0m\u001b[0m\n",
      "\u001b[1;32m~\\Anaconda3\\lib\\site-packages\\selenium\\webdriver\\remote\\webdriver.py\u001b[0m in \u001b[0;36mexecute\u001b[1;34m(self, driver_command, params)\u001b[0m\n\u001b[0;32m    319\u001b[0m         \u001b[0mresponse\u001b[0m \u001b[1;33m=\u001b[0m \u001b[0mself\u001b[0m\u001b[1;33m.\u001b[0m\u001b[0mcommand_executor\u001b[0m\u001b[1;33m.\u001b[0m\u001b[0mexecute\u001b[0m\u001b[1;33m(\u001b[0m\u001b[0mdriver_command\u001b[0m\u001b[1;33m,\u001b[0m \u001b[0mparams\u001b[0m\u001b[1;33m)\u001b[0m\u001b[1;33m\u001b[0m\u001b[1;33m\u001b[0m\u001b[0m\n\u001b[0;32m    320\u001b[0m         \u001b[1;32mif\u001b[0m \u001b[0mresponse\u001b[0m\u001b[1;33m:\u001b[0m\u001b[1;33m\u001b[0m\u001b[1;33m\u001b[0m\u001b[0m\n\u001b[1;32m--> 321\u001b[1;33m             \u001b[0mself\u001b[0m\u001b[1;33m.\u001b[0m\u001b[0merror_handler\u001b[0m\u001b[1;33m.\u001b[0m\u001b[0mcheck_response\u001b[0m\u001b[1;33m(\u001b[0m\u001b[0mresponse\u001b[0m\u001b[1;33m)\u001b[0m\u001b[1;33m\u001b[0m\u001b[1;33m\u001b[0m\u001b[0m\n\u001b[0m\u001b[0;32m    322\u001b[0m             response['value'] = self._unwrap_value(\n\u001b[0;32m    323\u001b[0m                 response.get('value', None))\n",
      "\u001b[1;32m~\\Anaconda3\\lib\\site-packages\\selenium\\webdriver\\remote\\errorhandler.py\u001b[0m in \u001b[0;36mcheck_response\u001b[1;34m(self, response)\u001b[0m\n\u001b[0;32m    240\u001b[0m                 \u001b[0malert_text\u001b[0m \u001b[1;33m=\u001b[0m \u001b[0mvalue\u001b[0m\u001b[1;33m[\u001b[0m\u001b[1;34m'alert'\u001b[0m\u001b[1;33m]\u001b[0m\u001b[1;33m.\u001b[0m\u001b[0mget\u001b[0m\u001b[1;33m(\u001b[0m\u001b[1;34m'text'\u001b[0m\u001b[1;33m)\u001b[0m\u001b[1;33m\u001b[0m\u001b[1;33m\u001b[0m\u001b[0m\n\u001b[0;32m    241\u001b[0m             \u001b[1;32mraise\u001b[0m \u001b[0mexception_class\u001b[0m\u001b[1;33m(\u001b[0m\u001b[0mmessage\u001b[0m\u001b[1;33m,\u001b[0m \u001b[0mscreen\u001b[0m\u001b[1;33m,\u001b[0m \u001b[0mstacktrace\u001b[0m\u001b[1;33m,\u001b[0m \u001b[0malert_text\u001b[0m\u001b[1;33m)\u001b[0m\u001b[1;33m\u001b[0m\u001b[1;33m\u001b[0m\u001b[0m\n\u001b[1;32m--> 242\u001b[1;33m         \u001b[1;32mraise\u001b[0m \u001b[0mexception_class\u001b[0m\u001b[1;33m(\u001b[0m\u001b[0mmessage\u001b[0m\u001b[1;33m,\u001b[0m \u001b[0mscreen\u001b[0m\u001b[1;33m,\u001b[0m \u001b[0mstacktrace\u001b[0m\u001b[1;33m)\u001b[0m\u001b[1;33m\u001b[0m\u001b[1;33m\u001b[0m\u001b[0m\n\u001b[0m\u001b[0;32m    243\u001b[0m \u001b[1;33m\u001b[0m\u001b[0m\n\u001b[0;32m    244\u001b[0m     \u001b[1;32mdef\u001b[0m \u001b[0m_value_or_default\u001b[0m\u001b[1;33m(\u001b[0m\u001b[0mself\u001b[0m\u001b[1;33m,\u001b[0m \u001b[0mobj\u001b[0m\u001b[1;33m,\u001b[0m \u001b[0mkey\u001b[0m\u001b[1;33m,\u001b[0m \u001b[0mdefault\u001b[0m\u001b[1;33m)\u001b[0m\u001b[1;33m:\u001b[0m\u001b[1;33m\u001b[0m\u001b[1;33m\u001b[0m\u001b[0m\n",
      "\u001b[1;31mSessionNotCreatedException\u001b[0m: Message: session not created\nfrom chrome not reachable\n  (Session info: chrome=84.0.4147.135)\n"
     ]
    }
   ],
   "source": [
    "addr = \"https://www.imdb.com/find?q=deadpool&ref_=nv_sr_sm\" \n",
    "\n",
    "driver = webdriver.Chrome(ChromeDriverManager().install())\n",
    "driver.get(addr)\n",
    "\n",
    "reviews = []\n",
    "rates = []"
   ]
  },
  {
   "cell_type": "code",
   "execution_count": 1,
   "metadata": {},
   "outputs": [
    {
     "output_type": "error",
     "ename": "NameError",
     "evalue": "name 'pd' is not defined",
     "traceback": [
      "\u001b[1;31m---------------------------------------------------------------------------\u001b[0m",
      "\u001b[1;31mNameError\u001b[0m                                 Traceback (most recent call last)",
      "\u001b[1;32m<ipython-input-1-c6a18bd06d3d>\u001b[0m in \u001b[0;36m<module>\u001b[1;34m\u001b[0m\n\u001b[1;32m----> 1\u001b[1;33m \u001b[0mdf\u001b[0m \u001b[1;33m=\u001b[0m \u001b[0mpd\u001b[0m\u001b[1;33m.\u001b[0m\u001b[0mread_excel\u001b[0m\u001b[1;33m(\u001b[0m\u001b[1;34m\"영화raw데이터.xlsx\"\u001b[0m\u001b[1;33m)\u001b[0m\u001b[1;33m\u001b[0m\u001b[1;33m\u001b[0m\u001b[0m\n\u001b[0m\u001b[0;32m      2\u001b[0m \u001b[0mnames\u001b[0m \u001b[1;33m=\u001b[0m \u001b[0mdf\u001b[0m\u001b[1;33m.\u001b[0m\u001b[0mmovieNmEn\u001b[0m\u001b[1;33m\u001b[0m\u001b[1;33m\u001b[0m\u001b[0m\n",
      "\u001b[1;31mNameError\u001b[0m: name 'pd' is not defined"
     ]
    }
   ],
   "source": [
    "df = pd.read_excel(\"영화raw데이터.xlsx\")\n",
    "names = df.movieNmEn"
   ]
  },
  {
   "cell_type": "code",
   "execution_count": 41,
   "metadata": {},
   "outputs": [],
   "source": [
    "def find(name):\n",
    "    try:\n",
    "        driver.find_element_by_xpath(\"/html/body/div[2]/nav/div[2]/div[1]/form/div[2]/div/input\").send_keys(name)\n",
    "        driver.find_element_by_id(\"suggestion-search-button\").click()      \n",
    "        time.sleep(1)\n",
    "        #------------------\n",
    "        temp = driver.find_element_by_class_name(\"findList\")\n",
    "        temp = temp.find_elements_by_class_name('result_text')[0]   \n",
    "        temp = temp.find_element_by_tag_name(\"a\")\n",
    "        temp.click()\n",
    "        time.sleep(1)\n",
    "        try:\n",
    "            rates.append(driver.find_element_by_class_name(\"imdbRating\").text)\n",
    "        except:\n",
    "            rates.append(\"\")\n",
    "        try:\n",
    "            #------------------\n",
    "            driver.find_element_by_link_text(\"USER REVIEWS\").click()\n",
    "            time.sleep(1)\n",
    "            #------------------\n",
    "            temp = driver.find_element_by_class_name(\"lister-list\")\n",
    "            temp = temp.find_elements_by_class_name(\"text\")\n",
    "            total = []\n",
    "            for i in temp:\n",
    "                total.append(i.text)\n",
    "            total = \"///\".join(total)\n",
    "            reviews.append(total)\n",
    "        except:\n",
    "            reviews.append(\"\")\n",
    "    except:\n",
    "        reviews.append(\"\")\n",
    "        rates.append(\"\")\n",
    "        driver.get(addr)\n",
    "\n"
   ]
  },
  {
   "cell_type": "code",
   "execution_count": 42,
   "metadata": {
    "tags": [
     "outputPrepend"
    ]
   },
   "outputs": [
    {
     "output_type": "stream",
     "name": "stdout",
     "text": "er Ho 4.9/10\n2,812\n4589 I found th 4.7/10\n2,911\n4590 Daniel Cra 8.0/10\n569,178\n4591 Well yes,  6.9/10\n236,836\n4592  \n4593  \n4594 The rock s 4.3/10\n565\n4595 I always w 4.1/10\n3,559\n4596 A word to  6.1/10\n7,402\n4597 The movie  5.7/10\n1,260\n4598 Shannon Tw 4.3/10\n512\n4599  \n4600  \n4601 This movie 4.3/10\n3,254\n4602 Though it  5.9/10\n14,946\n4603 One of the 8.5/10\n1,157,550\n4604 There's a  7.2/10\n23,649\n4605 6 years af 4.4/10\n8,959\n4606  \n4607 In The Fir 6.8/10\n116,207\n4608 In watchin 5.8/10\n16,897\n4609 Today I ha 4.5/10\n42,524\n4610 It would h 6.8/10\n142,754\n4611 ////////// 7.4/10\n266,320\n4612 Lots of bl 6.3/10\n67,198\n4613 If you did 7.2/10\n6,995\n4614 So I final 6.4/10\n12,023\n4615 ///There s 5.6/10\n31,686\n4616 ///I have  5.0/10\n8,977\n4617 I see many 6.3/10\n167,280\n4618 This was t 5.2/10\n94,953\n4619 Romero is  7.9/10\n113,046\n4620  \n4621 If you ask 7.1/10\n5,354\n4622 I saw this 6.4/10\n200,444\n4623 I honestly 5.9/10\n76,634\n4624 First off, 6.9/10\n62,354\n4625 First off, 5.5/10\n93,701\n4626 80/100. Th 7.4/10\n88,126\n4627 My friend  4.8/10\n13,913\n4628 I quite li 6.8/10\n68,844\n4629 Even thoug 6.6/10\n148,720\n4630 I'll keep  6.5/10\n83,972\n4631 Well, if I 6.7/10\n288,972\n4632 May be Bri 8.2/10\n11,082\n4633 Finally, a 6.9/10\n187,029\n4634 I really d 5.8/10\n36,342\n4635 Ice age 3  6.9/10\n218,382\n4636 Sara Campb 5.9/10\n58,422\n4637 It was a p 5.4/10\n7,259\n4638 In the wak 6.3/10\n17,195\n4639 ////////// 7.6/10\n457,093\n4640 It is a pi 5.2/10\n32,901\n4641  \n4642 This movie 5.6/10\n127,779\n4643 Once every 6.7/10\n225,254\n4644 This secon 6.0/10\n378,898\n4645 \"Man About 5.5/10\n7,534\n4646 This is a  6.2/10\n183,216\n4647 How refres 5.8/10\n72,369\n4648 I FELT thi 7.1/10\n3,109\n4649 ///And by  6.5/10\n184,936\n4650 I saw a tr 6.7/10\n35,269\n4651 Hyped to t 5.8/10\n104,172\n4652 ///When I  6.0/10\n172,850\n4653 To be hone 6.3/10\n6,548\n4654 Terminator 6.5/10\n338,760\n4655 \"U Turn\" s 6.8/10\n48,601\n4656 I am sorry 6.7/10\n267,537\n4657 Scary Movi 5.1/10\n111,915\n4658 ///I was 2 7.8/10\n222,014\n4659 Wesley Sni 4.8/10\n4,090\n4660 There are  6.6/10\n459,200\n4661 Be warned, 5.8/10\n384\n4662 I saw this 7.5/10\n96,950\n4663 /////////O 6.2/10\n217,438\n4664 I disagree 6.7/10\n352\n4665 Despite it 7.1/10\n51,219\n4666  \n4667  \n4668  \n4669 ///Martin  5.5/10\n98,753\n4670 Dr. Megan  7.1/10\n14,767\n4671 You'd thin 6.1/10\n47,264\n4672 I watch a  5.9/10\n73,505\n4673 The tone o 4.9/10\n7,653\n4674 If you lis 6.5/10\n72,210\n4675 Suspension 6.8/10\n137,280\n4676 Wesley Sni 5.0/10\n4,688\n4677 Everybody  6.7/10\n21,683\n4678 Once every 7.3/10\n104,055\n4679 Friday the 6.5/10\n115,309\n4680 ///Uma Thu 5.6/10\n22,920\n4681 Let me jus 2.5/10\n69,174\n4682 ///I'm an  5.6/10\n21,394\n4683 As the las 7.1/10\n65,589\n4684 The Wrestl 7.9/10\n286,025\n4685 Watchmen a 8.1/10\n75,955\n4686 In every a 6.7/10\n46,770\n4687 ///Having  4.8/10\n48,925\n4688 I was pers 6.5/10\n90,045\n4689 ///Revolut 7.3/10\n191,538\n4690 After read 7.1/10\n143,980\n4691 As a fan o 5.3/10\n51,652\n4692 //////OK,  4.8/10\n56,676\n4693 It is hard 5.6/10\n776\n4694 /////////T 7.5/10\n119,656\n4695  \n4696 I gave thi 4.1/10\n384\n4697 This is th 7.4/10\n186,900\n4698 Monster Ho 6.6/10\n97,400\n4699 Quite an i 3.9/10\n546\n4700  \n4701 /////////W 5.7/10\n5,321\n4702 Still wond 6.1/10\n35,345\n4703 Wow! I'm s 5.5/10\n4,049\n4704 What are p 5.3/10\n40,241\n4705 I am a ter 7.6/10\n282,022\n4706 Once again 7.3/10\n16,652\n4707 A full six 6.7/10\n22,183\n4708 Mo (Brenda 6.1/10\n72,299\n4709 It does no 5.7/10\n10,887\n4710 This is on 6.0/10\n8,254\n4711 Well, I re 6.2/10\n1,332\n4712 The film i 5.6/10\n264\n4713 \"Defiance\" 7.2/10\n135,874\n4714 It's hard  6.6/10\n199,650\n4715 I just ret 6.6/10\n24,539\n4716 Fans of Sc 5.2/10\n25,434\n4717 This is on 5.9/10\n9,687\n4718 I have to  6.1/10\n145,682\n4719 I don't ca 6.2/10\n20,016\n4720 ///But WHY 7.1/10\n357,236\n4721 Red Dragon 7.2/10\n245,950\n4722 Infected w 4.4/10\n78,706\n4723 ///Since I 5.8/10\n64,665\n4724 This was g 5.8/10\n34,437\n4725 Although I 6.5/10\n21,344\n4726 Ulu Grosba 6.4/10\n12,719\n4727  \n4728  \n4729 Bulworth w 6.8/10\n24,408\n4730 I thought  6.4/10\n6,693\n4731 I suspect  7.3/10\n10,130\n4732 I have see 6.4/10\n24,091\n4733 It's hard  6.4/10\n195,437\n4734 I have see 5.0/10\n69,997\n4735 The image  6.9/10\n15,830\n4736 ///The sur 8.1/10\n893,064\n4737 Tony Scott 7.7/10\n323,381\n4738  \n4739 The proble 5.9/10\n122,564\n4740 I don't th 6.5/10\n238,324\n4741 I hate wre 6.3/10\n69,540\n4742 After the  8.5/10\n174,375\n4743 This movie 6.6/10\n178,539\n4744 The large  7.0/10\n22,078\n4745 My boyfrie 7.0/10\n324,016\n4746 Well...I r 4.9/10\n955\n4747 When I sta 7.6/10\n6,952\n4748 This movie 7.0/10\n6,664\n4749 Watching t 5.2/10\n74,203\n4750 Bourne is  7.7/10\n426,697\n4751 I am not s 6.7/10\n211,916\n4752 This is th 5.4/10\n19,763\n4753 I feel com 6.8/10\n92,113\n4754 Let's be c 6.7/10\n186,674\n4755 I must say 6.2/10\n279\n4756 Scanners I 5.3/10\n2,695\n4757 ///That mo 7.3/10\n674,375\n4758  \n4759 Pacific He 6.4/10\n17,503\n4760 Robert De  6.7/10\n143,775\n4761  \n4762 Critics an 5.1/10\n42,359\n4763  \n4764 ///Runaway 5.6/10\n91,103\n4765 This is on 5.7/10\n565\n4766 I don't kn 7.3/10\n643,566\n4767 Ahh. White 6.7/10\n19,180\n4768 You may lo 5.9/10\n36,908\n4769 One of the 7.2/10\n409,458\n4770 \"Half Ligh 6.0/10\n13,120\n4771 Kimberly C 6.2/10\n149,087\n4772 Certainly, 6.2/10\n97,820\n4773 Ron Howard 6.7/10\n69,944\n4774 ///COME ON 4.7/10\n43,808\n4775 This is a  5.9/10\n9,708\n4776 I was tota 6.0/10\n268,055\n4777 How desper 4.5/10\n407\n4778 \"We have t 6.4/10\n31\n4779 It's a mat 8.0/10\n667,103\n4780 I saw this 8.0/10\n45\n4781  \n4782 I've never 7.7/10\n296,555\n4783 So the dir 4.6/10\n610\n4784 If you lik 6.1/10\n2,821\n4785 I'll admit 5.1/10\n15,246\n4786 And thank  7.0/10\n7,424\n4787  6.8/10\n185\n4788  \n4789 \"In the Cu 5.3/10\n21,520\n4790  6.4/10\n1,108\n4791  \n4792 I remember 5.3/10\n2,460\n4793 I noticed  5.6/10\n4,348\n4794 Raw Americ 7.3/10\n5,916\n4795 F/X2 was a 5.9/10\n8,623\n4796 Usually, r 6.2/10\n22,091\n4797 It has a f 6.3/10\n78,869\n4798 With nothi 6.3/10\n24,547\n4799 Didn't exp 3.9/10\n110\n4800 Sometimes  6.5/10\n4,486\n4801 I remember 6.2/10\n62,602\n4802 The story' 6.0/10\n124,352\n4803 I've been  6.2/10\n122,337\n4804 Wow, there 4.9/10\n150,838\n4805 ///Some mo 8.0/10\n353,734\n4806 This was o 5.8/10\n51,250\n4807 Certainly  7.0/10\n383,932\n4808 Some peopl 6.6/10\n213,268\n4809 Please do  5.5/10\n188\n4810 My cable p 3.9/10\n591\n4811  \n4812 I really g 6.2/10\n9,116\n4813 Who would  6.2/10\n90,073\n4814 I have to  6.2/10\n32,441\n4815 I get such 5.9/10\n10,260\n4816 This film, 6.5/10\n3,967\n4817 I could no 5.8/10\n8,654\n4818 \"Town and  4.5/10\n4,622\n4819 I can see  6.1/10\n587\n4820 After hear 4.1/10\n15,033\n4821 After the  7.2/10\n59,401\n4822 This is a  7.5/10\n96,580\n4823 This is a  6.1/10\n49,678\n4824 This was a 7.4/10\n96,118\n4825 It's a sha 6.1/10\n40,984\n4826 It's hard  8.1/10\n505,432\n4827 The Omen i 7.5/10\n104,650\n4828 Unbeknowis 6.7/10\n156,299\n4829 ///To the  5.8/10\n4,526\n4830 Even thoug 6.4/10\n264\n4831 What's goi 4.7/10\n1,409\n4832 I want thi 6.6/10\n6,105\n4833 Some time  4.4/10\n1,042\n4834 Good as th 6.4/10\n236,106\n4835 This movie 4.7/10\n10,648\n4836 I was chom 6.5/10\n51,943\n4837 It all sta 5.7/10\n96,618\n4838 I am a big 4.5/10\n411\n4839 Abel Ferra 7.0/10\n30,936\n4840 In Manhatt 5.4/10\n52,896\n4841 Every acti 7.3/10\n123,168\n4842  \n4843  \n4844 I know I'm 7.7/10\n380,808\n4845 I've read  6.6/10\n392,332\n4846 Fans of `r 6.5/10\n6,289\n4847 ///I'm not 5.8/10\n128,131\n4848 Saying thi 6.3/10\n179,664\n4849 This is a  6.1/10\n52,964\n4850 Chris Rock 5.5/10\n21,375\n4851 It takes a 6.2/10\n159,593\n4852 Personally 5.3/10\n132\n4853 The lives  6.5/10\n7,641\n4854 Is a rough 6.5/10\n108,607\n4855 In this fi 6.8/10\n176,084\n4856 Nick Chen  6.1/10\n17,234\n4857 I have see 8.1/10\n74,648\n4858 //////I am 7.9/10\n23,408\n4859 SYNOPSIS:  7.6/10\n10,486\n4860 I saw this 4.0/10\n933\n4861 'Jack the  6.5/10\n3,877\n4862 Morris Che 5.1/10\n5,613\n4863 The third  6.5/10\n95,111\n4864 With its s 6.5/10\n8,866\n4865 'American  5.7/10\n2,282\n4866  \n4867 As he did  6.8/10\n13,021\n4868 Jeremy Iro 6.8/10\n8,486\n4869 I just lov 5.6/10\n47,874\n4870  \n4871 I'm guessi 6.9/10\n271,944\n4872 ///What is 6.6/10\n720\n4873 This is an 6.2/10\n15,337\n4874 Firstly, I 4.0/10\n899\n4875 Holy smoke 4.2/10\n721\n4876 This is ea 3.8/10\n1,342\n4877 This was a 4.1/10\n504\n4878 At the hei 4.6/10\n21,813\n4879 Undeniably 6.8/10\n73,458\n4880 ///This is 8.8/10\n184,312\n4881 I'm a big  5.1/10\n2,474\n4882 I've alway 2.7/10\n571\n4883 It is rare 6.6/10\n28,088\n4884 After seei 6.9/10\n19,859\n4885  \n4886  \n4887 \"Sliver\" w 5.1/10\n28,488\n4888 Jean Renoi 7.6/10\n2,830\n4889 `Woman on  6.4/10\n1,880\n4890 MALICE is  6.4/10\n22,138\n4891 `Half Man, 6.9/10\n9,290\n4892 This movie 7.0/10\n15,887\n4893 I am in Wa 7.6/10\n10,105\n4894 This is a  6.9/10\n9,367\n4895 Mrs. Marti 5.6/10\n1,734\n4896 Easily not 6.9/10\n323,833\n4897 It's no re 6.3/10\n23,123\n4898  \n4899  \n4900 Note: I st 7.6/10\n331,081\n4901 I just wan 6.3/10\n1,082\n4902 I really e 5.7/10\n80,171\n4903 I can't be 6.5/10\n62,372\n4904 For the mo 6.7/10\n117,003\n4905 To the con 5.3/10\n662\n4906 Well, I ju 6.8/10\n11,929\n4907 I thought  5.6/10\n72,677\n4908 I love thi 6.4/10\n50,652\n4909 Any compar 5.4/10\n42,798\n4910 The acting 7.3/10\n59,823\n4911 ///Hidalgo 6.7/10\n76,313\n4912 I don't re 5.3/10\n14,599\n4913 Although I 5.2/10\n16,775\n4914 This movie 5.6/10\n26,346\n4915 I didn't e 6.5/10\n76,158\n4916 The lovabl 4.9/10\n40,365\n4917 While stay 6.5/10\n55,944\n4918 I often fi 8.0/10\n407,836\n4919 The Lizzie 5.5/10\n35,108\n4920 First revi 8.2/10\n20,536\n4921 Slow in a  8.2/10\n19,201\n4922 I went int 5.7/10\n50,540\n4923 \"Syriana\"  6.9/10\n124,336\n4924 In preview 6.2/10\n132,392\n4925 I watch th 8.2/10\n1,008,026\n4926 I read her 6.5/10\n51,320\n4927 Before you 6.1/10\n17,322\n4928 This was a 5.7/10\n84,053\n4929 As a teena 5.5/10\n53,568\n4930 Deep Throa 6.7/10\n6,434\n4931  \n4932 A dream se 6.4/10\n5,918\n4933 Old wounds 6.4/10\n58,644\n4934 Highly und 6.4/10\n133,818\n4935 Isabel (Gr 4.8/10\n391\n4936 I applaud  6.1/10\n12,410\n4937  4.0/10\n12\n4938 Be honest: 7.3/10\n44,310\n4939 As a young 5.1/10\n30,027\n4940 i guess i  5.5/10\n27,877\n4941 I believe  8.6/10\n23,804\n4942 Back in th 3.3/10\n3,995\n4943 It seems t 7.3/10\n379,624\n4944 This movie 6.0/10\n85,485\n4945 This is no 5.3/10\n1,084\n4946 ///The fil 7.6/10\n471,417\n4947 I guess it 6.6/10\n82,822\n4948 I like sla 3.7/10\n540\n4949 Where Slee 5.8/10\n42\n4950 We lived t 7.7/10\n279,024\n4951  \n4952 I rented K 7.0/10\n25,786\n4953 Possibly J 6.6/10\n20,999\n4954 Surprising 5.5/10\n3,127\n4955 Outside Pr 6.4/10\n8,425\n4956 A stunning 7.7/10\n83,287\n4957 Having fai 5.3/10\n25,479\n4958 I must con 6.8/10\n11,734\n4959 This movie 7.3/10\n12,193\n4960 BLESS THE  5.1/10\n13,729\n4961 Okay, this 3.1/10\n1,827\n4962 Confidentl 9.0/10\n2,236,662\n4963  \n4964  \n4965  \n4966  \n4967 Producer J 5.7/10\n105,112\n4968 ///Oh man! 6.6/10\n115,922\n4969 What I lik 6.6/10\n14,840\n4970 Captain Da 6.3/10\n43,657\n4971 If you can 5.0/10\n2,748\n4972 ///Full Sy 3.9/10\n559\n4973 In year 20 3.9/10\n4,318\n4974  \n4975 This film  6.3/10\n270\n4976  \n4977 It was nic 6.4/10\n41,615\n4978 Sebastian  5.8/10\n121,709\n4979 This TV se 4.2/10\n158\n4980 ///First o 2.6/10\n24,753\n4981 Usually, w 6.2/10\n38,920\n4982 I was fort 6.9/10\n8,818\n4983 Why do the 5.5/10\n161,420\n4984  \n4985  \n4986 Being luck 6.8/10\n329,385\n4987 We all kno 7.2/10\n82,242\n4988 But the ma 5.4/10\n120,856\n4989 I finally  4.3/10\n15,970\n4990 Great fun! 6.6/10\n117,448\n4991 I know a l 3.6/10\n21,179\n4992 After read 6.6/10\n58,013\n4993 Yes I know 6.4/10\n153,772\n4994 Even thoug 6.0/10\n11,957\n4995 At what po 5.4/10\n3,053\n4996 ///The Pat 7.2/10\n250,470\n4997 \"The Crow: 4.9/10\n10,679\n4998 Airborne i 6.3/10\n6,227\n4999 William Ba 4.8/10\n325\n5000 This is an 5.7/10\n21,270\n5001  6.8/10\n5\n5002 I would ho 6.6/10\n35,959\n5003 ///My spou 2.5/10\n75,145\n5004 Brian De P 7.1/10\n379,719\n5005 There have 6.3/10\n49,288\n5006 The story  5.5/10\n11,345\n5007 Nineteen n 7.4/10\n91,742\n5008 Absolutely 3.9/10\n9,381\n5009 There is m 4.6/10\n11,105\n5010 The whole  5.3/10\n9,139\n5011 ///Though  5.6/10\n30,588\n5012 This is a  6.7/10\n8,903\n5013 While most 7.1/10\n222,363\n5014 Tony D'Ama 6.9/10\n110,563\n5015 I stumbled 6.3/10\n10,208\n5016 (10 out of 6.7/10\n84,242\n5017 As I start 6.6/10\n2,201\n5018 American G 7.8/10\n383,253\n5019 I don't kn 6.1/10\n1,556\n5020 Let's get  6.2/10\n42,001\n5021 I saw this 6.1/10\n2,646\n5022  \n5023 The legend 7.2/10\n673,476\n5024 ///Reminis 6.8/10\n68,134\n5025  5.9/10\n166,595\n5026  \n5027 I caught t 6.6/10\n2,856\n5028 I found th 6.3/10\n158,693\n5029 Saw this S 6.5/10\n12,890\n5030 I have utm 7.6/10\n371,459\n5031 It takes a 6.2/10\n159,593\n5032 Charlie Ka 7.7/10\n304,173\n5033 A movie fi 3.6/10\n2,431\n5034 This movie 6.3/10\n16,828\n5035 For Love O 6.6/10\n31,232\n5036 While I wa 6.4/10\n12,061\n5037 problem: w 5.1/10\n253\n5038 This movie 7.3/10\n232\n5039 ///Reading 6.1/10\n16,120\n5040 Scream 3 i 5.6/10\n120,968\n5041 One of the 7.1/10\n20,995\n5042 The storyl 5.8/10\n736\n5043 Part of th 7.7/10\n35,509\n5044 The Boondo 7.8/10\n224,550\n5045 I feel a n 6.0/10\n2,476\n5046 The first  4.9/10\n11,682\n5047 This movie 3.8/10\n101\n5048 This film  6.6/10\n7,696\n5049 I saw this 6.0/10\n12,709\n5050 I think th 5.4/10\n6,514\n5051 Let me beg 5.8/10\n19,706\n5052 Year of th 5.6/10\n2,349\n5053 This is a  4.6/10\n476\n5054 \"Chasing A 7.2/10\n130,640\n5055 Jennifer R 3.2/10\n585\n5056 Black Dog  5.5/10\n8,285\n5057 ///In the  7.0/10\n91,081\n5058 This is my 6.2/10\n18,114\n5059 There is m 4.6/10\n11,105\n5060 Okay sure  5.7/10\n52,492\n5061 This movie 7.1/10\n49,089\n5062 Haunted by 6.8/10\n97,293\n5063 The filmma 4.6/10\n674\n5064 All true H 4.3/10\n42,855\n5065 I really e 6.7/10\n35,624\n5066 What I lik 5.4/10\n20,493\n5067 Charlie Sh 4.9/10\n1,389\n5068 i thought  6.2/10\n63,466\n5069 Just watch 6.1/10\n2,741\n5070 My two fav 6.9/10\n43,556\n5071 Please, ne 4.3/10\n439\n5072 This is on 6.4/10\n7,519\n5073 I got drag 7.9/10\n3,616\n5074 When this  5.5/10\n12,151\n5075 Stir of Ec 7.0/10\n73,287\n5076 I taped th 6.9/10\n25,765\n5077 While the  6.5/10\n17,443\n5078  \n5079 This is a  6.5/10\n82\n5080 Seventies  5.2/10\n581\n5081 I don't ho 5.5/10\n22,220\n5082 **SPOILERS 5.4/10\n1,564\n5083 This lovel 7.1/10\n73,302\n5084 Q&A is one 7.2/10\n88\n5085 I wouldn't 4.6/10\n6,396\n5086 I wasn't g 7.6/10\n90,023\n5087 Any film t 6.9/10\n7,362\n5088 In 1976, i 6.8/10\n14,842\n5089 //////'Hom 7.6/10\n450,846\n5090 It's just  5.2/10\n40,109\n5091 i expected 8.6/10\n1,110,076\n5092 ///Clay Pi 6.6/10\n10,533\n5093 Sandwiched 6.6/10\n397,110\n5094 ///After v 8.0/10\n44,595\n5095  \n5096 So many ne 6.2/10\n46,793\n5097 I had the  6.4/10\n17,730\n5098 ///I went  7.0/10\n115,957\n5099 ///This mo 6.7/10\n48,940\n5100 Wow. Shoot 6.7/10\n143,033\n5101 One of the 6.9/10\n230,930\n5102 Amy (Kate  6.2/10\n92,925\n5103 I saw this 6.2/10\n23,376\n5104 //////We w 5.9/10\n73,713\n5105 I just got 7.4/10\n92,192\n5106  6.0/10\n12\n5107 Directed a 6.0/10\n2,312\n5108 To compare 5.8/10\n112,856\n5109 Not expect 6.8/10\n216,846\n5110 Very Enter 6.5/10\n40,778\n5111  \n5112 \"No Reserv 6.3/10\n69,459\n5113 I knew wha 7.5/10\n119,483\n5114 Return To  6.9/10\n13,594\n5115 //////Let  7.3/10\n304,697\n5116 We went to 4.8/10\n27,804\n5117 I thought  6.5/10\n11,670\n5118 I went to  7.6/10\n249,824\n5119 Deep Risin 6.1/10\n32,687\n5120 If you're  5.8/10\n7,984\n5121 While doin 6.8/10\n251,760\n5122 Cronenberg 7.4/10\n220,169\n5123 I don't un 5.4/10\n137,308\n5124 I give thi 8.5/10\n1,012,633\n5125 When I fir 7.5/10\n493,079\n5126 I did not  6.8/10\n50,008\n5127 This is no 6.5/10\n7,685\n5128 Wild Thing 6.5/10\n105,956\n5129 ///If one  6.3/10\n50,221\n5130 The movie  5.7/10\n1,648\n5131 ... his ve 5.5/10\n2,664\n5132 ///Sequel  4.4/10\n5,608\n5133 I'm wonder 5.4/10\n24,580\n5134  \n5135  \n5136  \n5137  \n5138  \n5139  \n5140  \n5141  \n5142  \n5143  \n5144  \n5145  \n5146  \n5147  \n5148  \n5149  \n5150  \n5151  \n5152  \n5153  \n5154  \n5155  \n5156  \n5157  \n5158  \n5159  \n5160  \n5161  \n5162  \n5163  \n5164  \n5165  \n5166  \n5167  \n5168  \n5169  \n5170  \n5171  \n5172  \n5173  \n5174  \n5175  \n5176  \n5177  \n5178  \n5179  \n5180  \n5181  \n5182  \n5183  \n5184  \n5185  \n5186  \n5187  \n5188  \n5189  \n5190  \n5191  \n5192  \n5193  \n5194  \n5195  \n5196  \n5197  \n5198  \n5199  \n5200  \n5201  \n5202  \n5203  \n5204  \n5205  \n5206  \n5207  \n5208  \n5209  \n5210  \n5211  \n5212  \n5213  \n5214  \n5215  \n5216  \n5217  \n5218  \n5219  \n5220  \n5221  \n5222  \n5223  \n5224  \n5225  \n5226  \n5227  \n5228  \n5229  \n5230  \n5231  \n5232  \n5233  \n5234  \n5235  \n5236  \n5237  \n5238  \n5239  \n5240  \n5241  \n5242  \n5243  \n5244  \n5245  \n5246  \n5247  \n5248  \n5249  \n5250  \n5251  \n5252  \n5253  \n5254  \n5255  \n5256  \n5257  \n5258  \n5259  \n5260  \n5261  \n5262  \n5263  \n5264  \n5265  \n5266  \n5267  \n5268  \n5269  \n5270  \n5271  \n5272  \n5273  \n5274  \n5275  \n5276  \n5277  \n5278  \n5279  \n5280  \n5281  \n5282  \n5283  \n5284  \n5285  \n5286  \n5287  \n5288  \n5289  \n5290  \n5291  \n5292  \n5293  \n5294  \n5295  \n5296  \n5297  \n5298  \n5299  \n5300  \n5301  \n5302  \n5303  \n5304  \n5305  \n5306  \n5307  \n5308  \n5309  \n5310  \n5311  \n5312  \n5313  \n5314  \n5315  \n5316  \n5317  \n5318  \n5319  \n5320  \n5321  \n5322  \n5323  \n5324  \n5325  \n5326  \n5327  \n5328  \n5329  \n5330  \n5331  \n5332  \n5333  \n5334  \n5335  \n5336  \n5337  \n5338  \n5339  \n5340  \n5341  \n5342  \n5343  \n5344  \n5345  \n5346  \n5347  \n5348  \n5349  \n5350  \n5351  \n5352  \n5353  \n5354  \n5355  \n5356  \n5357  \n5358  \n5359  \n5360  \n5361  \n5362  \n5363  \n5364  \n5365  \n5366  \n5367  \n5368  \n5369  \n5370  \n5371  \n5372  \n5373  \n5374  \n5375  \n5376  \n5377  \n5378  \n5379  \n5380  \n5381  \n5382  \n5383  \n5384  \n5385  \n5386  \n5387  \n5388  \n5389  \n5390  \n5391  \n5392  \n5393  \n5394  \n5395  \n5396  \n5397  \n5398  \n5399  \n5400  \n5401  \n5402  \n5403  \n5404  \n5405  \n5406  \n5407  \n5408  \n5409  \n5410  \n5411  \n5412  \n5413  \n5414  \n5415  \n5416  \n5417  \n5418  \n5419  \n5420  \n5421  \n5422  \n5423  \n5424  \n5425  \n5426  \n5427  \n5428  \n5429  \n5430  \n5431  \n5432  \n5433  \n5434  \n5435  \n5436  \n5437  \n5438  \n5439  \n5440\n5441  \n5442  \n5443  \n5444  \n5445  \n5446  \n5447  \n5448  \n5449  \n5450  \n5451  \n5452  \n5453  \n5454  \n5455  \n5456  \n5457  \n5458  \n5459  \n5460  \n5461  \n5462  \n5463  \n5464  \n5465  \n5466  \n5467  \n5468  \n5469  \n5470  \n5471  \n5472  \n5473  \n5474  \n5475  \n5476  \n5477  \n5478  \n5479  \n5480  \n5481  \n5482  \n5483  \n5484  \n5485  \n5486  \n5487  \n5488  \n5489  \n5490  \n5491  \n5492  \n5493  \n5494  \n5495  \n5496  \n5497  \n5498  \n5499  \n5500  \n5501  \n5502  \n5503  \n5504  \n5505  \n5506  \n5507  \n5508  \n5509  \n5510  \n5511  \n5512  \n5513  \n5514  \n5515  \n5516  \n5517  \n5518  \n5519  \n5520  \n5521  \n5522  \n5523  \n5524  \n5525  \n5526  \n5527  \n5528  \n5529  \n5530  \n5531  \n5532  \n5533  \n5534  \n5535  \n5536  \n5537  \n5538  \n5539  \n5540  \n5541  \n5542  \n5543  \n5544  \n5545  \n5546  \n5547  \n5548  \n5549  \n5550  \n5551  \n5552  \n5553  \n5554  \n5555  \n5556  \n5557  \n5558  \n5559  \n5560  \n5561  \n5562  \n5563  \n5564  \n5565  \n5566  \n5567  \n5568  \n5569  \n5570  \n5571  \n5572  \n5573  \n5574  \n5575  \n5576  \n5577  \n5578  \n5579  \n5580  \n5581  \n5582  \n5583  \n5584  \n5585  \n5586  \n5587  \n5588  \n5589  \n5590  \n5591  \n5592  \n5593  \n5594  \n5595  \n5596  \n5597  \n5598  \n5599  \n5600  \n5601  \n5602  \n5603  \n5604  \n5605  \n5606  \n5607  \n5608  \n5609  \n5610  \n5611  \n5612  \n5613  \n5614  \n5615  \n5616  \n5617  \n5618  \n5619  \n5620  \n5621  \n5622  \n5623  \n5624  \n5625  \n5626  \n5627  \n5628  \n5629  \n5630  \n5631  \n5632  \n5633  \n5634  \n5635  \n5636  \n5637  \n5638  \n5639  \n5640  \n5641  \n5642  \n5643  \n5644  \n5645  \n5646  \n5647  \n5648  \n5649  \n5650  \n5651  \n5652  \n5653  \n5654  \n5655  \n5656  \n5657  \n5658  \n5659  \n5660  \n5661  \n5662  \n5663  \n5664  \n5665  \n5666  \n5667  \n5668  \n5669  \n5670  \n5671  \n5672  \n5673  \n5674  \n5675  \n5676  \n5677  \n5678  \n5679  \n5680  \n5681  \n5682  \n5683  \n5684  \n5685  \n5686  \n5687  \n5688  \n5689  \n5690  \n5691  \n5692  \n5693  \n5694  \n5695  \n5696  \n5697  \n5698  \n5699  \n5700  \n5701  \n5702  \n5703  \n5704  \n5705  \n5706  \n5707  \n5708  \n5709  \n5710  \n5711  \n5712  \n5713  \n5714  \n5715  \n5716  \n5717  \n5718  \n5719  \n5720  \n5721  \n5722  \n5723  \n5724  \n5725  \n5726  \n5727  \n5728  \n5729  \n5730  \n5731  \n5732  \n5733  \n5734  \n5735  \n5736  \n5737  \n5738  \n5739  \n5740  \n5741  \n5742  \n5743  \n5744  \n5745  \n5746  \n5747  \n5748  \n5749  \n5750  \n5751  \n5752  \n5753  \n5754  \n5755  \n5756  \n5757  \n5758  \n5759  \n5760  \n5761  \n5762  \n5763  \n5764  \n5765  \n5766  \n5767  \n5768  \n5769  \n5770  \n5771  \n5772  \n5773  \n5774  \n5775  \n5776  \n5777  \n5778  \n5779  \n5780  \n5781  \n5782  \n5783  \n5784  \n5785  \n5786  \n5787  \n5788  \n5789  \n5790  \n5791  \n5792  \n5793  \n5794  \n5795  \n5796  \n5797  \n5798  \n5799  \n5800  \n5801  \n5802  \n5803  \n5804  \n5805  \n5806  \n5807  \n5808  \n5809  \n5810  \n5811  \n5812  \n5813  \n5814  \n5815  \n5816  \n5817  \n5818  \n5819  \n5820  \n5821  \n5822  \n5823  \n5824  \n5825  \n"
    }
   ],
   "source": [
    "cnt = 0\n",
    "for name in names:\n",
    "    find(name)\n",
    "    cnt +=1\n",
    "    print(cnt, reviews[-1][:10], rates[-1])\n"
   ]
  },
  {
   "cell_type": "code",
   "execution_count": 43,
   "metadata": {},
   "outputs": [],
   "source": [
    "data = pd.DataFrame({'영화명EN':names[:len(reviews)], '리뷰':reviews, '평점':rates})\n",
    "data.to_excel(\"1970_2019_review_en.xlsx\", index=False)"
   ]
  },
  {
   "cell_type": "code",
   "execution_count": 37,
   "metadata": {},
   "outputs": [
    {
     "output_type": "execute_result",
     "data": {
      "text/plain": "              영화명EN                                                 리뷰  \\\n0  Think Like a Dog  Decent kids movie,predictable,somewhat forced ...   \n1   The New Mutants                                                      \n2             Drive  ///One reviewer here suggested that instead of...   \n3  Jurassic Thunder  ....but then again, did you expect an award wi...   \n4     Sea Monsters2  Loose plot with no content. The story is vauge...   \n5          Unhinged  Ok, so I'm a fan of Russell Crowe. He has done...   \n6             Mulan                                                      \n7       JOJO RABBIT  This film was exceptional and one of the best ...   \n8         Killerman  Strong performances, intimidating villains, cl...   \n9             Tenet                                                      \n\n                평점  \n0      5.1/10\\n646  \n1                   \n2  7.8/10\\n557,699  \n3      1.9/10\\n140  \n4       3.7/10\\n30  \n5    6.2/10\\n2,728  \n6                   \n7  7.9/10\\n248,630  \n8    5.4/10\\n3,142  \n9                   ",
      "text/html": "<div>\n<style scoped>\n    .dataframe tbody tr th:only-of-type {\n        vertical-align: middle;\n    }\n\n    .dataframe tbody tr th {\n        vertical-align: top;\n    }\n\n    .dataframe thead th {\n        text-align: right;\n    }\n</style>\n<table border=\"1\" class=\"dataframe\">\n  <thead>\n    <tr style=\"text-align: right;\">\n      <th></th>\n      <th>영화명EN</th>\n      <th>리뷰</th>\n      <th>평점</th>\n    </tr>\n  </thead>\n  <tbody>\n    <tr>\n      <th>0</th>\n      <td>Think Like a Dog</td>\n      <td>Decent kids movie,predictable,somewhat forced ...</td>\n      <td>5.1/10\\n646</td>\n    </tr>\n    <tr>\n      <th>1</th>\n      <td>The New Mutants</td>\n      <td></td>\n      <td></td>\n    </tr>\n    <tr>\n      <th>2</th>\n      <td>Drive</td>\n      <td>///One reviewer here suggested that instead of...</td>\n      <td>7.8/10\\n557,699</td>\n    </tr>\n    <tr>\n      <th>3</th>\n      <td>Jurassic Thunder</td>\n      <td>....but then again, did you expect an award wi...</td>\n      <td>1.9/10\\n140</td>\n    </tr>\n    <tr>\n      <th>4</th>\n      <td>Sea Monsters2</td>\n      <td>Loose plot with no content. The story is vauge...</td>\n      <td>3.7/10\\n30</td>\n    </tr>\n    <tr>\n      <th>5</th>\n      <td>Unhinged</td>\n      <td>Ok, so I'm a fan of Russell Crowe. He has done...</td>\n      <td>6.2/10\\n2,728</td>\n    </tr>\n    <tr>\n      <th>6</th>\n      <td>Mulan</td>\n      <td></td>\n      <td></td>\n    </tr>\n    <tr>\n      <th>7</th>\n      <td>JOJO RABBIT</td>\n      <td>This film was exceptional and one of the best ...</td>\n      <td>7.9/10\\n248,630</td>\n    </tr>\n    <tr>\n      <th>8</th>\n      <td>Killerman</td>\n      <td>Strong performances, intimidating villains, cl...</td>\n      <td>5.4/10\\n3,142</td>\n    </tr>\n    <tr>\n      <th>9</th>\n      <td>Tenet</td>\n      <td></td>\n      <td></td>\n    </tr>\n  </tbody>\n</table>\n</div>"
     },
     "metadata": {},
     "execution_count": 37
    }
   ],
   "source": [
    "data[:10]"
   ]
  },
  {
   "cell_type": "code",
   "execution_count": 35,
   "metadata": {},
   "outputs": [
    {
     "output_type": "execute_result",
     "data": {
      "text/plain": "                    영화명EN                                                 리뷰\n0        Think Like a Dog  Decent kids movie,predictable,somewhat forced ...\n1         The New Mutants                                                   \n2                   Drive  ///One reviewer here suggested that instead of...\n3        Jurassic Thunder  ....but then again, did you expect an award wi...\n4           Sea Monsters2  Loose plot with no content. The story is vauge...\n5                Unhinged  Ok, so I'm a fan of Russell Crowe. He has done...\n6                   Mulan                                                   \n7             JOJO RABBIT  This film was exceptional and one of the best ...\n8               Killerman  Strong performances, intimidating villains, cl...\n9                   Tenet                                                   \n10  John Wick Chapter Two  In this 2nd installment of John Wick, the styl...",
      "text/html": "<div>\n<style scoped>\n    .dataframe tbody tr th:only-of-type {\n        vertical-align: middle;\n    }\n\n    .dataframe tbody tr th {\n        vertical-align: top;\n    }\n\n    .dataframe thead th {\n        text-align: right;\n    }\n</style>\n<table border=\"1\" class=\"dataframe\">\n  <thead>\n    <tr style=\"text-align: right;\">\n      <th></th>\n      <th>영화명EN</th>\n      <th>리뷰</th>\n    </tr>\n  </thead>\n  <tbody>\n    <tr>\n      <th>0</th>\n      <td>Think Like a Dog</td>\n      <td>Decent kids movie,predictable,somewhat forced ...</td>\n    </tr>\n    <tr>\n      <th>1</th>\n      <td>The New Mutants</td>\n      <td></td>\n    </tr>\n    <tr>\n      <th>2</th>\n      <td>Drive</td>\n      <td>///One reviewer here suggested that instead of...</td>\n    </tr>\n    <tr>\n      <th>3</th>\n      <td>Jurassic Thunder</td>\n      <td>....but then again, did you expect an award wi...</td>\n    </tr>\n    <tr>\n      <th>4</th>\n      <td>Sea Monsters2</td>\n      <td>Loose plot with no content. The story is vauge...</td>\n    </tr>\n    <tr>\n      <th>5</th>\n      <td>Unhinged</td>\n      <td>Ok, so I'm a fan of Russell Crowe. He has done...</td>\n    </tr>\n    <tr>\n      <th>6</th>\n      <td>Mulan</td>\n      <td></td>\n    </tr>\n    <tr>\n      <th>7</th>\n      <td>JOJO RABBIT</td>\n      <td>This film was exceptional and one of the best ...</td>\n    </tr>\n    <tr>\n      <th>8</th>\n      <td>Killerman</td>\n      <td>Strong performances, intimidating villains, cl...</td>\n    </tr>\n    <tr>\n      <th>9</th>\n      <td>Tenet</td>\n      <td></td>\n    </tr>\n    <tr>\n      <th>10</th>\n      <td>John Wick Chapter Two</td>\n      <td>In this 2nd installment of John Wick, the styl...</td>\n    </tr>\n  </tbody>\n</table>\n</div>"
     },
     "metadata": {},
     "execution_count": 35
    }
   ],
   "source": [
    "data"
   ]
  },
  {
   "cell_type": "code",
   "execution_count": null,
   "metadata": {},
   "outputs": [],
   "source": []
  }
 ]
}