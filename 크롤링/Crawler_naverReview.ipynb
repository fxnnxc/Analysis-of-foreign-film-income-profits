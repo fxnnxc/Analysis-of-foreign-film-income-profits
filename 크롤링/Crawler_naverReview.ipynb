{
 "metadata": {
  "language_info": {
   "codemirror_mode": {
    "name": "ipython",
    "version": 3
   },
   "file_extension": ".py",
   "mimetype": "text/x-python",
   "name": "python",
   "nbconvert_exporter": "python",
   "pygments_lexer": "ipython3",
   "version": "3.7.4-final"
  },
  "orig_nbformat": 2,
  "kernelspec": {
   "name": "python_defaultSpec_1598372885747",
   "display_name": "Python 3.7.4 64-bit ('base': conda)"
  }
 },
 "nbformat": 4,
 "nbformat_minor": 2,
 "cells": [
  {
   "cell_type": "code",
   "execution_count": 1,
   "metadata": {
    "tags": []
   },
   "outputs": [
    {
     "output_type": "stream",
     "name": "stdout",
     "text": "Requirement already satisfied: selenium in c:\\users\\beomj\\anaconda3\\lib\\site-packages (3.141.0)\nRequirement already satisfied: urllib3 in c:\\users\\beomj\\anaconda3\\lib\\site-packages (from selenium) (1.25.9)\nRequirement already satisfied: webdriver-manager in c:\\users\\beomj\\anaconda3\\lib\\site-packages (3.2.1)\nRequirement already satisfied: configparser in c:\\users\\beomj\\anaconda3\\lib\\site-packages (from webdriver-manager) (5.0.0)\nRequirement already satisfied: requests in c:\\users\\beomj\\anaconda3\\lib\\site-packages (from webdriver-manager) (2.24.0)\nRequirement already satisfied: crayons in c:\\users\\beomj\\anaconda3\\lib\\site-packages (from webdriver-manager) (0.3.1)\nRequirement already satisfied: certifi>=2017.4.17 in c:\\users\\beomj\\anaconda3\\lib\\site-packages (from requests->webdriver-manager) (2020.6.20)\nRequirement already satisfied: idna<3,>=2.5 in c:\\users\\beomj\\anaconda3\\lib\\site-packages (from requests->webdriver-manager) (2.10)\nRequirement already satisfied: urllib3!=1.25.0,!=1.25.1,<1.26,>=1.21.1 in c:\\users\\beomj\\anaconda3\\lib\\site-packages (from requests->webdriver-manager) (1.25.9)\nRequirement already satisfied: chardet<4,>=3.0.2 in c:\\users\\beomj\\anaconda3\\lib\\site-packages (from requests->webdriver-manager) (3.0.4)\nRequirement already satisfied: colorama in c:\\users\\beomj\\anaconda3\\lib\\site-packages (from crayons->webdriver-manager) (0.4.3)\n"
    }
   ],
   "source": [
    "!pip install selenium\n",
    "!pip install webdriver-manager"
   ]
  },
  {
   "cell_type": "code",
   "execution_count": 87,
   "metadata": {},
   "outputs": [],
   "source": [
    "import pandas as pd\n",
    "from selenium import webdriver\n",
    "from webdriver_manager.chrome import ChromeDriverManager\n",
    "import time\n",
    "import requests\n",
    "from bs4 import BeautifulSoup\n",
    "from selenium import webdriver\n",
    "from selenium.common import exceptions\n",
    "from tqdm import tqdm\n",
    "import numpy as np"
   ]
  },
  {
   "cell_type": "code",
   "execution_count": 88,
   "metadata": {},
   "outputs": [],
   "source": [
    "df = pd.read_excel(\"1970_2019_영화.xlsx\")\n",
    "names = df.movieNm\n",
    "years = df.prdtYear"
   ]
  },
  {
   "cell_type": "code",
   "execution_count": 89,
   "metadata": {
    "tags": []
   },
   "outputs": [
    {
     "output_type": "stream",
     "name": "stderr",
     "text": "[WDM] - Current google-chrome version is 84.0.4147\n[WDM] - Get LATEST driver version for 84.0.4147\n[WDM] - Driver [C:\\Users\\beomj\\.wdm\\drivers\\chromedriver\\win32\\84.0.4147.30\\chromedriver.exe] found in cache\n \n"
    }
   ],
   "source": [
    "addr = \"https://movie.naver.com/movie/bi/mi/basic.nhn?code=149236\" \n",
    "\n",
    "driver = webdriver.Chrome(ChromeDriverManager().install())\n",
    "driver.get(addr)"
   ]
  },
  {
   "cell_type": "code",
   "execution_count": 90,
   "metadata": {},
   "outputs": [],
   "source": [
    "def find(name, year):\n",
    "    stories = []\n",
    "    rates = []\n",
    "    reviews = []\n",
    "    try:\n",
    "        temp = driver.find_element_by_class_name(\"ipt_tx_srch\")\n",
    "        temp.send_keys(name)\n",
    "        driver.find_element_by_class_name(\"btn_srch\").click()\n",
    "        time.sleep(1)\n",
    "        temp = driver.find_element_by_class_name(\"search_list_1\")\n",
    "        time.sleep(1)\n",
    "        temp = temp.find_elements_by_tag_name(\"li\")\n",
    "        found =False\n",
    "        for i in temp:\n",
    "            if year in i.text:\n",
    "                found =True\n",
    "                temp = i.find_element_by_tag_name(\"dt\")\n",
    "                temp = temp.find_element_by_tag_name(\"a\").click()\n",
    "                temp = driver.find_element_by_class_name(\"story_area\")\n",
    "                break\n",
    "        if not found:\n",
    "            for i in temp:\n",
    "                if str(int(year)-1) in i.text or str(int(year)+1) in i.text :\n",
    "                    found =True\n",
    "                    temp = i.find_element_by_tag_name(\"dt\")\n",
    "                    temp = temp.find_element_by_tag_name(\"a\").click()\n",
    "                    temp = driver.find_element_by_class_name(\"story_area\")\n",
    "                    break\n",
    "        stories.append(temp.text)\n",
    "\n",
    "        try:\n",
    "            temp = driver.find_element_by_id(\"movieEndTabMenu\")\n",
    "            temp.find_element_by_link_text(\"평점\").click()\n",
    "            time.sleep(0.5)\n",
    "            temp = driver.find_element_by_id(\"netizen_point_tab_inner\")\n",
    "            rates.append(temp.text)\n",
    "        except:\n",
    "            rates.append(\"\")    \n",
    "        \n",
    "        try:\n",
    "            total = []\n",
    "            for i in range(1, 50):\n",
    "                driver.switch_to_default_content()\n",
    "                driver.switch_to_frame('pointAfterListIframe')\n",
    "                try:\n",
    "                    if i != 1:\n",
    "                        driver.find_element_by_id(\"pagerTagAnchor\"+str(i)).click()\n",
    "                        time.sleep(0.3)\n",
    "                except:\n",
    "                    break\n",
    "                html = driver.page_source\n",
    "                soup = BeautifulSoup(html, 'html.parser')\n",
    "\n",
    "                content_list = soup.find(\"div\", class_ = \"score_result\").find_all('li')\n",
    "                try:\n",
    "                    for li in content_list :\n",
    "                        temp_review = li.find(\"div\", class_ = \"score_reple\").find(\"p\").get_text()\n",
    "                        total.append(temp_review.strip())\n",
    "                except:\n",
    "                    pass\n",
    "            total = \"///\".join(total)\n",
    "            total = total.replace(\"\\n\", \"\")\n",
    "            total = total.replace(\"\\t\", \"\")\n",
    "            total = total.replace(\"관람객\", \"\")\n",
    "            total = total.replace(\"스포일러가 포함된 감상평입니다. 감상평 보기\", \"\")\n",
    "            reviews.append(total)\n",
    "        except:\n",
    "            reviews.append(\"\")\n",
    "    except:\n",
    "        stories.append(\"\")\n",
    "        rates.append(\"\")\n",
    "        reviews.append(\"\")\n",
    "        \n",
    "        addr = \"https://movie.naver.com/movie/bi/mi/basic.nhn?code=149236\" \n",
    "        driver.get(addr)\n",
    "    addr = \"https://movie.naver.com/movie/bi/mi/basic.nhn?code=149236\" \n",
    "    driver.get(addr)\n",
    "    return stories, rates, reviews"
   ]
  },
  {
   "cell_type": "code",
   "execution_count": 98,
   "metadata": {},
   "outputs": [
    {
     "output_type": "execute_result",
     "data": {
      "text/plain": "       영화명   스토리    평점    리뷰\n0   지니어스 독  None  None  None\n1    뉴 뮤턴트  None  None  None\n2     드라이브  None  None  None\n3   쥬라기 썬더  None  None  None\n4  바다 몬스터2  None  None  None",
      "text/html": "<div>\n<style scoped>\n    .dataframe tbody tr th:only-of-type {\n        vertical-align: middle;\n    }\n\n    .dataframe tbody tr th {\n        vertical-align: top;\n    }\n\n    .dataframe thead th {\n        text-align: right;\n    }\n</style>\n<table border=\"1\" class=\"dataframe\">\n  <thead>\n    <tr style=\"text-align: right;\">\n      <th></th>\n      <th>영화명</th>\n      <th>스토리</th>\n      <th>평점</th>\n      <th>리뷰</th>\n    </tr>\n  </thead>\n  <tbody>\n    <tr>\n      <th>0</th>\n      <td>지니어스 독</td>\n      <td>None</td>\n      <td>None</td>\n      <td>None</td>\n    </tr>\n    <tr>\n      <th>1</th>\n      <td>뉴 뮤턴트</td>\n      <td>None</td>\n      <td>None</td>\n      <td>None</td>\n    </tr>\n    <tr>\n      <th>2</th>\n      <td>드라이브</td>\n      <td>None</td>\n      <td>None</td>\n      <td>None</td>\n    </tr>\n    <tr>\n      <th>3</th>\n      <td>쥬라기 썬더</td>\n      <td>None</td>\n      <td>None</td>\n      <td>None</td>\n    </tr>\n    <tr>\n      <th>4</th>\n      <td>바다 몬스터2</td>\n      <td>None</td>\n      <td>None</td>\n      <td>None</td>\n    </tr>\n  </tbody>\n</table>\n</div>"
     },
     "metadata": {},
     "execution_count": 98
    }
   ],
   "source": [
    "data = pd.DataFrame({'영화명':names})\n",
    "data['스토리'] = None\n",
    "data['평점'] = None\n",
    "data['리뷰'] = None\n",
    "data.head()"
   ]
  },
  {
   "cell_type": "code",
   "execution_count": 99,
   "metadata": {
    "tags": []
   },
   "outputs": [
    {
     "output_type": "stream",
     "name": "stderr",
     "text": "100%|██████████| 1825/1825 [7:39:08<00:00, 15.10s/it]\n"
    }
   ],
   "source": [
    "start = 4000\n",
    "end = len(df)\n",
    "for i in tqdm(range(start, end)):\n",
    "    if data.loc[i, '스토리'] is None:\n",
    "        try:\n",
    "            year = str(int(years[i]))\n",
    "        except:\n",
    "            year = 0\n",
    "        name = names[i]\n",
    "        s,r,re = find(name, year)\n",
    "        data.loc[i,'스토리'] =s[0]  \n",
    "        data.loc[i, '평점']  =r[0]  \n",
    "        data.loc[i, '리뷰']  =re[0]  "
   ]
  },
  {
   "cell_type": "code",
   "execution_count": 100,
   "metadata": {},
   "outputs": [],
   "source": [
    "data.to_excel(\"1970_2019_naver\"+str(start)+\"_\"+str(end)+\".xlsx\", index=False)"
   ]
  },
  {
   "cell_type": "code",
   "execution_count": 109,
   "metadata": {},
   "outputs": [
    {
     "output_type": "execute_result",
     "data": {
      "text/plain": "                   영화명                                                스토리  \\\n4000          블라이가의 미로  줄거리\\n대학을 졸업하고 직장을 찾던 제니(Jenny: 팻시 켄싯 분)는 쿠퍼(Mr...   \n4001           노 임팩트 맨  줄거리\\n작가이자 환경운동가인 ‘콜린’은 1년간 가족과 함께 지구에 무해(無害)한 ...   \n4002  오페라- 햄릿 (메트로폴리탄)                                                      \n4003             A-특공대  줄거리\\n최고의 실력을 자랑하던 특공대가 돌연 자취를 감춘 지 1년. 누구도 해결할...   \n4004       섹스 앤 더 시티 2  줄거리\\n더 화려하게 더 당당하게\\n캐리(사라 제시카 파커)가 오랜 연인이었던 빅과...   \n...                ...                                                ...   \n5820             한나스 워  줄거리\\n1921년 부다페스트에서 저명한 극작가의 딸로 태어난 한나(Hanna: 마...   \n5821         핫스 오브 화이어                                                      \n5822               핫타켓                                                      \n5823             햄버거 힐  줄거리\\n{제101공수부대(Troops Of The 101st Airborne Di...   \n5824     헐크호건의 죽느냐 사느냐                                                      \n\n        평점                                                 리뷰  \n4000                                                           \n4001  8.72  노 임팩트맨 책을 읽고 보는데 저희에게 큰 임팩트를 주는 것 같아요. 정치인을 좋은...  \n4002                                                           \n4003  8.93  이도 저도 아닌 어중간한 영화를 만들바엔 차라리 이렇게 만들어야한다///기승전결이 ...  \n4004  7.75  된장녀라 사치녀라 불려도 내겐 부럽고 멋있는 여성들의 스토리를 담은 최고의 드라마/...  \n...    ...                                                ...  \n5820  9.39  좀 오래된 영화이지만 명작하라 하기엔 충분하다///내가 본 최고의 명화이지만 찾아보...  \n5821                                                           \n5822                                                           \n5823                                                           \n5824                                                           \n\n[1825 rows x 4 columns]",
      "text/html": "<div>\n<style scoped>\n    .dataframe tbody tr th:only-of-type {\n        vertical-align: middle;\n    }\n\n    .dataframe tbody tr th {\n        vertical-align: top;\n    }\n\n    .dataframe thead th {\n        text-align: right;\n    }\n</style>\n<table border=\"1\" class=\"dataframe\">\n  <thead>\n    <tr style=\"text-align: right;\">\n      <th></th>\n      <th>영화명</th>\n      <th>스토리</th>\n      <th>평점</th>\n      <th>리뷰</th>\n    </tr>\n  </thead>\n  <tbody>\n    <tr>\n      <th>4000</th>\n      <td>블라이가의 미로</td>\n      <td>줄거리\\n대학을 졸업하고 직장을 찾던 제니(Jenny: 팻시 켄싯 분)는 쿠퍼(Mr...</td>\n      <td></td>\n      <td></td>\n    </tr>\n    <tr>\n      <th>4001</th>\n      <td>노 임팩트 맨</td>\n      <td>줄거리\\n작가이자 환경운동가인 ‘콜린’은 1년간 가족과 함께 지구에 무해(無害)한 ...</td>\n      <td>8.72</td>\n      <td>노 임팩트맨 책을 읽고 보는데 저희에게 큰 임팩트를 주는 것 같아요. 정치인을 좋은...</td>\n    </tr>\n    <tr>\n      <th>4002</th>\n      <td>오페라- 햄릿 (메트로폴리탄)</td>\n      <td></td>\n      <td></td>\n      <td></td>\n    </tr>\n    <tr>\n      <th>4003</th>\n      <td>A-특공대</td>\n      <td>줄거리\\n최고의 실력을 자랑하던 특공대가 돌연 자취를 감춘 지 1년. 누구도 해결할...</td>\n      <td>8.93</td>\n      <td>이도 저도 아닌 어중간한 영화를 만들바엔 차라리 이렇게 만들어야한다///기승전결이 ...</td>\n    </tr>\n    <tr>\n      <th>4004</th>\n      <td>섹스 앤 더 시티 2</td>\n      <td>줄거리\\n더 화려하게 더 당당하게\\n캐리(사라 제시카 파커)가 오랜 연인이었던 빅과...</td>\n      <td>7.75</td>\n      <td>된장녀라 사치녀라 불려도 내겐 부럽고 멋있는 여성들의 스토리를 담은 최고의 드라마/...</td>\n    </tr>\n    <tr>\n      <th>...</th>\n      <td>...</td>\n      <td>...</td>\n      <td>...</td>\n      <td>...</td>\n    </tr>\n    <tr>\n      <th>5820</th>\n      <td>한나스 워</td>\n      <td>줄거리\\n1921년 부다페스트에서 저명한 극작가의 딸로 태어난 한나(Hanna: 마...</td>\n      <td>9.39</td>\n      <td>좀 오래된 영화이지만 명작하라 하기엔 충분하다///내가 본 최고의 명화이지만 찾아보...</td>\n    </tr>\n    <tr>\n      <th>5821</th>\n      <td>핫스 오브 화이어</td>\n      <td></td>\n      <td></td>\n      <td></td>\n    </tr>\n    <tr>\n      <th>5822</th>\n      <td>핫타켓</td>\n      <td></td>\n      <td></td>\n      <td></td>\n    </tr>\n    <tr>\n      <th>5823</th>\n      <td>햄버거 힐</td>\n      <td>줄거리\\n{제101공수부대(Troops Of The 101st Airborne Di...</td>\n      <td></td>\n      <td></td>\n    </tr>\n    <tr>\n      <th>5824</th>\n      <td>헐크호건의 죽느냐 사느냐</td>\n      <td></td>\n      <td></td>\n      <td></td>\n    </tr>\n  </tbody>\n</table>\n<p>1825 rows × 4 columns</p>\n</div>"
     },
     "metadata": {},
     "execution_count": 109
    }
   ],
   "source": [
    "data[4000:]"
   ]
  },
  {
   "cell_type": "code",
   "execution_count": null,
   "metadata": {},
   "outputs": [],
   "source": []
  }
 ]
}