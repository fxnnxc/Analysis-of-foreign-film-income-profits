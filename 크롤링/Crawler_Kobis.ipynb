{
 "metadata": {
  "language_info": {
   "codemirror_mode": {
    "name": "ipython",
    "version": 3
   },
   "file_extension": ".py",
   "mimetype": "text/x-python",
   "name": "python",
   "nbconvert_exporter": "python",
   "pygments_lexer": "ipython3",
   "version": "3.7.4-final"
  },
  "orig_nbformat": 2,
  "kernelspec": {
   "name": "python_defaultSpec_1598583246999",
   "display_name": "Python 3.7.4 64-bit ('base': conda)"
  }
 },
 "nbformat": 4,
 "nbformat_minor": 2,
 "cells": [
  {
   "cell_type": "code",
   "execution_count": 2,
   "metadata": {
    "tags": []
   },
   "outputs": [
    {
     "output_type": "stream",
     "name": "stdout",
     "text": "Requirement already satisfied: selenium in c:\\users\\beomj\\anaconda3\\lib\\site-packages (3.141.0)\nRequirement already satisfied: urllib3 in c:\\users\\beomj\\anaconda3\\lib\\site-packages (from selenium) (1.25.9)\nRequirement already satisfied: webdriver-manager in c:\\users\\beomj\\anaconda3\\lib\\site-packages (3.2.1)\nRequirement already satisfied: requests in c:\\users\\beomj\\anaconda3\\lib\\site-packages (from webdriver-manager) (2.24.0)\nRequirement already satisfied: configparser in c:\\users\\beomj\\anaconda3\\lib\\site-packages (from webdriver-manager) (5.0.0)\nRequirement already satisfied: crayons in c:\\users\\beomj\\anaconda3\\lib\\site-packages (from webdriver-manager) (0.3.1)\nRequirement already satisfied: idna<3,>=2.5 in c:\\users\\beomj\\anaconda3\\lib\\site-packages (from requests->webdriver-manager) (2.10)\nRequirement already satisfied: chardet<4,>=3.0.2 in c:\\users\\beomj\\anaconda3\\lib\\site-packages (from requests->webdriver-manager) (3.0.4)\nRequirement already satisfied: urllib3!=1.25.0,!=1.25.1,<1.26,>=1.21.1 in c:\\users\\beomj\\anaconda3\\lib\\site-packages (from requests->webdriver-manager) (1.25.9)\nRequirement already satisfied: certifi>=2017.4.17 in c:\\users\\beomj\\anaconda3\\lib\\site-packages (from requests->webdriver-manager) (2020.6.20)\nRequirement already satisfied: colorama in c:\\users\\beomj\\anaconda3\\lib\\site-packages (from crayons->webdriver-manager) (0.4.3)\n"
    }
   ],
   "source": [
    "!pip install selenium\n",
    "!pip install webdriver-manager"
   ]
  },
  {
   "cell_type": "code",
   "execution_count": 2,
   "metadata": {},
   "outputs": [],
   "source": [
    "import pandas as pd\n",
    "from selenium import webdriver\n",
    "from webdriver_manager.chrome import ChromeDriverManager\n",
    "import time\n",
    "\n",
    "from bs4 import BeautifulSoup\n",
    "from selenium import webdriver\n",
    "from selenium.common import exceptions\n",
    "from tqdm import tqdm"
   ]
  },
  {
   "cell_type": "code",
   "execution_count": 3,
   "metadata": {},
   "outputs": [
    {
     "output_type": "execute_result",
     "data": {
      "text/plain": "    movieCd  movieNm         movieNmEn  showTm  prdtYear    openDt prdtStatNm  \\\n0  20203303   지니어스 독  Think Like a Dog    90.0    2020.0  20200916       개봉예정   \n1  20175405    뉴 뮤턴트   The New Mutants    98.0    2018.0  20200903       개봉예정   \n2  20112692     드라이브             Drive   100.0    2011.0  20111117         개봉   \n3  20205511   쥬라기 썬더  Jurassic Thunder    84.0    2019.0  20200923       개봉예정   \n4  20203043  바다 몬스터2     Sea Monsters2    87.0    2018.0  20200812         개봉   \n\n         genres   directors                      actors showTypes  \\\n0       코미디,드라마        길 정거      메간 폭스,조쉬 더하멜,가브리엘 베이트먼        2D   \n1  액션,공포(호러),SF        조쉬 분  메이지 윌리암스,안야 테일러 조이,앨리스 브라가        2D   \n2     액션,멜로/로맨스  니콜라스 윈딩 레픈              라이언 고슬링,캐리 멀리건     필름,2D   \n3         액션,SF         NaN                         NaN        2D   \n4         애니메이션      에반 트라멜                     서반석,석승훈     2D,2D   \n\n            audits     Domestic       Budget   Distributor  \\\n0         12세이상관람가            -          NaN           NaN   \n1              NaN          NaN          NaN           NaN   \n2  청소년관람불가,청소년관람불가  $35,061,555  $15,000,000  FilmDistrict   \n3         15세이상관람가          NaN          NaN           NaN   \n4            전체관람가          NaN          NaN           NaN   \n\n                                              review MPAA        stats raters  \\\n0                                                NaN   12          NaN    667   \n1                                                NaN  NaN          NaN    NaN   \n2                                                NaN  NaN  144975500.0    NaN   \n3  ....but then again, did you expect an award wi...   15          NaN    142   \n4  Loose plot with no content. The story is vauge...  NaN       5000.0     30   \n\n   ratings  \n0      5.1  \n1      NaN  \n2      NaN  \n3      1.9  \n4      3.7  ",
      "text/html": "<div>\n<style scoped>\n    .dataframe tbody tr th:only-of-type {\n        vertical-align: middle;\n    }\n\n    .dataframe tbody tr th {\n        vertical-align: top;\n    }\n\n    .dataframe thead th {\n        text-align: right;\n    }\n</style>\n<table border=\"1\" class=\"dataframe\">\n  <thead>\n    <tr style=\"text-align: right;\">\n      <th></th>\n      <th>movieCd</th>\n      <th>movieNm</th>\n      <th>movieNmEn</th>\n      <th>showTm</th>\n      <th>prdtYear</th>\n      <th>openDt</th>\n      <th>prdtStatNm</th>\n      <th>genres</th>\n      <th>directors</th>\n      <th>actors</th>\n      <th>showTypes</th>\n      <th>audits</th>\n      <th>Domestic</th>\n      <th>Budget</th>\n      <th>Distributor</th>\n      <th>review</th>\n      <th>MPAA</th>\n      <th>stats</th>\n      <th>raters</th>\n      <th>ratings</th>\n    </tr>\n  </thead>\n  <tbody>\n    <tr>\n      <th>0</th>\n      <td>20203303</td>\n      <td>지니어스 독</td>\n      <td>Think Like a Dog</td>\n      <td>90.0</td>\n      <td>2020.0</td>\n      <td>20200916</td>\n      <td>개봉예정</td>\n      <td>코미디,드라마</td>\n      <td>길 정거</td>\n      <td>메간 폭스,조쉬 더하멜,가브리엘 베이트먼</td>\n      <td>2D</td>\n      <td>12세이상관람가</td>\n      <td>-</td>\n      <td>NaN</td>\n      <td>NaN</td>\n      <td>NaN</td>\n      <td>12</td>\n      <td>NaN</td>\n      <td>667</td>\n      <td>5.1</td>\n    </tr>\n    <tr>\n      <th>1</th>\n      <td>20175405</td>\n      <td>뉴 뮤턴트</td>\n      <td>The New Mutants</td>\n      <td>98.0</td>\n      <td>2018.0</td>\n      <td>20200903</td>\n      <td>개봉예정</td>\n      <td>액션,공포(호러),SF</td>\n      <td>조쉬 분</td>\n      <td>메이지 윌리암스,안야 테일러 조이,앨리스 브라가</td>\n      <td>2D</td>\n      <td>NaN</td>\n      <td>NaN</td>\n      <td>NaN</td>\n      <td>NaN</td>\n      <td>NaN</td>\n      <td>NaN</td>\n      <td>NaN</td>\n      <td>NaN</td>\n      <td>NaN</td>\n    </tr>\n    <tr>\n      <th>2</th>\n      <td>20112692</td>\n      <td>드라이브</td>\n      <td>Drive</td>\n      <td>100.0</td>\n      <td>2011.0</td>\n      <td>20111117</td>\n      <td>개봉</td>\n      <td>액션,멜로/로맨스</td>\n      <td>니콜라스 윈딩 레픈</td>\n      <td>라이언 고슬링,캐리 멀리건</td>\n      <td>필름,2D</td>\n      <td>청소년관람불가,청소년관람불가</td>\n      <td>$35,061,555</td>\n      <td>$15,000,000</td>\n      <td>FilmDistrict</td>\n      <td>NaN</td>\n      <td>NaN</td>\n      <td>144975500.0</td>\n      <td>NaN</td>\n      <td>NaN</td>\n    </tr>\n    <tr>\n      <th>3</th>\n      <td>20205511</td>\n      <td>쥬라기 썬더</td>\n      <td>Jurassic Thunder</td>\n      <td>84.0</td>\n      <td>2019.0</td>\n      <td>20200923</td>\n      <td>개봉예정</td>\n      <td>액션,SF</td>\n      <td>NaN</td>\n      <td>NaN</td>\n      <td>2D</td>\n      <td>15세이상관람가</td>\n      <td>NaN</td>\n      <td>NaN</td>\n      <td>NaN</td>\n      <td>....but then again, did you expect an award wi...</td>\n      <td>15</td>\n      <td>NaN</td>\n      <td>142</td>\n      <td>1.9</td>\n    </tr>\n    <tr>\n      <th>4</th>\n      <td>20203043</td>\n      <td>바다 몬스터2</td>\n      <td>Sea Monsters2</td>\n      <td>87.0</td>\n      <td>2018.0</td>\n      <td>20200812</td>\n      <td>개봉</td>\n      <td>애니메이션</td>\n      <td>에반 트라멜</td>\n      <td>서반석,석승훈</td>\n      <td>2D,2D</td>\n      <td>전체관람가</td>\n      <td>NaN</td>\n      <td>NaN</td>\n      <td>NaN</td>\n      <td>Loose plot with no content. The story is vauge...</td>\n      <td>NaN</td>\n      <td>5000.0</td>\n      <td>30</td>\n      <td>3.7</td>\n    </tr>\n  </tbody>\n</table>\n</div>"
     },
     "metadata": {},
     "execution_count": 3
    }
   ],
   "source": [
    "df = pd.read_excel(\"1970_2020_raw영화데이터_kobiz_update.xlsx\")\n",
    "#df = df[['movieCd','movieNm', 'prdtYear']]\n",
    "#df['stats'] = None\n",
    "names = df.movieNm.astype(str)\n",
    "\n",
    "df.head()"
   ]
  },
  {
   "cell_type": "code",
   "execution_count": 52,
   "metadata": {},
   "outputs": [
    {
     "output_type": "execute_result",
     "data": {
      "text/plain": "3702"
     },
     "metadata": {},
     "execution_count": 52
    }
   ],
   "source": [
    "df2 = df[df.Domestic.notnull()][df.Domestic !=\"-\"]\n",
    "indexes = df2.index.values\n",
    "len(indexes)"
   ]
  },
  {
   "cell_type": "code",
   "execution_count": 38,
   "metadata": {},
   "outputs": [],
   "source": [
    "df['stats2'] = 0"
   ]
  },
  {
   "cell_type": "code",
   "execution_count": 39,
   "metadata": {
    "tags": []
   },
   "outputs": [
    {
     "output_type": "stream",
     "name": "stderr",
     "text": "[WDM] - Current google-chrome version is 84.0.4147\n[WDM] - Get LATEST driver version for 84.0.4147\n[WDM] - Driver [C:\\Users\\beomj\\.wdm\\drivers\\chromedriver\\win32\\84.0.4147.30\\chromedriver.exe] found in cache\n \n"
    },
    {
     "output_type": "error",
     "ename": "SessionNotCreatedException",
     "evalue": "Message: session not created\nfrom chrome not reachable\n  (Session info: chrome=84.0.4147.135)\n",
     "traceback": [
      "\u001b[1;31m---------------------------------------------------------------------------\u001b[0m",
      "\u001b[1;31mSessionNotCreatedException\u001b[0m                Traceback (most recent call last)",
      "\u001b[1;32m<ipython-input-39-345993bb6501>\u001b[0m in \u001b[0;36m<module>\u001b[1;34m\u001b[0m\n\u001b[0;32m      1\u001b[0m \u001b[0maddr\u001b[0m \u001b[1;33m=\u001b[0m \u001b[1;34m\"http://www.kobis.or.kr/kobis/business/mast/mvie/searchMovieList.do\"\u001b[0m\u001b[1;33m\u001b[0m\u001b[1;33m\u001b[0m\u001b[0m\n\u001b[1;32m----> 2\u001b[1;33m \u001b[0mdriver\u001b[0m \u001b[1;33m=\u001b[0m \u001b[0mwebdriver\u001b[0m\u001b[1;33m.\u001b[0m\u001b[0mChrome\u001b[0m\u001b[1;33m(\u001b[0m\u001b[0mChromeDriverManager\u001b[0m\u001b[1;33m(\u001b[0m\u001b[1;33m)\u001b[0m\u001b[1;33m.\u001b[0m\u001b[0minstall\u001b[0m\u001b[1;33m(\u001b[0m\u001b[1;33m)\u001b[0m\u001b[1;33m)\u001b[0m\u001b[1;33m\u001b[0m\u001b[1;33m\u001b[0m\u001b[0m\n\u001b[0m\u001b[0;32m      3\u001b[0m \u001b[0mdriver\u001b[0m\u001b[1;33m.\u001b[0m\u001b[0mget\u001b[0m\u001b[1;33m(\u001b[0m\u001b[0maddr\u001b[0m\u001b[1;33m)\u001b[0m\u001b[1;33m\u001b[0m\u001b[1;33m\u001b[0m\u001b[0m\n",
      "\u001b[1;32m~\\Anaconda3\\lib\\site-packages\\selenium\\webdriver\\chrome\\webdriver.py\u001b[0m in \u001b[0;36m__init__\u001b[1;34m(self, executable_path, port, options, service_args, desired_capabilities, service_log_path, chrome_options, keep_alive)\u001b[0m\n\u001b[0;32m     79\u001b[0m                     \u001b[0mremote_server_addr\u001b[0m\u001b[1;33m=\u001b[0m\u001b[0mself\u001b[0m\u001b[1;33m.\u001b[0m\u001b[0mservice\u001b[0m\u001b[1;33m.\u001b[0m\u001b[0mservice_url\u001b[0m\u001b[1;33m,\u001b[0m\u001b[1;33m\u001b[0m\u001b[1;33m\u001b[0m\u001b[0m\n\u001b[0;32m     80\u001b[0m                     keep_alive=keep_alive),\n\u001b[1;32m---> 81\u001b[1;33m                 desired_capabilities=desired_capabilities)\n\u001b[0m\u001b[0;32m     82\u001b[0m         \u001b[1;32mexcept\u001b[0m \u001b[0mException\u001b[0m\u001b[1;33m:\u001b[0m\u001b[1;33m\u001b[0m\u001b[1;33m\u001b[0m\u001b[0m\n\u001b[0;32m     83\u001b[0m             \u001b[0mself\u001b[0m\u001b[1;33m.\u001b[0m\u001b[0mquit\u001b[0m\u001b[1;33m(\u001b[0m\u001b[1;33m)\u001b[0m\u001b[1;33m\u001b[0m\u001b[1;33m\u001b[0m\u001b[0m\n",
      "\u001b[1;32m~\\Anaconda3\\lib\\site-packages\\selenium\\webdriver\\remote\\webdriver.py\u001b[0m in \u001b[0;36m__init__\u001b[1;34m(self, command_executor, desired_capabilities, browser_profile, proxy, keep_alive, file_detector, options)\u001b[0m\n\u001b[0;32m    155\u001b[0m             warnings.warn(\"Please use FirefoxOptions to set browser profile\",\n\u001b[0;32m    156\u001b[0m                           DeprecationWarning, stacklevel=2)\n\u001b[1;32m--> 157\u001b[1;33m         \u001b[0mself\u001b[0m\u001b[1;33m.\u001b[0m\u001b[0mstart_session\u001b[0m\u001b[1;33m(\u001b[0m\u001b[0mcapabilities\u001b[0m\u001b[1;33m,\u001b[0m \u001b[0mbrowser_profile\u001b[0m\u001b[1;33m)\u001b[0m\u001b[1;33m\u001b[0m\u001b[1;33m\u001b[0m\u001b[0m\n\u001b[0m\u001b[0;32m    158\u001b[0m         \u001b[0mself\u001b[0m\u001b[1;33m.\u001b[0m\u001b[0m_switch_to\u001b[0m \u001b[1;33m=\u001b[0m \u001b[0mSwitchTo\u001b[0m\u001b[1;33m(\u001b[0m\u001b[0mself\u001b[0m\u001b[1;33m)\u001b[0m\u001b[1;33m\u001b[0m\u001b[1;33m\u001b[0m\u001b[0m\n\u001b[0;32m    159\u001b[0m         \u001b[0mself\u001b[0m\u001b[1;33m.\u001b[0m\u001b[0m_mobile\u001b[0m \u001b[1;33m=\u001b[0m \u001b[0mMobile\u001b[0m\u001b[1;33m(\u001b[0m\u001b[0mself\u001b[0m\u001b[1;33m)\u001b[0m\u001b[1;33m\u001b[0m\u001b[1;33m\u001b[0m\u001b[0m\n",
      "\u001b[1;32m~\\Anaconda3\\lib\\site-packages\\selenium\\webdriver\\remote\\webdriver.py\u001b[0m in \u001b[0;36mstart_session\u001b[1;34m(self, capabilities, browser_profile)\u001b[0m\n\u001b[0;32m    250\u001b[0m         parameters = {\"capabilities\": w3c_caps,\n\u001b[0;32m    251\u001b[0m                       \"desiredCapabilities\": capabilities}\n\u001b[1;32m--> 252\u001b[1;33m         \u001b[0mresponse\u001b[0m \u001b[1;33m=\u001b[0m \u001b[0mself\u001b[0m\u001b[1;33m.\u001b[0m\u001b[0mexecute\u001b[0m\u001b[1;33m(\u001b[0m\u001b[0mCommand\u001b[0m\u001b[1;33m.\u001b[0m\u001b[0mNEW_SESSION\u001b[0m\u001b[1;33m,\u001b[0m \u001b[0mparameters\u001b[0m\u001b[1;33m)\u001b[0m\u001b[1;33m\u001b[0m\u001b[1;33m\u001b[0m\u001b[0m\n\u001b[0m\u001b[0;32m    253\u001b[0m         \u001b[1;32mif\u001b[0m \u001b[1;34m'sessionId'\u001b[0m \u001b[1;32mnot\u001b[0m \u001b[1;32min\u001b[0m \u001b[0mresponse\u001b[0m\u001b[1;33m:\u001b[0m\u001b[1;33m\u001b[0m\u001b[1;33m\u001b[0m\u001b[0m\n\u001b[0;32m    254\u001b[0m             \u001b[0mresponse\u001b[0m \u001b[1;33m=\u001b[0m \u001b[0mresponse\u001b[0m\u001b[1;33m[\u001b[0m\u001b[1;34m'value'\u001b[0m\u001b[1;33m]\u001b[0m\u001b[1;33m\u001b[0m\u001b[1;33m\u001b[0m\u001b[0m\n",
      "\u001b[1;32m~\\Anaconda3\\lib\\site-packages\\selenium\\webdriver\\remote\\webdriver.py\u001b[0m in \u001b[0;36mexecute\u001b[1;34m(self, driver_command, params)\u001b[0m\n\u001b[0;32m    319\u001b[0m         \u001b[0mresponse\u001b[0m \u001b[1;33m=\u001b[0m \u001b[0mself\u001b[0m\u001b[1;33m.\u001b[0m\u001b[0mcommand_executor\u001b[0m\u001b[1;33m.\u001b[0m\u001b[0mexecute\u001b[0m\u001b[1;33m(\u001b[0m\u001b[0mdriver_command\u001b[0m\u001b[1;33m,\u001b[0m \u001b[0mparams\u001b[0m\u001b[1;33m)\u001b[0m\u001b[1;33m\u001b[0m\u001b[1;33m\u001b[0m\u001b[0m\n\u001b[0;32m    320\u001b[0m         \u001b[1;32mif\u001b[0m \u001b[0mresponse\u001b[0m\u001b[1;33m:\u001b[0m\u001b[1;33m\u001b[0m\u001b[1;33m\u001b[0m\u001b[0m\n\u001b[1;32m--> 321\u001b[1;33m             \u001b[0mself\u001b[0m\u001b[1;33m.\u001b[0m\u001b[0merror_handler\u001b[0m\u001b[1;33m.\u001b[0m\u001b[0mcheck_response\u001b[0m\u001b[1;33m(\u001b[0m\u001b[0mresponse\u001b[0m\u001b[1;33m)\u001b[0m\u001b[1;33m\u001b[0m\u001b[1;33m\u001b[0m\u001b[0m\n\u001b[0m\u001b[0;32m    322\u001b[0m             response['value'] = self._unwrap_value(\n\u001b[0;32m    323\u001b[0m                 response.get('value', None))\n",
      "\u001b[1;32m~\\Anaconda3\\lib\\site-packages\\selenium\\webdriver\\remote\\errorhandler.py\u001b[0m in \u001b[0;36mcheck_response\u001b[1;34m(self, response)\u001b[0m\n\u001b[0;32m    240\u001b[0m                 \u001b[0malert_text\u001b[0m \u001b[1;33m=\u001b[0m \u001b[0mvalue\u001b[0m\u001b[1;33m[\u001b[0m\u001b[1;34m'alert'\u001b[0m\u001b[1;33m]\u001b[0m\u001b[1;33m.\u001b[0m\u001b[0mget\u001b[0m\u001b[1;33m(\u001b[0m\u001b[1;34m'text'\u001b[0m\u001b[1;33m)\u001b[0m\u001b[1;33m\u001b[0m\u001b[1;33m\u001b[0m\u001b[0m\n\u001b[0;32m    241\u001b[0m             \u001b[1;32mraise\u001b[0m \u001b[0mexception_class\u001b[0m\u001b[1;33m(\u001b[0m\u001b[0mmessage\u001b[0m\u001b[1;33m,\u001b[0m \u001b[0mscreen\u001b[0m\u001b[1;33m,\u001b[0m \u001b[0mstacktrace\u001b[0m\u001b[1;33m,\u001b[0m \u001b[0malert_text\u001b[0m\u001b[1;33m)\u001b[0m\u001b[1;33m\u001b[0m\u001b[1;33m\u001b[0m\u001b[0m\n\u001b[1;32m--> 242\u001b[1;33m         \u001b[1;32mraise\u001b[0m \u001b[0mexception_class\u001b[0m\u001b[1;33m(\u001b[0m\u001b[0mmessage\u001b[0m\u001b[1;33m,\u001b[0m \u001b[0mscreen\u001b[0m\u001b[1;33m,\u001b[0m \u001b[0mstacktrace\u001b[0m\u001b[1;33m)\u001b[0m\u001b[1;33m\u001b[0m\u001b[1;33m\u001b[0m\u001b[0m\n\u001b[0m\u001b[0;32m    243\u001b[0m \u001b[1;33m\u001b[0m\u001b[0m\n\u001b[0;32m    244\u001b[0m     \u001b[1;32mdef\u001b[0m \u001b[0m_value_or_default\u001b[0m\u001b[1;33m(\u001b[0m\u001b[0mself\u001b[0m\u001b[1;33m,\u001b[0m \u001b[0mobj\u001b[0m\u001b[1;33m,\u001b[0m \u001b[0mkey\u001b[0m\u001b[1;33m,\u001b[0m \u001b[0mdefault\u001b[0m\u001b[1;33m)\u001b[0m\u001b[1;33m:\u001b[0m\u001b[1;33m\u001b[0m\u001b[1;33m\u001b[0m\u001b[0m\n",
      "\u001b[1;31mSessionNotCreatedException\u001b[0m: Message: session not created\nfrom chrome not reachable\n  (Session info: chrome=84.0.4147.135)\n"
     ]
    }
   ],
   "source": [
    "addr = \"http://www.kobis.or.kr/kobis/business/mast/mvie/searchMovieList.do\" \n",
    "driver = webdriver.Chrome(ChromeDriverManager().install())\n",
    "driver.get(addr)"
   ]
  },
  {
   "cell_type": "code",
   "execution_count": 63,
   "metadata": {},
   "outputs": [],
   "source": [
    "def find(name, cd):\n",
    "    driver.find_element_by_name(\"sMovName\").clear()\n",
    "    driver.find_element_by_name(\"sMovName\").send_keys(name)\n",
    "    driver.find_element_by_class_name(\"btn_sch\").click()\n",
    "    time.sleep(1)\n",
    "    try:\n",
    "        found =False\n",
    "        for i in range(2, 11):\n",
    "            temp = driver.find_element_by_class_name(\"rst_sch\")\n",
    "            temp = temp.find_elements_by_link_text(name)\n",
    "            for t in temp:\n",
    "                t.click()\n",
    "                temp = driver.find_element_by_class_name(\"item_tab\")\n",
    "                text = temp.find_element_by_class_name(\"cont\").text\n",
    "                if cd not in text:\n",
    "                    driver.find_element_by_link_text(\"뒤로\").click()   \n",
    "                else:\n",
    "                    found = True\n",
    "                    break\n",
    "            if found:\n",
    "                break\n",
    "            temp = driver.find_element_by_id(\"pagingForm\")\n",
    "            temp.find_element_by_link_text(str(i)).click()\n",
    "            time.sleep(0.5)\n",
    "        if not found:\n",
    "            return None\n",
    "    except:\n",
    "        return None\n",
    "\n",
    "    temp = driver.find_element_by_class_name(\"wrap_tab\")\n",
    "    temp.find_element_by_link_text('통계정보').click()\n",
    "    while True:\n",
    "        try:\n",
    "            time.sleep(2) \n",
    "            temp = driver.find_element_by_class_name(\"statistics\")\n",
    "            infos = temp.find_elements_by_class_name(\"info\")\n",
    "            if infos:\n",
    "                break\n",
    "        except:\n",
    "            pass\n",
    "    \n",
    "    total = []\n",
    "    #found = False\n",
    "    for j in infos:\n",
    "        if \"KOBIS(발권)통계\" in j.text:\n",
    "            tables = j.find_elements_by_tag_name(\"table\")\n",
    "            for i in tables:\n",
    "                if '전국' in i.text:\n",
    "                    #found=True\n",
    "                    total.append(i.text[i.text.find(\"전국\"):])\n",
    "            break\n",
    "            #if found:\n",
    "        #    break\n",
    "    driver.find_element_by_link_text(\"뒤로\").click()   \n",
    "    #if not found:\n",
    "    #    return None\n",
    "    #total = \" \".join(total).split('\\n')\n",
    "    total = \" \".join(total)\n",
    "    #for i in total:\n",
    "    return total"
   ]
  },
  {
   "cell_type": "code",
   "execution_count": 72,
   "metadata": {
    "tags": []
   },
   "outputs": [
    {
     "output_type": "stream",
     "name": "stderr",
     "text": "11%|█         | 1/9 [00:07<01:00,  7.52s/it]61 전국 301 5,799,168,000\n 22%|██▏       | 2/9 [00:15<00:53,  7.59s/it]62 전국 333 88,807,180 (1\n 44%|████▍     | 4/9 [00:24<00:33,  6.73s/it]64 전국 258 12,661,780,40\n 56%|█████▌    | 5/9 [00:33<00:29,  7.30s/it]65 전국 279 165,941,860 (\n 89%|████████▉ | 8/9 [00:40<00:05,  5.85s/it]68 전국 19 20,213,500 (10\n100%|██████████| 9/9 [00:50<00:00,  5.56s/it]69 전국 156 264,874,260 (\n\n"
    }
   ],
   "source": [
    "start = 61\n",
    "end = 70\n",
    "for i in tqdm(range(start, end)):\n",
    "    if i in indexes:\n",
    "   # if not df.loc[i, 'stats']:\n",
    "        name = df.loc[i, 'movieNm'].strip()\n",
    "        cd   = df.loc[i, 'movieCd']\n",
    "        try:\n",
    "            text = find(name, cd)\n",
    "            df.loc[i, 'stats2'] = text\n",
    "            print(i, text[:20])\n",
    "        except:\n",
    "            addr = \"http://www.kobis.or.kr/kobis/business/mast/mvie/searchMovieList.do\" \n",
    "            driver.get(addr)\n",
    "            df.loc[i, 'stats2'] = None"
   ]
  },
  {
   "cell_type": "code",
   "execution_count": 43,
   "metadata": {},
   "outputs": [],
   "source": [
    "df.to_excel(\"1970_2019_코비스매출_stats2\"+str(start)+\"_\"+str(end)+\".xlsx\", index=False)"
   ]
  },
  {
   "cell_type": "code",
   "execution_count": 73,
   "metadata": {},
   "outputs": [
    {
     "output_type": "execute_result",
     "data": {
      "text/plain": "         movieNm        stats                                         stats2\n61       배트맨 비긴즈          NaN     전국 301 5,799,168,000 (100%) 903,190 (100%)\n62      라스트 풀 메저   88807180.0         전국 333 88,807,180 (100%) 11,223 (100%)\n64          색, 계          0.0  전국 258 12,661,780,400 (100%) 1,925,774 (100%)\n65  잃어버린 세계를 찾아서  161271360.0        전국 279 165,941,860 (100%) 21,879 (100%)\n68           리플리          0.0           전국 19 20,213,500 (100%) 2,605 (100%)\n69   아이 캔 온리 이매진  182789600.0        전국 156 264,874,260 (100%) 34,859 (100%)\n70           플라이          0.0                                              0",
      "text/html": "<div>\n<style scoped>\n    .dataframe tbody tr th:only-of-type {\n        vertical-align: middle;\n    }\n\n    .dataframe tbody tr th {\n        vertical-align: top;\n    }\n\n    .dataframe thead th {\n        text-align: right;\n    }\n</style>\n<table border=\"1\" class=\"dataframe\">\n  <thead>\n    <tr style=\"text-align: right;\">\n      <th></th>\n      <th>movieNm</th>\n      <th>stats</th>\n      <th>stats2</th>\n    </tr>\n  </thead>\n  <tbody>\n    <tr>\n      <th>61</th>\n      <td>배트맨 비긴즈</td>\n      <td>NaN</td>\n      <td>전국 301 5,799,168,000 (100%) 903,190 (100%)</td>\n    </tr>\n    <tr>\n      <th>62</th>\n      <td>라스트 풀 메저</td>\n      <td>88807180.0</td>\n      <td>전국 333 88,807,180 (100%) 11,223 (100%)</td>\n    </tr>\n    <tr>\n      <th>64</th>\n      <td>색, 계</td>\n      <td>0.0</td>\n      <td>전국 258 12,661,780,400 (100%) 1,925,774 (100%)</td>\n    </tr>\n    <tr>\n      <th>65</th>\n      <td>잃어버린 세계를 찾아서</td>\n      <td>161271360.0</td>\n      <td>전국 279 165,941,860 (100%) 21,879 (100%)</td>\n    </tr>\n    <tr>\n      <th>68</th>\n      <td>리플리</td>\n      <td>0.0</td>\n      <td>전국 19 20,213,500 (100%) 2,605 (100%)</td>\n    </tr>\n    <tr>\n      <th>69</th>\n      <td>아이 캔 온리 이매진</td>\n      <td>182789600.0</td>\n      <td>전국 156 264,874,260 (100%) 34,859 (100%)</td>\n    </tr>\n    <tr>\n      <th>70</th>\n      <td>플라이</td>\n      <td>0.0</td>\n      <td>0</td>\n    </tr>\n  </tbody>\n</table>\n</div>"
     },
     "metadata": {},
     "execution_count": 73
    }
   ],
   "source": [
    "pd.set_option('display.max_rows', 80)\n",
    "df.loc[indexes].loc[start:end][['movieNm','stats', 'stats2']]"
   ]
  }
 ]
}