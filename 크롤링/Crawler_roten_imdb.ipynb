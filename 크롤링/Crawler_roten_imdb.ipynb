{
 "metadata": {
  "language_info": {
   "codemirror_mode": {
    "name": "ipython",
    "version": 3
   },
   "file_extension": ".py",
   "mimetype": "text/x-python",
   "name": "python",
   "nbconvert_exporter": "python",
   "pygments_lexer": "ipython3",
   "version": "3.7.4-final"
  },
  "orig_nbformat": 2,
  "kernelspec": {
   "name": "python_defaultSpec_1598854085013",
   "display_name": "Python 3.7.4 64-bit ('base': conda)"
  }
 },
 "nbformat": 4,
 "nbformat_minor": 2,
 "cells": [
  {
   "cell_type": "code",
   "execution_count": 1,
   "metadata": {
    "tags": []
   },
   "outputs": [
    {
     "output_type": "stream",
     "name": "stdout",
     "text": "Requirement already satisfied: selenium in c:\\users\\beomj\\anaconda3\\lib\\site-packages (3.141.0)\nRequirement already satisfied: urllib3 in c:\\users\\beomj\\anaconda3\\lib\\site-packages (from selenium) (1.25.9)\nRequirement already satisfied: webdriver-manager in c:\\users\\beomj\\anaconda3\\lib\\site-packages (3.2.1)\nRequirement already satisfied: configparser in c:\\users\\beomj\\anaconda3\\lib\\site-packages (from webdriver-manager) (5.0.0)\nRequirement already satisfied: crayons in c:\\users\\beomj\\anaconda3\\lib\\site-packages (from webdriver-manager) (0.3.1)\nRequirement already satisfied: requests in c:\\users\\beomj\\anaconda3\\lib\\site-packages (from webdriver-manager) (2.24.0)\nRequirement already satisfied: colorama in c:\\users\\beomj\\anaconda3\\lib\\site-packages (from crayons->webdriver-manager) (0.4.3)\nRequirement already satisfied: urllib3!=1.25.0,!=1.25.1,<1.26,>=1.21.1 in c:\\users\\beomj\\anaconda3\\lib\\site-packages (from requests->webdriver-manager) (1.25.9)\nRequirement already satisfied: chardet<4,>=3.0.2 in c:\\users\\beomj\\anaconda3\\lib\\site-packages (from requests->webdriver-manager) (3.0.4)\nRequirement already satisfied: certifi>=2017.4.17 in c:\\users\\beomj\\anaconda3\\lib\\site-packages (from requests->webdriver-manager) (2020.6.20)\nRequirement already satisfied: idna<3,>=2.5 in c:\\users\\beomj\\anaconda3\\lib\\site-packages (from requests->webdriver-manager) (2.10)\n"
    }
   ],
   "source": [
    "!pip install selenium\n",
    "!pip install webdriver-manager"
   ]
  },
  {
   "cell_type": "code",
   "execution_count": 19,
   "metadata": {},
   "outputs": [],
   "source": [
    "import pandas as pd\n",
    "from selenium import webdriver\n",
    "from webdriver_manager.chrome import ChromeDriverManager\n",
    "import time\n",
    "\n",
    "from bs4 import BeautifulSoup\n",
    "from selenium import webdriver\n",
    "from selenium.common import exceptions\n",
    "\n",
    "from tqdm import tqdm"
   ]
  },
  {
   "cell_type": "code",
   "execution_count": 90,
   "metadata": {
    "tags": []
   },
   "outputs": [
    {
     "output_type": "stream",
     "name": "stderr",
     "text": "[WDM] - Current google-chrome version is 84.0.4147\n[WDM] - Get LATEST driver version for 84.0.4147\n[WDM] - Driver [C:\\Users\\beomj\\.wdm\\drivers\\chromedriver\\win32\\84.0.4147.30\\chromedriver.exe] found in cache\n \n"
    }
   ],
   "source": [
    "addr = \"https://www.imdb.com/find?q=deadpool&ref_=nv_sr_sm\" \n",
    "\n",
    "driver = webdriver.Chrome(ChromeDriverManager().install())\n",
    "driver.get(addr)\n"
   ]
  },
  {
   "cell_type": "code",
   "execution_count": 91,
   "metadata": {},
   "outputs": [],
   "source": [
    "df = pd.read_excel(\"영화raw데이터.xlsx\")\n",
    "df.openDt.fillna(0, inplace=True)\n",
    "years = df.openDt.apply(lambda x:str(x)[:4])"
   ]
  },
  {
   "cell_type": "code",
   "execution_count": 92,
   "metadata": {
    "tags": []
   },
   "outputs": [
    {
     "output_type": "stream",
     "name": "stdout",
     "text": "[   2    4    7 ... 5788 5807 5823]\n"
    },
    {
     "output_type": "execute_result",
     "data": {
      "text/plain": "    movieCd  movieNm         movieNmEn  showTm  prdtYear    openDt prdtStatNm  \\\n0  20203303   지니어스 독  Think Like a Dog    90.0    2020.0  20200916       개봉예정   \n1  20175405    뉴 뮤턴트   The New Mutants    98.0    2018.0  20200903       개봉예정   \n2  20112692     드라이브             Drive   100.0    2011.0  20111117         개봉   \n3  20205511   쥬라기 썬더  Jurassic Thunder    84.0    2019.0  20200923       개봉예정   \n4  20203043  바다 몬스터2     Sea Monsters2    87.0    2018.0  20200812         개봉   \n\n         genres   directors                      actors  ...  \\\n0       코미디,드라마        길 정거      메간 폭스,조쉬 더하멜,가브리엘 베이트먼  ...   \n1  액션,공포(호러),SF        조쉬 분  메이지 윌리암스,안야 테일러 조이,앨리스 브라가  ...   \n2     액션,멜로/로맨스  니콜라스 윈딩 레픈              라이언 고슬링,캐리 멀리건  ...   \n3         액션,SF         NaN                         NaN  ...   \n4         애니메이션      에반 트라멜                     서반석,석승훈  ...   \n\n                                            companys     Domestic  \\\n0    20168728,(주)키다리이엔티,배급사,20153568,(주)스톰픽쳐스코리아,수입사            -   \n1                                                NaN          NaN   \n2  20111613,주식회사 풍경소리,배급사,20100285,판씨네마(주),배급사,20...  $35,061,555   \n3                                                NaN          NaN   \n4     20203701,(주)블루라벨픽쳐스,배급사,20190541,(유)헤이데이웍스,수입사          NaN   \n\n        Budget   Distributor  \\\n0          NaN           NaN   \n1          NaN           NaN   \n2  $15,000,000  FilmDistrict   \n3          NaN           NaN   \n4          NaN           NaN   \n\n                                              review MPAA raters ratings  \\\n0                                                NaN   12    667     5.1   \n1                                                NaN  NaN    NaN     NaN   \n2                                                NaN  NaN    NaN     NaN   \n3  ....but then again, did you expect an award wi...   15    142     1.9   \n4  Loose plot with no content. The story is vauge...  NaN     30     3.7   \n\n   kor_revenue  kor_audience  \n0          NaN           NaN  \n1          NaN           NaN  \n2  156237980.0       20141.0  \n3          NaN           NaN  \n4       5000.0           1.0  \n\n[5 rows x 21 columns]",
      "text/html": "<div>\n<style scoped>\n    .dataframe tbody tr th:only-of-type {\n        vertical-align: middle;\n    }\n\n    .dataframe tbody tr th {\n        vertical-align: top;\n    }\n\n    .dataframe thead th {\n        text-align: right;\n    }\n</style>\n<table border=\"1\" class=\"dataframe\">\n  <thead>\n    <tr style=\"text-align: right;\">\n      <th></th>\n      <th>movieCd</th>\n      <th>movieNm</th>\n      <th>movieNmEn</th>\n      <th>showTm</th>\n      <th>prdtYear</th>\n      <th>openDt</th>\n      <th>prdtStatNm</th>\n      <th>genres</th>\n      <th>directors</th>\n      <th>actors</th>\n      <th>...</th>\n      <th>companys</th>\n      <th>Domestic</th>\n      <th>Budget</th>\n      <th>Distributor</th>\n      <th>review</th>\n      <th>MPAA</th>\n      <th>raters</th>\n      <th>ratings</th>\n      <th>kor_revenue</th>\n      <th>kor_audience</th>\n    </tr>\n  </thead>\n  <tbody>\n    <tr>\n      <th>0</th>\n      <td>20203303</td>\n      <td>지니어스 독</td>\n      <td>Think Like a Dog</td>\n      <td>90.0</td>\n      <td>2020.0</td>\n      <td>20200916</td>\n      <td>개봉예정</td>\n      <td>코미디,드라마</td>\n      <td>길 정거</td>\n      <td>메간 폭스,조쉬 더하멜,가브리엘 베이트먼</td>\n      <td>...</td>\n      <td>20168728,(주)키다리이엔티,배급사,20153568,(주)스톰픽쳐스코리아,수입사</td>\n      <td>-</td>\n      <td>NaN</td>\n      <td>NaN</td>\n      <td>NaN</td>\n      <td>12</td>\n      <td>667</td>\n      <td>5.1</td>\n      <td>NaN</td>\n      <td>NaN</td>\n    </tr>\n    <tr>\n      <th>1</th>\n      <td>20175405</td>\n      <td>뉴 뮤턴트</td>\n      <td>The New Mutants</td>\n      <td>98.0</td>\n      <td>2018.0</td>\n      <td>20200903</td>\n      <td>개봉예정</td>\n      <td>액션,공포(호러),SF</td>\n      <td>조쉬 분</td>\n      <td>메이지 윌리암스,안야 테일러 조이,앨리스 브라가</td>\n      <td>...</td>\n      <td>NaN</td>\n      <td>NaN</td>\n      <td>NaN</td>\n      <td>NaN</td>\n      <td>NaN</td>\n      <td>NaN</td>\n      <td>NaN</td>\n      <td>NaN</td>\n      <td>NaN</td>\n      <td>NaN</td>\n    </tr>\n    <tr>\n      <th>2</th>\n      <td>20112692</td>\n      <td>드라이브</td>\n      <td>Drive</td>\n      <td>100.0</td>\n      <td>2011.0</td>\n      <td>20111117</td>\n      <td>개봉</td>\n      <td>액션,멜로/로맨스</td>\n      <td>니콜라스 윈딩 레픈</td>\n      <td>라이언 고슬링,캐리 멀리건</td>\n      <td>...</td>\n      <td>20111613,주식회사 풍경소리,배급사,20100285,판씨네마(주),배급사,20...</td>\n      <td>$35,061,555</td>\n      <td>$15,000,000</td>\n      <td>FilmDistrict</td>\n      <td>NaN</td>\n      <td>NaN</td>\n      <td>NaN</td>\n      <td>NaN</td>\n      <td>156237980.0</td>\n      <td>20141.0</td>\n    </tr>\n    <tr>\n      <th>3</th>\n      <td>20205511</td>\n      <td>쥬라기 썬더</td>\n      <td>Jurassic Thunder</td>\n      <td>84.0</td>\n      <td>2019.0</td>\n      <td>20200923</td>\n      <td>개봉예정</td>\n      <td>액션,SF</td>\n      <td>NaN</td>\n      <td>NaN</td>\n      <td>...</td>\n      <td>NaN</td>\n      <td>NaN</td>\n      <td>NaN</td>\n      <td>NaN</td>\n      <td>....but then again, did you expect an award wi...</td>\n      <td>15</td>\n      <td>142</td>\n      <td>1.9</td>\n      <td>NaN</td>\n      <td>NaN</td>\n    </tr>\n    <tr>\n      <th>4</th>\n      <td>20203043</td>\n      <td>바다 몬스터2</td>\n      <td>Sea Monsters2</td>\n      <td>87.0</td>\n      <td>2018.0</td>\n      <td>20200812</td>\n      <td>개봉</td>\n      <td>애니메이션</td>\n      <td>에반 트라멜</td>\n      <td>서반석,석승훈</td>\n      <td>...</td>\n      <td>20203701,(주)블루라벨픽쳐스,배급사,20190541,(유)헤이데이웍스,수입사</td>\n      <td>NaN</td>\n      <td>NaN</td>\n      <td>NaN</td>\n      <td>Loose plot with no content. The story is vauge...</td>\n      <td>NaN</td>\n      <td>30</td>\n      <td>3.7</td>\n      <td>5000.0</td>\n      <td>1.0</td>\n    </tr>\n  </tbody>\n</table>\n<p>5 rows × 21 columns</p>\n</div>"
     },
     "metadata": {},
     "execution_count": 92
    }
   ],
   "source": [
    "indexes = df[df.kor_revenue.notnull()].index.values\n",
    "print(indexes)\n",
    "df.head()"
   ]
  },
  {
   "cell_type": "code",
   "execution_count": 93,
   "metadata": {},
   "outputs": [
    {
     "output_type": "execute_result",
     "data": {
      "text/plain": "          movieNmEn 평점_en 리뷰_en 시청등급_en\n0  Think Like a Dog  None  None    None\n1   The New Mutants  None  None    None\n2             Drive  None  None    None\n3  Jurassic Thunder  None  None    None\n4     Sea Monsters2  None  None    None",
      "text/html": "<div>\n<style scoped>\n    .dataframe tbody tr th:only-of-type {\n        vertical-align: middle;\n    }\n\n    .dataframe tbody tr th {\n        vertical-align: top;\n    }\n\n    .dataframe thead th {\n        text-align: right;\n    }\n</style>\n<table border=\"1\" class=\"dataframe\">\n  <thead>\n    <tr style=\"text-align: right;\">\n      <th></th>\n      <th>movieNmEn</th>\n      <th>평점_en</th>\n      <th>리뷰_en</th>\n      <th>시청등급_en</th>\n    </tr>\n  </thead>\n  <tbody>\n    <tr>\n      <th>0</th>\n      <td>Think Like a Dog</td>\n      <td>None</td>\n      <td>None</td>\n      <td>None</td>\n    </tr>\n    <tr>\n      <th>1</th>\n      <td>The New Mutants</td>\n      <td>None</td>\n      <td>None</td>\n      <td>None</td>\n    </tr>\n    <tr>\n      <th>2</th>\n      <td>Drive</td>\n      <td>None</td>\n      <td>None</td>\n      <td>None</td>\n    </tr>\n    <tr>\n      <th>3</th>\n      <td>Jurassic Thunder</td>\n      <td>None</td>\n      <td>None</td>\n      <td>None</td>\n    </tr>\n    <tr>\n      <th>4</th>\n      <td>Sea Monsters2</td>\n      <td>None</td>\n      <td>None</td>\n      <td>None</td>\n    </tr>\n  </tbody>\n</table>\n</div>"
     },
     "metadata": {},
     "execution_count": 93
    }
   ],
   "source": [
    "df2 = df[['movieNmEn']]\n",
    "df2['평점_en'] = None\n",
    "df2['리뷰_en'] = None\n",
    "df2['시청등급_en'] = None\n",
    "df2.head()"
   ]
  },
  {
   "cell_type": "code",
   "execution_count": 94,
   "metadata": {},
   "outputs": [],
   "source": [
    "def find(name, year):\n",
    "    info = []\n",
    "    reviews = []\n",
    "    rates = []\n",
    "    try:\n",
    "        driver.find_element_by_xpath(\"/html/body/div[2]/nav/div[2]/div[1]/form/div[2]/div/input\").send_keys(name)\n",
    "        driver.find_element_by_id(\"suggestion-search-button\").click()      \n",
    "        time.sleep(1.5)\n",
    "        #------------------\n",
    "        temp = driver.find_element_by_class_name(\"findList\")\n",
    "        table = temp.find_elements_by_class_name('result_text')\n",
    "        found = False\n",
    "        for temp in table:\n",
    "            text = temp.text.lower()\n",
    "            name_split = name.lower().split()\n",
    "            cnt = 0\n",
    "            for i in name_split:\n",
    "                if i in text:\n",
    "                    cnt +=1\n",
    "            #print(text, name_split, year)\n",
    "            if cnt >= len(name_split)/2 and (year in text or str(int(year)-1) in text or str(int(year)+1) in text):\n",
    "                temp = temp.find_element_by_tag_name(\"a\")\n",
    "                temp.click()\n",
    "                time.sleep(1.5)\n",
    "                found = True\n",
    "                break\n",
    "\n",
    "        if not found:\n",
    "            reviews.append(\"\")\n",
    "            rates.append(\"\")\n",
    "            info.append(\"\")\n",
    "            driver.get(addr)\n",
    "            return info, reviews, rates\n",
    "        try:\n",
    "            #------------------\n",
    "            rates.append(driver.find_element_by_class_name(\"imdbRating\").text)\n",
    "            temp = driver.find_element_by_class_name(\"title_block\")\n",
    "            temp = temp.find_element_by_class_name(\"subtext\").text\n",
    "            info.append(temp.split(\"|\")[0].strip())\n",
    "\n",
    "            driver.find_element_by_link_text(\"USER REVIEWS\").click()\n",
    "            try:\n",
    "                for i in range(10):\n",
    "                    driver.find_element_by_id(\"load-more-trigger\").click()\n",
    "                    time.sleep(2)\n",
    "            except:\n",
    "                pass\n",
    "            time.sleep(1.5)\n",
    "            #------------------\n",
    "            temp = driver.find_element_by_class_name(\"lister-list\")\n",
    "            temp = temp.find_elements_by_class_name(\"text\")\n",
    "            total = []\n",
    "            for i in temp:\n",
    "                total.append(i.text)\n",
    "            total = \"///\".join(total)\n",
    "            reviews.append(total)\n",
    "        except:\n",
    "            reviews.append(\"\")\n",
    "    except:\n",
    "        reviews.append(\"\")\n",
    "        rates.append(\"\")\n",
    "        info.append(\"\")\n",
    "        driver.get(addr)\n",
    "    return info, reviews, rates\n"
   ]
  },
  {
   "cell_type": "code",
   "execution_count": 95,
   "metadata": {
    "tags": []
   },
   "outputs": [
    {
     "output_type": "stream",
     "name": "stderr",
     "text": "100%|██████████| 1956/1956 [10:46:54<00:00, 19.84s/it]\n"
    }
   ],
   "source": [
    "start = 0\n",
    "end = 2000\n",
    "for i in tqdm([i for i in range(start, end) if i in indexes]):\n",
    "    info, review, rate = find(df2.loc[i,'movieNmEn'], str(int(years[i])))\n",
    "    df2.loc[i, '리뷰_en']  = review\n",
    "    df2.loc[i, '평점_en']  = rate\n",
    "    df2.loc[i, '시청등급_en'] = info\n"
   ]
  },
  {
   "cell_type": "code",
   "execution_count": 96,
   "metadata": {},
   "outputs": [
    {
     "output_type": "execute_result",
     "data": {
      "text/plain": "                movieNmEn              평점_en  \\\n0        Think Like a Dog               None   \n1         The New Mutants               None   \n2                   Drive  [7.8/10\\n558,449]   \n3        Jurassic Thunder               None   \n4           Sea Monsters2                 []   \n...                   ...                ...   \n1995    Beyond the Lights   [6.9/10\\n15,079]   \n1996        The Equalizer  [7.2/10\\n325,331]   \n1997  UNIVERSAL SQUADRONS                 []   \n1998              Lullaby    [6.2/10\\n2,528]   \n1999       You're Not You   [7.3/10\\n23,703]   \n\n                                                  리뷰_en 시청등급_en  \n0                                                  None    None  \n1                                                  None    None  \n2     [///One reviewer here suggested that instead o...    [18]  \n3                                                  None    None  \n4                                                    []      []  \n...                                                 ...     ...  \n1995  [I had never heard of this movie before a coll...    [15]  \n1996  [Really great action sequences, with some nice...    [18]  \n1997                                                 []      []  \n1998  [This is a wonderful spectacular and emotional...    [15]  \n1999  [This movie brought me to tears.\\n\\nOur mother...    [15]  \n\n[2000 rows x 4 columns]",
      "text/html": "<div>\n<style scoped>\n    .dataframe tbody tr th:only-of-type {\n        vertical-align: middle;\n    }\n\n    .dataframe tbody tr th {\n        vertical-align: top;\n    }\n\n    .dataframe thead th {\n        text-align: right;\n    }\n</style>\n<table border=\"1\" class=\"dataframe\">\n  <thead>\n    <tr style=\"text-align: right;\">\n      <th></th>\n      <th>movieNmEn</th>\n      <th>평점_en</th>\n      <th>리뷰_en</th>\n      <th>시청등급_en</th>\n    </tr>\n  </thead>\n  <tbody>\n    <tr>\n      <th>0</th>\n      <td>Think Like a Dog</td>\n      <td>None</td>\n      <td>None</td>\n      <td>None</td>\n    </tr>\n    <tr>\n      <th>1</th>\n      <td>The New Mutants</td>\n      <td>None</td>\n      <td>None</td>\n      <td>None</td>\n    </tr>\n    <tr>\n      <th>2</th>\n      <td>Drive</td>\n      <td>[7.8/10\\n558,449]</td>\n      <td>[///One reviewer here suggested that instead o...</td>\n      <td>[18]</td>\n    </tr>\n    <tr>\n      <th>3</th>\n      <td>Jurassic Thunder</td>\n      <td>None</td>\n      <td>None</td>\n      <td>None</td>\n    </tr>\n    <tr>\n      <th>4</th>\n      <td>Sea Monsters2</td>\n      <td>[]</td>\n      <td>[]</td>\n      <td>[]</td>\n    </tr>\n    <tr>\n      <th>...</th>\n      <td>...</td>\n      <td>...</td>\n      <td>...</td>\n      <td>...</td>\n    </tr>\n    <tr>\n      <th>1995</th>\n      <td>Beyond the Lights</td>\n      <td>[6.9/10\\n15,079]</td>\n      <td>[I had never heard of this movie before a coll...</td>\n      <td>[15]</td>\n    </tr>\n    <tr>\n      <th>1996</th>\n      <td>The Equalizer</td>\n      <td>[7.2/10\\n325,331]</td>\n      <td>[Really great action sequences, with some nice...</td>\n      <td>[18]</td>\n    </tr>\n    <tr>\n      <th>1997</th>\n      <td>UNIVERSAL SQUADRONS</td>\n      <td>[]</td>\n      <td>[]</td>\n      <td>[]</td>\n    </tr>\n    <tr>\n      <th>1998</th>\n      <td>Lullaby</td>\n      <td>[6.2/10\\n2,528]</td>\n      <td>[This is a wonderful spectacular and emotional...</td>\n      <td>[15]</td>\n    </tr>\n    <tr>\n      <th>1999</th>\n      <td>You're Not You</td>\n      <td>[7.3/10\\n23,703]</td>\n      <td>[This movie brought me to tears.\\n\\nOur mother...</td>\n      <td>[15]</td>\n    </tr>\n  </tbody>\n</table>\n<p>2000 rows × 4 columns</p>\n</div>"
     },
     "metadata": {},
     "execution_count": 96
    }
   ],
   "source": [
    "pd.set_option(\"display.max_rows\", 30)\n",
    "df2[start:end]"
   ]
  },
  {
   "cell_type": "code",
   "execution_count": 97,
   "metadata": {},
   "outputs": [],
   "source": [
    "df2.to_excel(\"1970_2019_review_en\"+str(start)+\"_\"+str(end)+\".xlsx\", index=False)"
   ]
  },
  {
   "cell_type": "code",
   "execution_count": null,
   "metadata": {},
   "outputs": [],
   "source": []
  }
 ]
}