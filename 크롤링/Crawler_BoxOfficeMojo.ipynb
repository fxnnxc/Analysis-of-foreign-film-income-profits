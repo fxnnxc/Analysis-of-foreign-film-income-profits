{
 "metadata": {
  "language_info": {
   "codemirror_mode": {
    "name": "ipython",
    "version": 3
   },
   "file_extension": ".py",
   "mimetype": "text/x-python",
   "name": "python",
   "nbconvert_exporter": "python",
   "pygments_lexer": "ipython3",
   "version": "3.7.4-final"
  },
  "orig_nbformat": 2,
  "kernelspec": {
   "name": "python_defaultSpec_1598495574180",
   "display_name": "Python 3.7.4 64-bit ('base': conda)"
  }
 },
 "nbformat": 4,
 "nbformat_minor": 2,
 "cells": [
  {
   "cell_type": "code",
   "execution_count": 2,
   "metadata": {
    "tags": []
   },
   "outputs": [
    {
     "output_type": "stream",
     "name": "stdout",
     "text": "Requirement already satisfied: selenium in c:\\users\\beomj\\anaconda3\\lib\\site-packages (3.141.0)\nRequirement already satisfied: urllib3 in c:\\users\\beomj\\anaconda3\\lib\\site-packages (from selenium) (1.25.9)\nRequirement already satisfied: webdriver-manager in c:\\users\\beomj\\anaconda3\\lib\\site-packages (3.2.1)\nRequirement already satisfied: configparser in c:\\users\\beomj\\anaconda3\\lib\\site-packages (from webdriver-manager) (5.0.0)\nRequirement already satisfied: crayons in c:\\users\\beomj\\anaconda3\\lib\\site-packages (from webdriver-manager) (0.3.1)\nRequirement already satisfied: requests in c:\\users\\beomj\\anaconda3\\lib\\site-packages (from webdriver-manager) (2.24.0)\nRequirement already satisfied: colorama in c:\\users\\beomj\\anaconda3\\lib\\site-packages (from crayons->webdriver-manager) (0.4.3)\nRequirement already satisfied: idna<3,>=2.5 in c:\\users\\beomj\\anaconda3\\lib\\site-packages (from requests->webdriver-manager) (2.10)\nRequirement already satisfied: urllib3!=1.25.0,!=1.25.1,<1.26,>=1.21.1 in c:\\users\\beomj\\anaconda3\\lib\\site-packages (from requests->webdriver-manager) (1.25.9)\nRequirement already satisfied: chardet<4,>=3.0.2 in c:\\users\\beomj\\anaconda3\\lib\\site-packages (from requests->webdriver-manager) (3.0.4)\nRequirement already satisfied: certifi>=2017.4.17 in c:\\users\\beomj\\anaconda3\\lib\\site-packages (from requests->webdriver-manager) (2020.6.20)\n"
    }
   ],
   "source": [
    "!pip install selenium\n",
    "!pip install webdriver-manager"
   ]
  },
  {
   "cell_type": "code",
   "execution_count": 1,
   "metadata": {},
   "outputs": [],
   "source": [
    "import pandas as pd\n",
    "from selenium import webdriver\n",
    "from webdriver_manager.chrome import ChromeDriverManager\n",
    "import time\n",
    "\n",
    "from bs4 import BeautifulSoup\n",
    "from selenium import webdriver\n",
    "from selenium.common import exceptions\n",
    "from tqdm import tqdm"
   ]
  },
  {
   "cell_type": "code",
   "execution_count": 2,
   "metadata": {
    "tags": []
   },
   "outputs": [
    {
     "output_type": "stream",
     "name": "stderr",
     "text": "[WDM] - Current google-chrome version is 84.0.4147\n[WDM] - Get LATEST driver version for 84.0.4147\n[WDM] - Driver [C:\\Users\\beomj\\.wdm\\drivers\\chromedriver\\win32\\84.0.4147.30\\chromedriver.exe] found in cache\n \n"
    }
   ],
   "source": [
    "addr = \"https://www.boxofficemojo.com/search/?q=Think+Like+a+Dog\" \n",
    "\n",
    "driver = webdriver.Chrome(ChromeDriverManager().install())\n",
    "driver.get(addr)\n",
    "\n",
    "stories = []\n",
    "a_release = []\n",
    "o_release = []"
   ]
  },
  {
   "cell_type": "code",
   "execution_count": 3,
   "metadata": {},
   "outputs": [],
   "source": [
    "df2 = pd.read_excel(\"1970_2019_영화.xlsx\")\n",
    "df2.prdtYear.fillna(0, inplace=True)\n",
    "years = df2.prdtYear.astype(int).astype(str)\n",
    "names = df2.movieNmEn\t"
   ]
  },
  {
   "cell_type": "code",
   "execution_count": 8,
   "metadata": {},
   "outputs": [
    {
     "output_type": "execute_result",
     "data": {
      "text/plain": "                 영화명EN   스토리 A_release O_release\n0     Think Like a Dog  None      None      None\n1      The New Mutants  None      None      None\n2                Drive  None      None      None\n3     Jurassic Thunder  None      None      None\n4        Sea Monsters2  None      None      None\n...                ...   ...       ...       ...\n5820       Hanna'S War  None      None      None\n5821    Hearts Of Fire  None      None      None\n5822        Hot Target  None      None      None\n5823    Hamberger Hill  None      None      None\n5824   No Holds Barred  None      None      None\n\n[5825 rows x 4 columns]",
      "text/html": "<div>\n<style scoped>\n    .dataframe tbody tr th:only-of-type {\n        vertical-align: middle;\n    }\n\n    .dataframe tbody tr th {\n        vertical-align: top;\n    }\n\n    .dataframe thead th {\n        text-align: right;\n    }\n</style>\n<table border=\"1\" class=\"dataframe\">\n  <thead>\n    <tr style=\"text-align: right;\">\n      <th></th>\n      <th>영화명EN</th>\n      <th>스토리</th>\n      <th>A_release</th>\n      <th>O_release</th>\n    </tr>\n  </thead>\n  <tbody>\n    <tr>\n      <th>0</th>\n      <td>Think Like a Dog</td>\n      <td>None</td>\n      <td>None</td>\n      <td>None</td>\n    </tr>\n    <tr>\n      <th>1</th>\n      <td>The New Mutants</td>\n      <td>None</td>\n      <td>None</td>\n      <td>None</td>\n    </tr>\n    <tr>\n      <th>2</th>\n      <td>Drive</td>\n      <td>None</td>\n      <td>None</td>\n      <td>None</td>\n    </tr>\n    <tr>\n      <th>3</th>\n      <td>Jurassic Thunder</td>\n      <td>None</td>\n      <td>None</td>\n      <td>None</td>\n    </tr>\n    <tr>\n      <th>4</th>\n      <td>Sea Monsters2</td>\n      <td>None</td>\n      <td>None</td>\n      <td>None</td>\n    </tr>\n    <tr>\n      <th>...</th>\n      <td>...</td>\n      <td>...</td>\n      <td>...</td>\n      <td>...</td>\n    </tr>\n    <tr>\n      <th>5820</th>\n      <td>Hanna'S War</td>\n      <td>None</td>\n      <td>None</td>\n      <td>None</td>\n    </tr>\n    <tr>\n      <th>5821</th>\n      <td>Hearts Of Fire</td>\n      <td>None</td>\n      <td>None</td>\n      <td>None</td>\n    </tr>\n    <tr>\n      <th>5822</th>\n      <td>Hot Target</td>\n      <td>None</td>\n      <td>None</td>\n      <td>None</td>\n    </tr>\n    <tr>\n      <th>5823</th>\n      <td>Hamberger Hill</td>\n      <td>None</td>\n      <td>None</td>\n      <td>None</td>\n    </tr>\n    <tr>\n      <th>5824</th>\n      <td>No Holds Barred</td>\n      <td>None</td>\n      <td>None</td>\n      <td>None</td>\n    </tr>\n  </tbody>\n</table>\n<p>5825 rows × 4 columns</p>\n</div>"
     },
     "metadata": {},
     "execution_count": 8
    }
   ],
   "source": [
    "df = pd.DataFrame({\"영화명EN\": names})\n",
    "df['스토리']=None\n",
    "df['A_release']=None\n",
    "df['O_release']=None\n",
    "df"
   ]
  },
  {
   "cell_type": "code",
   "execution_count": 5,
   "metadata": {},
   "outputs": [],
   "source": [
    "def find(name, year):\n",
    "    stories = []\n",
    "    a_release = []\n",
    "    o_release = []\n",
    "    try:\n",
    "        driver.find_element_by_id(\"mojo-search-text-input\").send_keys(name)\n",
    "        driver.find_element_by_id(\"mojo-search-button\").click()\n",
    "        while True:\n",
    "            try:\n",
    "                time.sleep(1)\n",
    "                driver.find_element_by_id(\"body\")\n",
    "                break\n",
    "            except:\n",
    "                pass\n",
    "        temp = driver.find_element_by_xpath(\"/html/body/div[1]/main/div/div/div\")\n",
    "        temp = temp.find_elements_by_class_name(\"a-fixed-left-grid-inner\")\n",
    "        found = False\n",
    "        for i in temp:\n",
    "            if year in i.text:\n",
    "                i.find_element_by_tag_name(\"a\").click()\n",
    "                found =True\n",
    "                break\n",
    "        if not found:\n",
    "            for i in temp:\n",
    "                if str(int(year)-1) in i.text or str(int(year)+1) in i.text:\n",
    "                    i.find_element_by_tag_name(\"a\").click()\n",
    "                    found =True\n",
    "                    break\n",
    "        if not found:\n",
    "            stories.append(\"\")\n",
    "            a_release.append(\"\")\n",
    "            o_release.append(\"\")\n",
    "            return stories, a_release, o_release\n",
    "        #-----------------------\n",
    "        try:\n",
    "            stories.append(driver.find_element_by_class_name(\"mojo-heading-summary\").text)\n",
    "        except:\n",
    "            stories.append(\"\")\n",
    "        #-----------------------\n",
    "        try:\n",
    "            a_release.append(driver.find_element_by_class_name(\"mojo-summary-table\").text)\n",
    "        except:\n",
    "            a_release.append(\"\")\n",
    "        #------------------------\n",
    "        try:\n",
    "            temp = driver.find_element_by_class_name(\"a-dropdown-prompt\").click()\n",
    "            driver.find_element_by_link_text(\"Original Release\").click()\n",
    "            while True:\n",
    "                try:\n",
    "                    time.sleep(0.7)\n",
    "                    total = []\n",
    "                    table = driver.find_elements_by_class_name(\"mojo-table\")\n",
    "                    for i in table:\n",
    "                        total.append(i.text)\n",
    "                    o_release.append(\"\\n\".join(total))\n",
    "                    if table:\n",
    "                        break\n",
    "                except:\n",
    "                    pass\n",
    "        except:\n",
    "            o_release.append(\"\")\n",
    "        #-----------------------\n",
    "    except:\n",
    "        stories.append(\"\")\n",
    "        a_release.append(\"\")\n",
    "        o_release.append(\"\")\n",
    "    driver.get(addr)\n",
    "    return stories, a_release, o_release"
   ]
  },
  {
   "cell_type": "code",
   "execution_count": 9,
   "metadata": {
    "tags": []
   },
   "outputs": [
    {
     "output_type": "stream",
     "name": "stderr",
     "text": "100%|██████████| 1025/1025 [1:39:29<00:00,  5.82s/it]\n"
    }
   ],
   "source": [
    "start = 4800\n",
    "end = len(df)\n",
    "for i in tqdm(range(start, end)):\n",
    "    name = names[i]\n",
    "    year = years[i]\n",
    "    s, a, o = find(name, year) \n",
    "    df.loc[i, '스토리'] = s[0]\n",
    "    df.loc[i, 'A_release'] = a[0]\n",
    "    df.loc[i, 'O_release'] = o[0]        \n",
    "    "
   ]
  },
  {
   "cell_type": "code",
   "execution_count": 10,
   "metadata": {},
   "outputs": [],
   "source": [
    "df.to_excel(\"1970_2019_mojo\"+str(start)+\"_\"+str(end)+\".xlsx\", index=False)"
   ]
  },
  {
   "cell_type": "code",
   "execution_count": 12,
   "metadata": {},
   "outputs": [
    {
     "output_type": "execute_result",
     "data": {
      "text/plain": "0"
     },
     "metadata": {},
     "execution_count": 12
    }
   ],
   "source": [
    "df[4800:].A_release.isna().sum()"
   ]
  },
  {
   "cell_type": "code",
   "execution_count": 16,
   "metadata": {},
   "outputs": [
    {
     "output_type": "execute_result",
     "data": {
      "text/plain": "258"
     },
     "metadata": {},
     "execution_count": 16
    }
   ],
   "source": [
    "(df[4800:].A_release==\"\").sum()"
   ]
  },
  {
   "cell_type": "code",
   "execution_count": null,
   "metadata": {},
   "outputs": [],
   "source": [
    "(df[4800:].A_release==\"\")"
   ]
  }
 ]
}