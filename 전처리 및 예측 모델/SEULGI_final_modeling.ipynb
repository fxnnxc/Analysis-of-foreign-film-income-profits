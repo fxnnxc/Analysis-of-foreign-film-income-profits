{
 "cells": [
  {
   "cell_type": "code",
   "execution_count": 1,
   "metadata": {},
   "outputs": [
    {
     "name": "stderr",
     "output_type": "stream",
     "text": [
      "/Users/injin/opt/anaconda3/lib/python3.7/site-packages/lightgbm/__init__.py:48: UserWarning: Starting from version 2.2.1, the library file in distribution wheels for macOS is built by the Apple Clang (Xcode_8.3.3) compiler.\n",
      "This means that in case of installing LightGBM from PyPI via the ``pip install lightgbm`` command, you don't need to install the gcc compiler anymore.\n",
      "Instead of that, you need to install the OpenMP library, which is required for running LightGBM on the system with the Apple Clang compiler.\n",
      "You can install the OpenMP library by the following command: ``brew install libomp``.\n",
      "  \"You can install the OpenMP library by the following command: ``brew install libomp``.\", UserWarning)\n"
     ]
    }
   ],
   "source": [
    "from xgboost import XGBClassifier\n",
    "from sklearn.ensemble import RandomForestClassifier\n",
    "import numpy as np\n",
    "import pandas as pd\n",
    "from sklearn.preprocessing import StandardScaler\n",
    "from sklearn.preprocessing import RobustScaler\n",
    "import sklearn.metrics as mt\n",
    "from sklearn.metrics import accuracy_score, precision_score, recall_score, confusion_matrix, f1_score, classification_report\n",
    "\n",
    "from sklearn.model_selection import cross_val_score\n",
    "from sklearn.model_selection import train_test_split\n",
    "from sklearn.model_selection import GridSearchCV\n",
    "\n",
    "from sklearn.tree import DecisionTreeClassifier\n",
    "from sklearn.ensemble import RandomForestClassifier\n",
    "from sklearn.ensemble import GradientBoostingClassifier\n",
    "# from sklearn.svm import SVC\n",
    "from lightgbm import LGBMClassifier\n",
    "from sklearn.neural_network import MLPClassifier\n",
    "from sklearn.linear_model import LinearRegression\n",
    "from sklearn.linear_model import LogisticRegression\n",
    "\n",
    "import warnings \n",
    "warnings.filterwarnings('ignore')\n",
    "\n",
    "pd.options.display.float_format = '{:.7f}'.format\n",
    "\n",
    "pd.set_option('display.max_columns', 500)\n",
    "pd.set_option('display.max_rows', 500)"
   ]
  },
  {
   "cell_type": "code",
   "execution_count": 2,
   "metadata": {},
   "outputs": [],
   "source": [
    "import xgboost as xgb"
   ]
  },
  {
   "cell_type": "code",
   "execution_count": 3,
   "metadata": {},
   "outputs": [
    {
     "data": {
      "text/plain": [
       "'0.90'"
      ]
     },
     "execution_count": 3,
     "metadata": {},
     "output_type": "execute_result"
    }
   ],
   "source": [
    "xgb.__version__"
   ]
  },
  {
   "cell_type": "code",
   "execution_count": null,
   "metadata": {},
   "outputs": [],
   "source": []
  },
  {
   "cell_type": "code",
   "execution_count": 4,
   "metadata": {},
   "outputs": [],
   "source": [
    "temp = pd.read_excel(\"data/최종낫널.xlsx\")"
   ]
  },
  {
   "cell_type": "code",
   "execution_count": 5,
   "metadata": {},
   "outputs": [],
   "source": [
    "temp.mpaa = temp.mpaa.apply(lambda x:1 if x == 0 else ( 2 if x == 7 \n",
    "                        else(3 if x ==12 or x==13 else (4 if x == 15 \n",
    "                        else 5))))"
   ]
  },
  {
   "cell_type": "code",
   "execution_count": 6,
   "metadata": {},
   "outputs": [],
   "source": [
    "temp.drop(['kor_revenue'], axis = 1, inplace = True)"
   ]
  },
  {
   "cell_type": "code",
   "execution_count": 7,
   "metadata": {},
   "outputs": [],
   "source": [
    "temp['kor_audience_class'] = temp.kor_audience.apply(lambda x: \"A\" if x >= 5000000 else(\"B\" if x >= 1000000 else( \"C\" if x >= 100000 else ( \"D\" if x >= 1000 else \"F\"))))"
   ]
  },
  {
   "cell_type": "code",
   "execution_count": 8,
   "metadata": {},
   "outputs": [],
   "source": [
    "full_cols = ['movienm', 'showtm', 'prdtyear', 'Domestic', 'mpaa', 'raters',\n",
    "       'ratings', 'sf', 'family', 'performance', 'horror', 'etc',\n",
    "       'documentary', 'drama', 'romance', 'musical', 'mystery', 'crime',\n",
    "       'history', 'western', 'adult', 'thriller', 'animation', 'action',\n",
    "       'adventure', 'war', 'comedy', 'fantasy', 'director_appearance',\n",
    "       'director_revenue', 'distributor_share', 'opendt_quarter', 'year_gap',\n",
    "       'showtypes_num', 'actor_score', 'neg', 'pos', 'neu', 'compound',\n",
    "       'story_com', 'music_com', 'direction_com', 'actor_com', 'acting_com',\n",
    "       'story_pos', 'music_pos', 'direction_pos', 'actor_pos', 'acting_pos',\n",
    "       'story_neg', 'music_neg', 'direction_neg', 'actor_neg', 'acting_neg',\n",
    "       'x0', 'x1', 'x2', 'x3', 'x4', 'label', 'center_angle1', 'center_angle2',\n",
    "       'center_angle3', 'center_angle4', 'center_angle5', 'center_angle6',\n",
    "       'center_angle7', 'center_angle8', 'center_angle9', 'center_angle10']\n",
    "\n",
    "x_cols1 =['showtm', 'prdtyear', 'Domestic', 'mpaa', 'raters',\n",
    "       'ratings', 'sf', 'family', 'performance', 'horror', 'etc',\n",
    "       'documentary', 'drama', 'romance', 'musical', 'mystery', 'crime',\n",
    "       'history', 'western', 'adult', 'thriller', 'animation', 'action',\n",
    "       'adventure', 'war', 'comedy', 'fantasy', 'director_appearance',\n",
    "        'distributor_share',\n",
    "       'showtypes_num', 'actor_score','compound',\n",
    "       'story_com', 'music_com', 'direction_com', 'actor_com', 'acting_com',\n",
    "       'x0', 'x1', 'x2', 'x3', 'x4']\n",
    "\n",
    "x_cols2 = ['showtm', 'prdtyear', 'Domestic', 'mpaa', 'raters',\n",
    "       'ratings', 'sf', 'family', 'performance', 'horror', 'etc',\n",
    "       'documentary', 'drama', 'romance', 'musical', 'mystery', 'crime',\n",
    "       'history', 'western', 'adult', 'thriller', 'animation', 'action',\n",
    "       'adventure', 'war', 'comedy', 'fantasy', 'director_appearance',\n",
    "        'distributor_share',\n",
    "       'showtypes_num', 'actor_score', 'x0', 'x1', 'x2', 'x3', 'x4'\n",
    "]\n",
    "\n",
    "x_cols3 = ['showtm', 'prdtyear', 'Domestic', 'mpaa', 'raters',\n",
    "       'ratings', 'sf', 'family', 'performance', 'horror', 'etc',\n",
    "       'documentary', 'drama', 'romance', 'musical', 'mystery', 'crime',\n",
    "       'history', 'western', 'adult', 'thriller', 'animation', 'action',\n",
    "       'adventure', 'war', 'comedy', 'fantasy', 'director_appearance',\n",
    "        'distributor_share',\n",
    "       'showtypes_num', 'actor_score']\n",
    "\n",
    "y_cols = ['kor_audience_class']\n",
    "\n",
    "\n",
    "X = temp[x_cols1]\n",
    "X2 = temp[x_cols2]\n",
    "X3 = temp[x_cols3]\n",
    "Y = temp[y_cols]"
   ]
  },
  {
   "cell_type": "code",
   "execution_count": 9,
   "metadata": {},
   "outputs": [],
   "source": [
    "transformer = StandardScaler().fit(X)\n",
    "X = transformer.transform(X)\n",
    "\n",
    "transformer = StandardScaler().fit(X2)\n",
    "X2 = transformer.transform(X2)\n",
    "\n",
    "transformer = StandardScaler().fit(X3)\n",
    "X3 = transformer.transform(X3)"
   ]
  },
  {
   "cell_type": "code",
   "execution_count": 10,
   "metadata": {},
   "outputs": [],
   "source": [
    "X_train, X_test, y_train, y_test =\\\n",
    "train_test_split(X, Y,\\\n",
    "                    test_size = 0.3, \\\n",
    "                    random_state = 55)\n",
    "X_train2, X_test2, y_train2, y_test2 =\\\n",
    "train_test_split(X2, Y,\\\n",
    "                    test_size = 0.3, \\\n",
    "                    random_state = 55)\n",
    "X_train3, X_test3, y_train3, y_test3 =\\\n",
    "train_test_split(X3, Y,\\\n",
    "                    test_size = 0.3, \\\n",
    "                    random_state = 55)\n"
   ]
  },
  {
   "cell_type": "code",
   "execution_count": 11,
   "metadata": {},
   "outputs": [],
   "source": [
    "from imblearn.over_sampling import SMOTE\n",
    "\n",
    "smote = SMOTE(random_state = 0)\n",
    "X_train_over, y_train_over = smote.fit_sample(X_train, y_train)\n",
    "X_train_over2, y_train_over2 = smote.fit_sample(X_train2, y_train2)\n",
    "X_train_over3, y_train_over3 = smote.fit_sample(X_train3, y_train3)"
   ]
  },
  {
   "cell_type": "code",
   "execution_count": 12,
   "metadata": {},
   "outputs": [
    {
     "name": "stdout",
     "output_type": "stream",
     "text": [
      "학습데이터 정확도: 0.8501915708812261\n",
      "테스트데이터 정확도: 0.723018147086915\n"
     ]
    }
   ],
   "source": [
    "xgb_clf = XGBClassifier(n_estimators = 100, max_depth = 3, max_features =5)\n",
    "xgb_clf.fit(X_train_over, y_train_over, early_stopping_rounds = 100, \n",
    "             eval_set = [(X_test, y_test)], eval_metric = 'merror',verbose = False)\n",
    "#평가\n",
    "print('학습데이터 정확도:', xgb_clf.score(X_train_over, y_train_over))\n",
    "print('테스트데이터 정확도:', xgb_clf.score(X_test, y_test))"
   ]
  },
  {
   "cell_type": "code",
   "execution_count": 13,
   "metadata": {},
   "outputs": [
    {
     "name": "stdout",
     "output_type": "stream",
     "text": [
      "학습데이터 정확도: 0.8507662835249042\n",
      "테스트데이터 정확도: 0.708691499522445\n"
     ]
    }
   ],
   "source": [
    "xgb_clf2 = XGBClassifier(n_estimators = 100, max_depth = 3, max_features =5)\n",
    "xgb_clf2.fit(X_train_over2, y_train_over2, early_stopping_rounds = 100, \n",
    "             eval_set = [(X_test2, y_test2)], eval_metric = 'merror',verbose = False)\n",
    "#평가\n",
    "print('학습데이터 정확도:', xgb_clf2.score(X_train_over2, y_train_over2))\n",
    "print('테스트데이터 정확도:', xgb_clf2.score(X_test2, y_test2))"
   ]
  },
  {
   "cell_type": "code",
   "execution_count": 14,
   "metadata": {},
   "outputs": [
    {
     "name": "stdout",
     "output_type": "stream",
     "text": [
      "학습데이터 정확도: 0.8310344827586207\n",
      "테스트데이터 정확도: 0.6972301814708691\n"
     ]
    }
   ],
   "source": [
    "xgb_clf3 = XGBClassifier(n_estimators = 100, max_depth = 3, max_features =5)\n",
    "xgb_clf3.fit(X_train_over3, y_train_over3, early_stopping_rounds = 100, \n",
    "             eval_set = [(X_test3, y_test3)], eval_metric = 'merror',verbose = False)\n",
    "#평가\n",
    "print('학습데이터 정확도:', xgb_clf3.score(X_train_over3, y_train_over3))\n",
    "print('테스트데이터 정확도:', xgb_clf3.score(X_test3, y_test3))"
   ]
  },
  {
   "cell_type": "code",
   "execution_count": 15,
   "metadata": {},
   "outputs": [],
   "source": [
    "y_pred = xgb_clf.predict(X_test)\n",
    "y_pred2 = xgb_clf2.predict(X_test2)\n",
    "y_pred3 = xgb_clf3.predict(X_test3)"
   ]
  },
  {
   "cell_type": "code",
   "execution_count": 16,
   "metadata": {},
   "outputs": [],
   "source": [
    "def get_clf_eval(y_test,pred):\n",
    "    confusion = confusion_matrix(y_test,pred)\n",
    "    accuracy = accuracy_score(y_test, pred)\n",
    "    precision = precision_score(y_test, pred, average='macro')\n",
    "    recall = recall_score(y_test, pred, average='macro')\n",
    "    f1 = f1_score(y_test, pred, average='macro')\n",
    "    print(\"오차행렬\")\n",
    "    print(confusion)\n",
    "    print(\"정확도\",accuracy)\n",
    "    print(\"정밀도\",precision)\n",
    "    print(\"재현율\",recall)\n",
    "    print(\"F1\",f1)"
   ]
  },
  {
   "cell_type": "code",
   "execution_count": 17,
   "metadata": {},
   "outputs": [
    {
     "name": "stdout",
     "output_type": "stream",
     "text": [
      "오차행렬\n",
      "[[  3   2   0   0   0]\n",
      " [  8  44  26   5   1]\n",
      " [  2  32 120  39   1]\n",
      " [  0   2  49 209  67]\n",
      " [  0   0   5  51 381]]\n",
      "정확도 0.723018147086915\n",
      "정밀도 0.5829871794871795\n",
      "재현율 0.6506727005276114\n",
      "F1 0.6001143722120998\n"
     ]
    }
   ],
   "source": [
    "get_clf_eval(y_test, y_pred)"
   ]
  },
  {
   "cell_type": "code",
   "execution_count": 18,
   "metadata": {},
   "outputs": [
    {
     "name": "stdout",
     "output_type": "stream",
     "text": [
      "오차행렬\n",
      "[[  1   4   0   0   0]\n",
      " [ 11  42  26   4   1]\n",
      " [  2  32 126  33   1]\n",
      " [  0   3  52 201  71]\n",
      " [  0   0   6  59 372]]\n",
      "정확도 0.708691499522445\n",
      "정밀도 0.5405339645789085\n",
      "재현율 0.5630844032801482\n",
      "F1 0.5451769254840051\n"
     ]
    }
   ],
   "source": [
    "get_clf_eval(y_test2, y_pred2)"
   ]
  },
  {
   "cell_type": "code",
   "execution_count": 19,
   "metadata": {
    "scrolled": true
   },
   "outputs": [
    {
     "name": "stdout",
     "output_type": "stream",
     "text": [
      "오차행렬\n",
      "[[  1   3   1   0   0]\n",
      " [ 10  46  23   4   1]\n",
      " [  3  36 115  38   2]\n",
      " [  0   2  56 196  73]\n",
      " [  0   0   5  60 372]]\n",
      "정확도 0.6972301814708691\n",
      "정밀도 0.5326478934549983\n",
      "재현율 0.5582099026428555\n",
      "F1 0.5389818330161059\n"
     ]
    }
   ],
   "source": [
    "get_clf_eval(y_test3, y_pred3)"
   ]
  },
  {
   "cell_type": "code",
   "execution_count": 20,
   "metadata": {},
   "outputs": [
    {
     "data": {
      "text/html": [
       "<style  type=\"text/css\" >\n",
       "    #T_92093f72_f0e4_11ea_a9ed_acde48001122row0_col0 {\n",
       "            background-color:  #ffff66;\n",
       "            color:  #000000;\n",
       "        }    #T_92093f72_f0e4_11ea_a9ed_acde48001122row0_col1 {\n",
       "            background-color:  #ffff66;\n",
       "            color:  #000000;\n",
       "        }    #T_92093f72_f0e4_11ea_a9ed_acde48001122row0_col2 {\n",
       "            background-color:  #ffff66;\n",
       "            color:  #000000;\n",
       "        }    #T_92093f72_f0e4_11ea_a9ed_acde48001122row1_col0 {\n",
       "            background-color:  #71b866;\n",
       "            color:  #000000;\n",
       "        }    #T_92093f72_f0e4_11ea_a9ed_acde48001122row1_col1 {\n",
       "            background-color:  #289366;\n",
       "            color:  #000000;\n",
       "        }    #T_92093f72_f0e4_11ea_a9ed_acde48001122row1_col2 {\n",
       "            background-color:  #0d8666;\n",
       "            color:  #000000;\n",
       "        }    #T_92093f72_f0e4_11ea_a9ed_acde48001122row2_col0 {\n",
       "            background-color:  #008066;\n",
       "            color:  #f1f1f1;\n",
       "        }    #T_92093f72_f0e4_11ea_a9ed_acde48001122row2_col1 {\n",
       "            background-color:  #008066;\n",
       "            color:  #f1f1f1;\n",
       "        }    #T_92093f72_f0e4_11ea_a9ed_acde48001122row2_col2 {\n",
       "            background-color:  #008066;\n",
       "            color:  #f1f1f1;\n",
       "        }</style><table id=\"T_92093f72_f0e4_11ea_a9ed_acde48001122\" ><thead>    <tr>        <th class=\"blank level0\" ></th>        <th class=\"col_heading level0 col0\" >정확도</th>        <th class=\"col_heading level0 col1\" >정밀도</th>        <th class=\"col_heading level0 col2\" >재현율</th>    </tr></thead><tbody>\n",
       "                <tr>\n",
       "                        <th id=\"T_92093f72_f0e4_11ea_a9ed_acde48001122level0_row0\" class=\"row_heading level0 row0\" >R&S</th>\n",
       "                        <td id=\"T_92093f72_f0e4_11ea_a9ed_acde48001122row0_col0\" class=\"data row0 col0\" >0.723018</td>\n",
       "                        <td id=\"T_92093f72_f0e4_11ea_a9ed_acde48001122row0_col1\" class=\"data row0 col1\" >0.582987</td>\n",
       "                        <td id=\"T_92093f72_f0e4_11ea_a9ed_acde48001122row0_col2\" class=\"data row0 col2\" >0.650673</td>\n",
       "            </tr>\n",
       "            <tr>\n",
       "                        <th id=\"T_92093f72_f0e4_11ea_a9ed_acde48001122level0_row1\" class=\"row_heading level0 row1\" >S</th>\n",
       "                        <td id=\"T_92093f72_f0e4_11ea_a9ed_acde48001122row1_col0\" class=\"data row1 col0\" >0.708691</td>\n",
       "                        <td id=\"T_92093f72_f0e4_11ea_a9ed_acde48001122row1_col1\" class=\"data row1 col1\" >0.540534</td>\n",
       "                        <td id=\"T_92093f72_f0e4_11ea_a9ed_acde48001122row1_col2\" class=\"data row1 col2\" >0.563084</td>\n",
       "            </tr>\n",
       "            <tr>\n",
       "                        <th id=\"T_92093f72_f0e4_11ea_a9ed_acde48001122level0_row2\" class=\"row_heading level0 row2\" >None</th>\n",
       "                        <td id=\"T_92093f72_f0e4_11ea_a9ed_acde48001122row2_col0\" class=\"data row2 col0\" >0.697230</td>\n",
       "                        <td id=\"T_92093f72_f0e4_11ea_a9ed_acde48001122row2_col1\" class=\"data row2 col1\" >0.532648</td>\n",
       "                        <td id=\"T_92093f72_f0e4_11ea_a9ed_acde48001122row2_col2\" class=\"data row2 col2\" >0.558210</td>\n",
       "            </tr>\n",
       "    </tbody></table>"
      ],
      "text/plain": [
       "<pandas.io.formats.style.Styler at 0x7f9eef622110>"
      ]
     },
     "execution_count": 20,
     "metadata": {},
     "output_type": "execute_result"
    }
   ],
   "source": [
    "pd.DataFrame(\n",
    "[[accuracy_score(y_test, y_pred),precision_score(y_test, y_pred, average='macro'),recall_score(y_test, y_pred, average='macro')],\n",
    " [accuracy_score(y_test, y_pred2),precision_score(y_test, y_pred2, average='macro'),recall_score(y_test, y_pred2, average='macro')],\n",
    " [accuracy_score(y_test, y_pred3),precision_score(y_test, y_pred3, average='macro'),recall_score(y_test, y_pred3, average='macro')]], index=['R&S', 'S','None'] ,columns=['정확도','정밀도','재현율']).style.background_gradient(cmap='summer')"
   ]
  },
  {
   "cell_type": "code",
   "execution_count": null,
   "metadata": {},
   "outputs": [],
   "source": []
  },
  {
   "cell_type": "code",
   "execution_count": 21,
   "metadata": {},
   "outputs": [],
   "source": [
    "from xgboost import plot_importance"
   ]
  },
  {
   "cell_type": "code",
   "execution_count": 22,
   "metadata": {},
   "outputs": [
    {
     "data": {
      "text/plain": [
       "<matplotlib.axes._subplots.AxesSubplot at 0x7f9eef650210>"
      ]
     },
     "execution_count": 22,
     "metadata": {},
     "output_type": "execute_result"
    },
    {
     "data": {
      "image/png": "[encoded data removed]",
      "text/plain": [
       "<Figure size 432x288 with 1 Axes>"
      ]
     },
     "metadata": {
      "needs_background": "light"
     },
     "output_type": "display_data"
    }
   ],
   "source": [
    "plot_importance(xgb_clf)"
   ]
  },
  {
   "cell_type": "code",
   "execution_count": 23,
   "metadata": {},
   "outputs": [
    {
     "data": {
      "text/plain": [
       "<matplotlib.axes._subplots.AxesSubplot at 0x7f9eedd46210>"
      ]
     },
     "execution_count": 23,
     "metadata": {},
     "output_type": "execute_result"
    },
    {
     "data": {
      "image/png": "[encoded data removed]",
      "text/plain": [
       "<Figure size 432x288 with 1 Axes>"
      ]
     },
     "metadata": {
      "needs_background": "light"
     },
     "output_type": "display_data"
    }
   ],
   "source": [
    "plot_importance(xgb_clf2)"
   ]
  },
  {
   "cell_type": "code",
   "execution_count": 24,
   "metadata": {},
   "outputs": [
    {
     "data": {
      "text/plain": [
       "<matplotlib.axes._subplots.AxesSubplot at 0x7f9eee1e4490>"
      ]
     },
     "execution_count": 24,
     "metadata": {},
     "output_type": "execute_result"
    },
    {
     "data": {
      "image/png": "[encoded data removed]",
      "text/plain": [
       "<Figure size 432x288 with 1 Axes>"
      ]
     },
     "metadata": {
      "needs_background": "light"
     },
     "output_type": "display_data"
    }
   ],
   "source": [
    "plot_importance(xgb_clf3)"
   ]
  },
  {
   "cell_type": "code",
   "execution_count": 25,
   "metadata": {},
   "outputs": [
    {
     "data": {
      "text/plain": [
       "Index(['index', 'movienm', 'showtm', 'prdtyear', 'Domestic', 'mpaa', 'raters',\n",
       "       'ratings', 'kor_audience', 'kor_audience_class', 'sf', 'family',\n",
       "       'performance', 'horror', 'etc', 'documentary', 'drama', 'romance',\n",
       "       'musical', 'mystery', 'crime', 'history', 'western', 'adult',\n",
       "       'thriller', 'animation', 'action', 'adventure', 'war', 'comedy',\n",
       "       'fantasy', 'director_appearance', 'director_revenue',\n",
       "       'distributor_share', 'opendt_quarter', 'year_gap', 'showtypes_num',\n",
       "       'actor_score', 'neg', 'pos', 'neu', 'compound', 'story_com',\n",
       "       'music_com', 'direction_com', 'actor_com', 'acting_com', 'story_pos',\n",
       "       'music_pos', 'direction_pos', 'actor_pos', 'acting_pos', 'story_neg',\n",
       "       'music_neg', 'direction_neg', 'actor_neg', 'acting_neg', 'x0', 'x1',\n",
       "       'x2', 'x3', 'x4', 'label', 'center_angle1', 'center_angle2',\n",
       "       'center_angle3', 'center_angle4', 'center_angle5', 'center_angle6',\n",
       "       'center_angle7', 'center_angle8', 'center_angle9', 'center_angle10',\n",
       "       'Budget'],\n",
       "      dtype='object')"
      ]
     },
     "execution_count": 25,
     "metadata": {},
     "output_type": "execute_result"
    }
   ],
   "source": [
    "temp.columns"
   ]
  },
  {
   "cell_type": "code",
   "execution_count": 26,
   "metadata": {},
   "outputs": [],
   "source": [
    "review = ['neg', 'pos', 'neu', 'story_pos',\n",
    "       'music_pos', 'direction_pos', 'actor_pos', 'acting_pos', 'story_neg',\n",
    "       'music_neg', 'direction_neg', 'actor_neg', 'acting_neg']"
   ]
  },
  {
   "cell_type": "code",
   "execution_count": 27,
   "metadata": {},
   "outputs": [],
   "source": [
    "corr_df = temp.corr()"
   ]
  },
  {
   "cell_type": "code",
   "execution_count": 28,
   "metadata": {},
   "outputs": [
    {
     "data": {
      "text/plain": [
       "<matplotlib.axes._subplots.AxesSubplot at 0x7f9eee697990>"
      ]
     },
     "execution_count": 28,
     "metadata": {},
     "output_type": "execute_result"
    },
    {
     "data": {
      "image/png": "[encoded data removed]",
      "text/plain": [
       "<Figure size 432x288 with 1 Axes>"
      ]
     },
     "metadata": {
      "needs_background": "light"
     },
     "output_type": "display_data"
    }
   ],
   "source": [
    "corr_df[review].loc['kor_audience'].sort_values().plot(kind = 'barh', cmap = 'summer')"
   ]
  },
  {
   "cell_type": "code",
   "execution_count": 29,
   "metadata": {},
   "outputs": [],
   "source": [
    "temp2 = temp[temp.kor_audience_class == 'D']"
   ]
  },
  {
   "cell_type": "code",
   "execution_count": 30,
   "metadata": {},
   "outputs": [],
   "source": [
    "corr_df2 = temp2.corr()"
   ]
  },
  {
   "cell_type": "code",
   "execution_count": 31,
   "metadata": {},
   "outputs": [
    {
     "data": {
      "text/plain": [
       "<matplotlib.axes._subplots.AxesSubplot at 0x7f9eedd24850>"
      ]
     },
     "execution_count": 31,
     "metadata": {},
     "output_type": "execute_result"
    },
    {
     "data": {
      "image/png": "[encoded data removed]",
      "text/plain": [
       "<Figure size 432x288 with 1 Axes>"
      ]
     },
     "metadata": {
      "needs_background": "light"
     },
     "output_type": "display_data"
    }
   ],
   "source": [
    "corr_df2[review].loc['kor_audience'].sort_values().plot(kind = 'barh', cmap = 'summer')"
   ]
  },
  {
   "cell_type": "code",
   "execution_count": 32,
   "metadata": {},
   "outputs": [],
   "source": [
    "temp3 = temp[temp.kor_audience_class == 'A']"
   ]
  },
  {
   "cell_type": "code",
   "execution_count": 33,
   "metadata": {},
   "outputs": [],
   "source": [
    "corr_df3 = temp3.corr()"
   ]
  },
  {
   "cell_type": "code",
   "execution_count": 34,
   "metadata": {},
   "outputs": [
    {
     "data": {
      "text/plain": [
       "<matplotlib.axes._subplots.AxesSubplot at 0x7f9eee066a90>"
      ]
     },
     "execution_count": 34,
     "metadata": {},
     "output_type": "execute_result"
    },
    {
     "data": {
      "image/png": "[encoded data removed]",
      "text/plain": [
       "<Figure size 432x288 with 1 Axes>"
      ]
     },
     "metadata": {
      "needs_background": "light"
     },
     "output_type": "display_data"
    }
   ],
   "source": [
    "corr_df3[review].loc['kor_audience'].sort_values().plot(kind = 'barh', cmap = 'summer')"
   ]
  },
  {
   "cell_type": "code",
   "execution_count": null,
   "metadata": {},
   "outputs": [],
   "source": []
  },
  {
   "cell_type": "code",
   "execution_count": null,
   "metadata": {},
   "outputs": [],
   "source": []
  },
  {
   "cell_type": "code",
   "execution_count": null,
   "metadata": {},
   "outputs": [],
   "source": []
  },
  {
   "cell_type": "code",
   "execution_count": null,
   "metadata": {},
   "outputs": [],
   "source": []
  },
  {
   "cell_type": "code",
   "execution_count": null,
   "metadata": {},
   "outputs": [],
   "source": []
  },
  {
   "cell_type": "code",
   "execution_count": null,
   "metadata": {},
   "outputs": [],
   "source": []
  }
 ],
 "metadata": {
  "kernelspec": {
   "display_name": "Python 3",
   "language": "python",
   "name": "python3"
  },
  "language_info": {
   "codemirror_mode": {
    "name": "ipython",
    "version": 3
   },
   "file_extension": ".py",
   "mimetype": "text/x-python",
   "name": "python",
   "nbconvert_exporter": "python",
   "pygments_lexer": "ipython3",
   "version": "3.7.6"
  }
 },
 "nbformat": 4,
 "nbformat_minor": 4
}
