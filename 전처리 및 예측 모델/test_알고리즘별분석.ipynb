{
 "cells": [
  {
   "cell_type": "code",
   "execution_count": null,
   "metadata": {},
   "outputs": [],
   "source": [
    "!pip install konlpy\n",
    "!pip install googletrans\n",
    "!gensim"
   ]
  },
  {
   "cell_type": "code",
   "execution_count": 2,
   "metadata": {},
   "outputs": [
    {
     "name": "stdout",
     "output_type": "stream",
     "text": [
      "[==================================================] 100.0% 252.1/252.1MB downloaded\n"
     ]
    },
    {
     "name": "stderr",
     "output_type": "stream",
     "text": [
      "[nltk_data] Downloading package wordnet to /Users/jeong-\n",
      "[nltk_data]     gyeonghui/nltk_data...\n",
      "[nltk_data]   Unzipping corpora/wordnet.zip.\n",
      "[nltk_data] Downloading package vader_lexicon to /Users/jeong-\n",
      "[nltk_data]     gyeonghui/nltk_data...\n"
     ]
    },
    {
     "data": {
      "text/plain": [
       "True"
      ]
     },
     "execution_count": 2,
     "metadata": {},
     "output_type": "execute_result"
    }
   ],
   "source": [
    "from xgboost import XGBClassifier\n",
    "import xgboost\n",
    "from sklearn.ensemble import RandomForestClassifier\n",
    "import numpy as np\n",
    "import pandas as pd\n",
    "from sklearn import datasets\n",
    "from sklearn.preprocessing import RobustScaler\n",
    "from sklearn.preprocessing import StandardScaler\n",
    "from sklearn.svm import SVC\n",
    "import lightgbm as lgb\n",
    "import sklearn.metrics as mt\n",
    "from sklearn.metrics import accuracy_score, precision_score, recall_score, confusion_matrix, f1_score, classification_report\n",
    "\n",
    "\n",
    "from sklearn.model_selection import cross_val_score\n",
    "from sklearn.model_selection import train_test_split\n",
    "\n",
    "import pandas as pd\n",
    "import warnings \n",
    "warnings.filterwarnings('ignore')\n",
    "\n",
    "# Read Review Data\n",
    "import pandas as pd\n",
    "from tqdm import tqdm\n",
    "import nltk\n",
    "import re \n",
    "from nltk.sentiment.vader import SentimentIntensityAnalyzer\n",
    "from nltk.stem.wordnet import WordNetLemmatizer\n",
    "from tqdm import tqdm\n",
    "import re \n",
    "import tqdm.notebook as tq\n",
    "\n",
    "%matplotlib inline\n",
    "\n",
    "from sklearn import svm\n",
    "from keras.utils import get_file\n",
    "import os\n",
    "import gensim\n",
    "import subprocess\n",
    "import numpy as np\n",
    "import random\n",
    "import requests\n",
    "import pandas as pd\n",
    "from IPython.core.pylabtools import figsize\n",
    "import csv\n",
    "import matplotlib.pyplot as plt\n",
    "\n",
    "import gensim.downloader as api\n",
    "\n",
    "from sklearn.feature_extraction.text import TfidfVectorizer\n",
    "import pandas as pd\n",
    "import numpy as np\n",
    "from numpy.linalg import norm\n",
    "from sklearn.decomposition import PCA\n",
    "from sklearn.cluster import KMeans\n",
    "\n",
    "import konlpy\n",
    "from konlpy.tag import Okt\n",
    "from konlpy.tag import Kkma\n",
    "import re\n",
    "\n",
    "import seaborn as sns\n",
    "import matplotlib.pyplot as plt\n",
    "from tqdm.auto import tqdm\n",
    "tqdm.pandas()\n",
    "\n",
    "from googletrans import Translator\n",
    "translator = Translator()\n",
    "\n",
    "model = api.load('glove-wiki-gigaword-200')\n",
    "\n",
    "tqdm.pandas(position=0, leave=True)\n",
    "\n",
    "nltk.download('wordnet')\n",
    "nltk.download('vader_lexicon')"
   ]
  },
  {
   "cell_type": "code",
   "execution_count": 4,
   "metadata": {},
   "outputs": [],
   "source": [
    "temp = pd.read_excel(\"data/최종일까4.xlsx\")\n",
    "im = pd.read_excel(\"data/1970_2019_imdb2.xlsx\")\n",
    "df = pd.read_excel(\"data/1970_2019_영화전체.xlsx\")"
   ]
  },
  {
   "cell_type": "code",
   "execution_count": 5,
   "metadata": {},
   "outputs": [
    {
     "name": "stdout",
     "output_type": "stream",
     "text": [
      "Start English Preprocessing...\n"
     ]
    },
    {
     "data": {
      "application/vnd.jupyter.widget-view+json": {
       "model_id": "3e4ad58f1417402796365ec4798788c4",
       "version_major": 2,
       "version_minor": 0
      },
      "text/plain": [
       "HBox(children=(FloatProgress(value=0.0, max=5825.0), HTML(value='')))"
      ]
     },
     "metadata": {},
     "output_type": "display_data"
    },
    {
     "name": "stdout",
     "output_type": "stream",
     "text": [
      "\n"
     ]
    },
    {
     "data": {
      "application/vnd.jupyter.widget-view+json": {
       "model_id": "956c223f9bee4839959e6e851752e01b",
       "version_major": 2,
       "version_minor": 0
      },
      "text/plain": [
       "HBox(children=(FloatProgress(value=0.0, max=5825.0), HTML(value='')))"
      ]
     },
     "metadata": {},
     "output_type": "display_data"
    },
    {
     "name": "stdout",
     "output_type": "stream",
     "text": [
      "\n",
      "Start  Sentimental Analysis...\n"
     ]
    },
    {
     "data": {
      "application/vnd.jupyter.widget-view+json": {
       "model_id": "0b82dea3fb9c46309da01f90a3952e17",
       "version_major": 2,
       "version_minor": 0
      },
      "text/plain": [
       "HBox(children=(FloatProgress(value=0.0, max=5825.0), HTML(value='')))"
      ]
     },
     "metadata": {},
     "output_type": "display_data"
    },
    {
     "name": "stdout",
     "output_type": "stream",
     "text": [
      "\n",
      "Start  Comment Analysis...\n"
     ]
    },
    {
     "data": {
      "application/vnd.jupyter.widget-view+json": {
       "model_id": "57483a07acc4464993b4529ad7202d2d",
       "version_major": 2,
       "version_minor": 0
      },
      "text/plain": [
       "HBox(children=(FloatProgress(value=0.0, max=5825.0), HTML(value='')))"
      ]
     },
     "metadata": {},
     "output_type": "display_data"
    },
    {
     "name": "stdout",
     "output_type": "stream",
     "text": [
      "\n"
     ]
    },
    {
     "ename": "NameError",
     "evalue": "name 'words2' is not defined",
     "output_type": "error",
     "traceback": [
      "\u001b[0;31m---------------------------------------------------------------------------\u001b[0m",
      "\u001b[0;31mNameError\u001b[0m                                 Traceback (most recent call last)",
      "\u001b[0;32m<ipython-input-5-86bf0db597a2>\u001b[0m in \u001b[0;36m<module>\u001b[0;34m\u001b[0m\n\u001b[1;32m     82\u001b[0m     \u001b[0mvalues\u001b[0m\u001b[0;34m.\u001b[0m\u001b[0mappend\u001b[0m\u001b[0;34m(\u001b[0m\u001b[0mvalue\u001b[0m\u001b[0;34m)\u001b[0m\u001b[0;34m\u001b[0m\u001b[0;34m\u001b[0m\u001b[0m\n\u001b[1;32m     83\u001b[0m \u001b[0;34m\u001b[0m\u001b[0m\n\u001b[0;32m---> 84\u001b[0;31m \u001b[0mlabels\u001b[0m \u001b[0;34m=\u001b[0m \u001b[0mwords2\u001b[0m\u001b[0;34m\u001b[0m\u001b[0;34m\u001b[0m\u001b[0m\n\u001b[0m\u001b[1;32m     85\u001b[0m \u001b[0mtemp1\u001b[0m \u001b[0;34m=\u001b[0m \u001b[0mpd\u001b[0m\u001b[0;34m.\u001b[0m\u001b[0mDataFrame\u001b[0m\u001b[0;34m(\u001b[0m\u001b[0mvalues\u001b[0m\u001b[0;34m,\u001b[0m \u001b[0mcolumns\u001b[0m \u001b[0;34m=\u001b[0m \u001b[0;34m[\u001b[0m\u001b[0mi\u001b[0m\u001b[0;34m+\u001b[0m\u001b[0;34m\"_com\"\u001b[0m \u001b[0;32mfor\u001b[0m \u001b[0mi\u001b[0m \u001b[0;32min\u001b[0m  \u001b[0mlabels\u001b[0m\u001b[0;34m]\u001b[0m\u001b[0;34m)\u001b[0m\u001b[0;34m\u001b[0m\u001b[0;34m\u001b[0m\u001b[0m\n\u001b[1;32m     86\u001b[0m \u001b[0mtemp2\u001b[0m \u001b[0;34m=\u001b[0m \u001b[0mpd\u001b[0m\u001b[0;34m.\u001b[0m\u001b[0mDataFrame\u001b[0m\u001b[0;34m(\u001b[0m\u001b[0mvalues_pos\u001b[0m\u001b[0;34m,\u001b[0m \u001b[0mcolumns\u001b[0m \u001b[0;34m=\u001b[0m \u001b[0;34m[\u001b[0m\u001b[0mi\u001b[0m\u001b[0;34m+\u001b[0m\u001b[0;34m\"_pos\"\u001b[0m \u001b[0;32mfor\u001b[0m \u001b[0mi\u001b[0m \u001b[0;32min\u001b[0m  \u001b[0mlabels\u001b[0m\u001b[0;34m]\u001b[0m\u001b[0;34m)\u001b[0m\u001b[0;34m\u001b[0m\u001b[0;34m\u001b[0m\u001b[0m\n",
      "\u001b[0;31mNameError\u001b[0m: name 'words2' is not defined"
     ]
    }
   ],
   "source": [
    "# Data\n",
    "# English Preprocessing ----------------------------------------------------------------\n",
    "print(\"Start English Preprocessing...\")\n",
    "def trim_en(text):\n",
    "    text = str(text)\n",
    "    #text =text.lower()\n",
    "    text=re.sub(\"[(<.*?>)'']\",\" \",text)\n",
    "    text=re.sub(\"(\\\\W|\\\\d)\",\" \",text)\n",
    "    text=text.strip()\n",
    "    \n",
    "    return text\n",
    "\n",
    "lemm =  WordNetLemmatizer()\n",
    "sa = SentimentIntensityAnalyzer()\n",
    "\n",
    "im.리뷰 = im.리뷰.progress_apply(trim_en)\n",
    "im.리뷰 = im.리뷰.progress_apply(lambda s:\" \".join([lemm.lemmatize(w) for w in str(s).split()]) )\n",
    "\n",
    "\n",
    "# Sentimental Analysis ----------------------------------------------------------------\n",
    "print(\"Start  Sentimental Analysis...\")\n",
    "im['neg'] = 0\n",
    "im['pos'] = 0\n",
    "im['neu'] = 0\n",
    "im['compound'] = 0\n",
    "\n",
    "for i in tq.tqdm(range(len(im))):\n",
    "    scores = sa.polarity_scores(str(im.loc[i, '리뷰']))\n",
    "    im.loc[i,'neg'] = scores['neg']\n",
    "    im.loc[i,'pos'] = scores['pos']\n",
    "    im.loc[i,'neu'] = scores['neu']\n",
    "    im.loc[i,'compound'] = scores['compound']\n",
    "\n",
    "# Comment Analysis ----------------------------------------------------------------\n",
    "print(\"Start  Comment Analysis...\")\n",
    "words = [\"스토리\", \"음악\", \"연출\", \"배우\",\"연기\"]\n",
    "translator = Translator()\n",
    "trans = translator.translate(words, dest=\"en\")\n",
    "\n",
    "lst2 = [model.most_similar(positive=[lemm.lemmatize(word.text.lower())],topn=50) for word in trans ]\n",
    "lst2 = [ [trans[k].text] + [j[0] for j in i]  for k,i in enumerate(lst2)]\n",
    "\n",
    "values = []\n",
    "values_pos = []\n",
    "values_neg = []\n",
    "\n",
    "for i in tq.tqdm(range(len(im))):\n",
    "    review1 = im.loc[i, '리뷰']\n",
    "    value = [0.001 for i in range(len(lst2))]\n",
    "    value_pos = [0.001 for i in range(len(lst2))]\n",
    "    value_neg = [0.001 for i in range(len(lst2))]\n",
    "    string_split = str(review1).split()\n",
    "    for k2, i in enumerate(string_split):\n",
    "        for k,j in enumerate(lst2):\n",
    "            if i in j:\n",
    "                value[k] +=1\n",
    "                left = max([0, k2-10])\n",
    "                right = k2+10\n",
    "                window = \" \".join(string_split[left:right])\n",
    "                scores = sa.polarity_scores(window)\n",
    "                if scores['compound']>0:\n",
    "                    value_pos[k] += scores['pos']\n",
    "                if scores['compound']<0:\n",
    "                    value_neg[k] += scores['neg']\n",
    "\n",
    "    #Normalize  \n",
    "    #v = [value_pos[i]/value[i] for i in range(len(value_pos))]\n",
    "    #values_pos.append(v)\n",
    "    # else\n",
    "    values_pos.append(value_pos)\n",
    "\n",
    "\n",
    "    #Normalize\n",
    "    #v = [value_neg[i]/value[i] for i in range(len(value_neg))]\n",
    "    #values_neg.append(v)\n",
    "    values_neg.append(value_neg)\n",
    "\n",
    "    #Normalize\n",
    "    #SUM = sum(value)\n",
    "    #v = [i/SUM for i in value]\n",
    "    #values.append(v)\n",
    "    values.append(value)\n",
    "    \n",
    "labels = words\n",
    "temp1 = pd.DataFrame(values, columns = [i+\"_com\" for i in  labels])\n",
    "temp2 = pd.DataFrame(values_pos, columns = [i+\"_pos\" for i in  labels])\n",
    "temp3 = pd.DataFrame(values_neg, columns = [i+\"_neg\" for i in  labels])\n",
    "\n",
    "data1 = pd.concat([im[['neg', 'pos','neu' ,'compound']], temp1, temp2, temp3],axis=1)\n",
    "data1.info()\n",
    "data1.head()"
   ]
  },
  {
   "cell_type": "code",
   "execution_count": 7,
   "metadata": {},
   "outputs": [
    {
     "data": {
      "application/vnd.jupyter.widget-view+json": {
       "model_id": "8954b2cb5ccc4e12a51eb8caaf73fe2b",
       "version_major": 2,
       "version_minor": 0
      },
      "text/plain": [
       "HBox(children=(FloatProgress(value=0.0, max=5825.0), HTML(value='')))"
      ]
     },
     "metadata": {},
     "output_type": "display_data"
    },
    {
     "name": "stdout",
     "output_type": "stream",
     "text": [
      "\n",
      "Kmeans...\n"
     ]
    },
    {
     "data": {
      "application/vnd.jupyter.widget-view+json": {
       "model_id": "0ddfea8167534fab9f248678da3a8560",
       "version_major": 2,
       "version_minor": 0
      },
      "text/plain": [
       "HBox(children=(FloatProgress(value=0.0, max=10.0), HTML(value='')))"
      ]
     },
     "metadata": {},
     "output_type": "display_data"
    },
    {
     "name": "stdout",
     "output_type": "stream",
     "text": [
      "\n"
     ]
    },
    {
     "ename": "NameError",
     "evalue": "name 'data' is not defined",
     "output_type": "error",
     "traceback": [
      "\u001b[0;31m---------------------------------------------------------------------------\u001b[0m",
      "\u001b[0;31mNameError\u001b[0m                                 Traceback (most recent call last)",
      "\u001b[0;32m<ipython-input-7-2aa6e6c6c644>\u001b[0m in \u001b[0;36m<module>\u001b[0;34m\u001b[0m\n\u001b[1;32m     84\u001b[0m     \u001b[0mdata2\u001b[0m\u001b[0;34m[\u001b[0m\u001b[0;34m'center_angle'\u001b[0m\u001b[0;34m+\u001b[0m\u001b[0mstr\u001b[0m\u001b[0;34m(\u001b[0m\u001b[0mi\u001b[0m\u001b[0;34m+\u001b[0m\u001b[0;36m1\u001b[0m\u001b[0;34m)\u001b[0m\u001b[0;34m]\u001b[0m \u001b[0;34m=\u001b[0m \u001b[0;36m0\u001b[0m\u001b[0;34m\u001b[0m\u001b[0;34m\u001b[0m\u001b[0m\n\u001b[1;32m     85\u001b[0m     \u001b[0;32mfor\u001b[0m \u001b[0mj\u001b[0m \u001b[0;32min\u001b[0m \u001b[0mrange\u001b[0m\u001b[0;34m(\u001b[0m\u001b[0mlen\u001b[0m\u001b[0;34m(\u001b[0m\u001b[0mdata2\u001b[0m\u001b[0;34m)\u001b[0m\u001b[0;34m)\u001b[0m\u001b[0;34m:\u001b[0m\u001b[0;34m\u001b[0m\u001b[0;34m\u001b[0m\u001b[0m\n\u001b[0;32m---> 86\u001b[0;31m         \u001b[0mdata2\u001b[0m\u001b[0;34m.\u001b[0m\u001b[0mloc\u001b[0m\u001b[0;34m[\u001b[0m\u001b[0mj\u001b[0m\u001b[0;34m,\u001b[0m \u001b[0;34m'center_angle'\u001b[0m\u001b[0;34m+\u001b[0m\u001b[0mstr\u001b[0m\u001b[0;34m(\u001b[0m\u001b[0mi\u001b[0m\u001b[0;34m+\u001b[0m\u001b[0;36m1\u001b[0m\u001b[0;34m)\u001b[0m\u001b[0;34m]\u001b[0m \u001b[0;34m=\u001b[0m  \u001b[0mcosim\u001b[0m\u001b[0;34m(\u001b[0m\u001b[0mkmeans\u001b[0m\u001b[0;34m.\u001b[0m\u001b[0mcluster_centers_\u001b[0m\u001b[0;34m[\u001b[0m\u001b[0mi\u001b[0m\u001b[0;34m,\u001b[0m\u001b[0;34m:\u001b[0m\u001b[0;34m]\u001b[0m\u001b[0;34m,\u001b[0m \u001b[0mdata\u001b[0m\u001b[0;34m.\u001b[0m\u001b[0miloc\u001b[0m\u001b[0;34m[\u001b[0m\u001b[0mj\u001b[0m\u001b[0;34m,\u001b[0m \u001b[0;36m1\u001b[0m\u001b[0;34m:\u001b[0m\u001b[0mkmeans\u001b[0m\u001b[0;34m.\u001b[0m\u001b[0mcluster_centers_\u001b[0m\u001b[0;34m.\u001b[0m\u001b[0mshape\u001b[0m\u001b[0;34m[\u001b[0m\u001b[0;36m1\u001b[0m\u001b[0;34m]\u001b[0m\u001b[0;34m+\u001b[0m\u001b[0;36m1\u001b[0m\u001b[0;34m]\u001b[0m\u001b[0;34m.\u001b[0m\u001b[0mvalues\u001b[0m \u001b[0;34m)\u001b[0m\u001b[0;34m\u001b[0m\u001b[0;34m\u001b[0m\u001b[0m\n\u001b[0m\u001b[1;32m     87\u001b[0m \u001b[0;34m\u001b[0m\u001b[0m\n\u001b[1;32m     88\u001b[0m \u001b[0mdata2\u001b[0m \u001b[0;34m=\u001b[0m \u001b[0mdata2\u001b[0m\u001b[0;34m.\u001b[0m\u001b[0mset_index\u001b[0m\u001b[0;34m(\u001b[0m\u001b[0;34m'df_index'\u001b[0m\u001b[0;34m)\u001b[0m\u001b[0;34m\u001b[0m\u001b[0;34m\u001b[0m\u001b[0m\n",
      "\u001b[0;31mNameError\u001b[0m: name 'data' is not defined"
     ]
    }
   ],
   "source": [
    "def cosim(x,y):\n",
    "    denom = norm(x)* norm(y)\n",
    "    if denom==0:\n",
    "        return 0\n",
    "    return np.dot(x,y.T)/(norm(x)* norm(y))\n",
    "\n",
    "def nuclear_norm(x,y):\n",
    "    return np.sum(np.abs(x-y))\n",
    "\n",
    "def spectral_norm(x,y):\n",
    "    return np.max(np.abs(x-y))\n",
    "\n",
    "def l2_norm(x,y):\n",
    "    return np.sqrt(np.sum((x-y)**2))\n",
    "\n",
    "def rbf_kernel(x,y):\n",
    "    return np.exp(-1/2*(np.sum((x-y)**2)))\n",
    "\n",
    "def most_similar(X, x, n, method=\"cosine\"):\n",
    "    if method==\"cosine\":\n",
    "        lst = [(cosim(X[x, :], X[i,:]), i) for i in range(len(X))]\n",
    "        lst.sort(reverse=True)\n",
    "    if method==\"nuclear\":\n",
    "        lst = [(nuclear_norm(X[x, :], X[i,:]), i) for i in range(len(X))]\n",
    "        lst.sort(reverse=False)\n",
    "    if method==\"spectral\":\n",
    "        lst = [(spectral_norm(X[x, :], X[i,:]), i) for i in range(len(X))]\n",
    "        lst.sort(reverse=False)\n",
    "    if method==\"l2\":\n",
    "        lst = [(l2_norm(X[x, :], X[i,:]), i) for i in range(len(X))]\n",
    "        lst.sort(reverse=False)    \n",
    "    if method==\"rbf\":\n",
    "        lst = [(rbf_kernel(X[x, :], X[i,:]), i) for i in range(len(X))]\n",
    "        lst.sort(reverse=False)    \n",
    "    return lst[:n]\n",
    "\n",
    "\n",
    "# Korean \n",
    "\n",
    "okt = Okt()\n",
    "kkma = Kkma()\n",
    "def trim_ko(x):\n",
    "    text=re.sub(\"[(<.*?>)/'…“”']\",\" \",x)\n",
    "    #text=re.sub(\"(\\\\W|\\\\d)\",\" \",text)\n",
    "    \n",
    "    #text = kkma.sentences(text)\n",
    "    #print(text)\n",
    "    text = \" \".join([w[0] for w in okt.pos(text) if w[1]==\"Noun\" or w[1]=='Verb' or w[1]==\"Adjective\"])\n",
    "    #textx= \" \".join([w[0] for w in kkma.pos(text) if w[1]=='NNG' or w[1]=='VA' or w[1]==\"MAG\"  or w[1]=='MAC'])\n",
    "\n",
    "    #remove whitespace\n",
    "    text=text.strip()\n",
    "    return text\n",
    "\n",
    "\n",
    "df.스토리_ko.fillna(\"\", inplace=True)\n",
    "df.스토리_ko = df.스토리_ko.astype(str)\n",
    "df.genres = df.genres.astype(str)\n",
    "\n",
    "df.스토리_ko = df.스토리_ko.apply(lambda x:x.replace(\"\\n\",\" \"))\n",
    "df.스토리_ko = df.스토리_ko.progress_apply(trim_ko)\n",
    "\n",
    "corpus = df.스토리_ko[(df.스토리_ko.notnull()) & (df.스토리_ko.apply(lambda x: True if len(x)>3 else False))]\n",
    "corpus = corpus.reset_index()\n",
    "\n",
    "vectorizer = TfidfVectorizer(max_features=2000)\n",
    "X = vectorizer.fit_transform(corpus.스토리_ko.values)\n",
    "X = X.toarray()\n",
    "\n",
    "pca = PCA(n_components=5)\n",
    "pca.fit(X)\n",
    "\n",
    "new_X = pca.fit_transform(X)\n",
    "\n",
    "kmeans = KMeans(n_clusters=10, random_state=0).fit(new_X)\n",
    "\n",
    "data2 = pd.DataFrame([corpus['index'], new_X[:,0], new_X[:,1], new_X[:,2],new_X[:,3], new_X[:,4], kmeans.labels_]).T\n",
    "data2.columns=['df_index','x0','x1','x2','x3','x4','label']\n",
    "data2.df_index = data2.df_index.astype(int)\n",
    "data2.label = data2.label.astype(int)\n",
    "\n",
    "print(\"Kmeans...\")\n",
    "for i in tqdm(range(kmeans.cluster_centers_.shape[0])):\n",
    "    data2['center_angle'+str(i+1)] = 0\n",
    "    for j in range(len(data2)):\n",
    "        data2.loc[j, 'center_angle'+str(i+1)] =  cosim(kmeans.cluster_centers_[i,:], data2.iloc[j, 1:kmeans.cluster_centers_.shape[1]+1].values )\n",
    "\n",
    "data2 = data2.set_index('df_index')"
   ]
  },
  {
   "cell_type": "code",
   "execution_count": 9,
   "metadata": {},
   "outputs": [
    {
     "data": {
      "text/html": [
       "<div>\n",
       "<style scoped>\n",
       "    .dataframe tbody tr th:only-of-type {\n",
       "        vertical-align: middle;\n",
       "    }\n",
       "\n",
       "    .dataframe tbody tr th {\n",
       "        vertical-align: top;\n",
       "    }\n",
       "\n",
       "    .dataframe thead th {\n",
       "        text-align: right;\n",
       "    }\n",
       "</style>\n",
       "<table border=\"1\" class=\"dataframe\">\n",
       "  <thead>\n",
       "    <tr style=\"text-align: right;\">\n",
       "      <th></th>\n",
       "      <th>movienm</th>\n",
       "      <th>showtm</th>\n",
       "      <th>prdtyear</th>\n",
       "      <th>domestic</th>\n",
       "      <th>mpaa</th>\n",
       "      <th>raters</th>\n",
       "      <th>ratings</th>\n",
       "      <th>kor_revenue</th>\n",
       "      <th>kor_audience</th>\n",
       "      <th>sf</th>\n",
       "      <th>...</th>\n",
       "      <th>center_angle1</th>\n",
       "      <th>center_angle2</th>\n",
       "      <th>center_angle3</th>\n",
       "      <th>center_angle4</th>\n",
       "      <th>center_angle5</th>\n",
       "      <th>center_angle6</th>\n",
       "      <th>center_angle7</th>\n",
       "      <th>center_angle8</th>\n",
       "      <th>center_angle9</th>\n",
       "      <th>center_angle10</th>\n",
       "    </tr>\n",
       "    <tr>\n",
       "      <th>index</th>\n",
       "      <th></th>\n",
       "      <th></th>\n",
       "      <th></th>\n",
       "      <th></th>\n",
       "      <th></th>\n",
       "      <th></th>\n",
       "      <th></th>\n",
       "      <th></th>\n",
       "      <th></th>\n",
       "      <th></th>\n",
       "      <th></th>\n",
       "      <th></th>\n",
       "      <th></th>\n",
       "      <th></th>\n",
       "      <th></th>\n",
       "      <th></th>\n",
       "      <th></th>\n",
       "      <th></th>\n",
       "      <th></th>\n",
       "      <th></th>\n",
       "      <th></th>\n",
       "    </tr>\n",
       "  </thead>\n",
       "  <tbody>\n",
       "    <tr>\n",
       "      <th>2</th>\n",
       "      <td>드라이브</td>\n",
       "      <td>100</td>\n",
       "      <td>2011</td>\n",
       "      <td>35061555</td>\n",
       "      <td>15</td>\n",
       "      <td>228016</td>\n",
       "      <td>7.2</td>\n",
       "      <td>156237980</td>\n",
       "      <td>D</td>\n",
       "      <td>0</td>\n",
       "      <td>...</td>\n",
       "      <td>NaN</td>\n",
       "      <td>NaN</td>\n",
       "      <td>NaN</td>\n",
       "      <td>NaN</td>\n",
       "      <td>NaN</td>\n",
       "      <td>NaN</td>\n",
       "      <td>NaN</td>\n",
       "      <td>NaN</td>\n",
       "      <td>NaN</td>\n",
       "      <td>NaN</td>\n",
       "    </tr>\n",
       "    <tr>\n",
       "      <th>7</th>\n",
       "      <td>조조 래빗</td>\n",
       "      <td>108</td>\n",
       "      <td>2019</td>\n",
       "      <td>33370906</td>\n",
       "      <td>12</td>\n",
       "      <td>250206</td>\n",
       "      <td>7.9</td>\n",
       "      <td>965083200</td>\n",
       "      <td>C</td>\n",
       "      <td>0</td>\n",
       "      <td>...</td>\n",
       "      <td>0.323093</td>\n",
       "      <td>-0.397164</td>\n",
       "      <td>-0.744790</td>\n",
       "      <td>0.569103</td>\n",
       "      <td>-0.155152</td>\n",
       "      <td>-0.116992</td>\n",
       "      <td>0.661112</td>\n",
       "      <td>0.204118</td>\n",
       "      <td>-0.224096</td>\n",
       "      <td>0.072463</td>\n",
       "    </tr>\n",
       "    <tr>\n",
       "      <th>10</th>\n",
       "      <td>존 윅 - 리로드</td>\n",
       "      <td>122</td>\n",
       "      <td>2017</td>\n",
       "      <td>92029184</td>\n",
       "      <td>18</td>\n",
       "      <td>351231</td>\n",
       "      <td>7.5</td>\n",
       "      <td>2231583601</td>\n",
       "      <td>C</td>\n",
       "      <td>0</td>\n",
       "      <td>...</td>\n",
       "      <td>NaN</td>\n",
       "      <td>NaN</td>\n",
       "      <td>NaN</td>\n",
       "      <td>NaN</td>\n",
       "      <td>NaN</td>\n",
       "      <td>NaN</td>\n",
       "      <td>NaN</td>\n",
       "      <td>NaN</td>\n",
       "      <td>NaN</td>\n",
       "      <td>NaN</td>\n",
       "    </tr>\n",
       "    <tr>\n",
       "      <th>13</th>\n",
       "      <td>메멘토</td>\n",
       "      <td>113</td>\n",
       "      <td>2000</td>\n",
       "      <td>25544867</td>\n",
       "      <td>15</td>\n",
       "      <td>1096788</td>\n",
       "      <td>8.4</td>\n",
       "      <td>325278300</td>\n",
       "      <td>D</td>\n",
       "      <td>0</td>\n",
       "      <td>...</td>\n",
       "      <td>0.204231</td>\n",
       "      <td>0.775064</td>\n",
       "      <td>0.311798</td>\n",
       "      <td>-0.040746</td>\n",
       "      <td>-0.791138</td>\n",
       "      <td>0.087187</td>\n",
       "      <td>-0.185423</td>\n",
       "      <td>-0.102267</td>\n",
       "      <td>0.199356</td>\n",
       "      <td>-0.904310</td>\n",
       "    </tr>\n",
       "    <tr>\n",
       "      <th>25</th>\n",
       "      <td>존 윅: 특별판</td>\n",
       "      <td>107</td>\n",
       "      <td>2014</td>\n",
       "      <td>43037835</td>\n",
       "      <td>18</td>\n",
       "      <td>519268</td>\n",
       "      <td>7.4</td>\n",
       "      <td>81322120</td>\n",
       "      <td>D</td>\n",
       "      <td>0</td>\n",
       "      <td>...</td>\n",
       "      <td>-0.526295</td>\n",
       "      <td>-0.083300</td>\n",
       "      <td>-0.435791</td>\n",
       "      <td>0.897787</td>\n",
       "      <td>-0.041482</td>\n",
       "      <td>0.062484</td>\n",
       "      <td>-0.422683</td>\n",
       "      <td>-0.503666</td>\n",
       "      <td>0.109327</td>\n",
       "      <td>0.159718</td>\n",
       "    </tr>\n",
       "    <tr>\n",
       "      <th>...</th>\n",
       "      <td>...</td>\n",
       "      <td>...</td>\n",
       "      <td>...</td>\n",
       "      <td>...</td>\n",
       "      <td>...</td>\n",
       "      <td>...</td>\n",
       "      <td>...</td>\n",
       "      <td>...</td>\n",
       "      <td>...</td>\n",
       "      <td>...</td>\n",
       "      <td>...</td>\n",
       "      <td>...</td>\n",
       "      <td>...</td>\n",
       "      <td>...</td>\n",
       "      <td>...</td>\n",
       "      <td>...</td>\n",
       "      <td>...</td>\n",
       "      <td>...</td>\n",
       "      <td>...</td>\n",
       "      <td>...</td>\n",
       "      <td>...</td>\n",
       "    </tr>\n",
       "    <tr>\n",
       "      <th>5780</th>\n",
       "      <td>쿼터매인</td>\n",
       "      <td>99</td>\n",
       "      <td>1986</td>\n",
       "      <td>3751699</td>\n",
       "      <td>12</td>\n",
       "      <td>8643</td>\n",
       "      <td>4.6</td>\n",
       "      <td>147000</td>\n",
       "      <td>F</td>\n",
       "      <td>0</td>\n",
       "      <td>...</td>\n",
       "      <td>NaN</td>\n",
       "      <td>NaN</td>\n",
       "      <td>NaN</td>\n",
       "      <td>NaN</td>\n",
       "      <td>NaN</td>\n",
       "      <td>NaN</td>\n",
       "      <td>NaN</td>\n",
       "      <td>NaN</td>\n",
       "      <td>NaN</td>\n",
       "      <td>NaN</td>\n",
       "    </tr>\n",
       "    <tr>\n",
       "      <th>5783</th>\n",
       "      <td>크로커다일 던디2</td>\n",
       "      <td>112</td>\n",
       "      <td>1988</td>\n",
       "      <td>109306210</td>\n",
       "      <td>15</td>\n",
       "      <td>844</td>\n",
       "      <td>3.3</td>\n",
       "      <td>39000</td>\n",
       "      <td>F</td>\n",
       "      <td>0</td>\n",
       "      <td>...</td>\n",
       "      <td>0.356034</td>\n",
       "      <td>0.700931</td>\n",
       "      <td>0.724647</td>\n",
       "      <td>-0.735532</td>\n",
       "      <td>-0.386863</td>\n",
       "      <td>-0.007150</td>\n",
       "      <td>-0.099774</td>\n",
       "      <td>0.123897</td>\n",
       "      <td>0.083190</td>\n",
       "      <td>-0.655104</td>\n",
       "    </tr>\n",
       "    <tr>\n",
       "      <th>5788</th>\n",
       "      <td>탱고와 캐쉬</td>\n",
       "      <td>100</td>\n",
       "      <td>1989</td>\n",
       "      <td>63408614</td>\n",
       "      <td>15</td>\n",
       "      <td>307534</td>\n",
       "      <td>7.5</td>\n",
       "      <td>266000</td>\n",
       "      <td>F</td>\n",
       "      <td>0</td>\n",
       "      <td>...</td>\n",
       "      <td>0.127171</td>\n",
       "      <td>0.796803</td>\n",
       "      <td>0.808207</td>\n",
       "      <td>-0.543126</td>\n",
       "      <td>-0.196476</td>\n",
       "      <td>-0.188776</td>\n",
       "      <td>-0.566519</td>\n",
       "      <td>-0.312025</td>\n",
       "      <td>0.121394</td>\n",
       "      <td>-0.431946</td>\n",
       "    </tr>\n",
       "    <tr>\n",
       "      <th>5807</th>\n",
       "      <td>폴링 인 러브</td>\n",
       "      <td>110</td>\n",
       "      <td>1984</td>\n",
       "      <td>11129057</td>\n",
       "      <td>12</td>\n",
       "      <td>12334</td>\n",
       "      <td>6.5</td>\n",
       "      <td>4186000</td>\n",
       "      <td>D</td>\n",
       "      <td>0</td>\n",
       "      <td>...</td>\n",
       "      <td>0.266843</td>\n",
       "      <td>-0.325129</td>\n",
       "      <td>-0.248123</td>\n",
       "      <td>-0.284693</td>\n",
       "      <td>-0.290279</td>\n",
       "      <td>-0.126371</td>\n",
       "      <td>-0.351626</td>\n",
       "      <td>-0.180282</td>\n",
       "      <td>0.950724</td>\n",
       "      <td>-0.118663</td>\n",
       "    </tr>\n",
       "    <tr>\n",
       "      <th>5823</th>\n",
       "      <td>햄버거 힐</td>\n",
       "      <td>109</td>\n",
       "      <td>1987</td>\n",
       "      <td>13839404</td>\n",
       "      <td>18</td>\n",
       "      <td>23328</td>\n",
       "      <td>6.7</td>\n",
       "      <td>134000</td>\n",
       "      <td>F</td>\n",
       "      <td>0</td>\n",
       "      <td>...</td>\n",
       "      <td>-0.207928</td>\n",
       "      <td>-0.156683</td>\n",
       "      <td>0.512577</td>\n",
       "      <td>-0.697381</td>\n",
       "      <td>0.622814</td>\n",
       "      <td>0.300185</td>\n",
       "      <td>0.321735</td>\n",
       "      <td>0.560205</td>\n",
       "      <td>-0.446290</td>\n",
       "      <td>0.356748</td>\n",
       "    </tr>\n",
       "  </tbody>\n",
       "</table>\n",
       "<p>3490 rows × 72 columns</p>\n",
       "</div>"
      ],
      "text/plain": [
       "         movienm  showtm  prdtyear   domestic  mpaa   raters  ratings  \\\n",
       "index                                                                   \n",
       "2           드라이브     100      2011   35061555    15   228016      7.2   \n",
       "7          조조 래빗     108      2019   33370906    12   250206      7.9   \n",
       "10     존 윅 - 리로드     122      2017   92029184    18   351231      7.5   \n",
       "13           메멘토     113      2000   25544867    15  1096788      8.4   \n",
       "25      존 윅: 특별판     107      2014   43037835    18   519268      7.4   \n",
       "...          ...     ...       ...        ...   ...      ...      ...   \n",
       "5780        쿼터매인      99      1986    3751699    12     8643      4.6   \n",
       "5783   크로커다일 던디2     112      1988  109306210    15      844      3.3   \n",
       "5788      탱고와 캐쉬     100      1989   63408614    15   307534      7.5   \n",
       "5807     폴링 인 러브     110      1984   11129057    12    12334      6.5   \n",
       "5823       햄버거 힐     109      1987   13839404    18    23328      6.7   \n",
       "\n",
       "       kor_revenue kor_audience  sf  ...  center_angle1  center_angle2  \\\n",
       "index                                ...                                 \n",
       "2        156237980            D   0  ...            NaN            NaN   \n",
       "7        965083200            C   0  ...       0.323093      -0.397164   \n",
       "10      2231583601            C   0  ...            NaN            NaN   \n",
       "13       325278300            D   0  ...       0.204231       0.775064   \n",
       "25        81322120            D   0  ...      -0.526295      -0.083300   \n",
       "...            ...          ...  ..  ...            ...            ...   \n",
       "5780        147000            F   0  ...            NaN            NaN   \n",
       "5783         39000            F   0  ...       0.356034       0.700931   \n",
       "5788        266000            F   0  ...       0.127171       0.796803   \n",
       "5807       4186000            D   0  ...       0.266843      -0.325129   \n",
       "5823        134000            F   0  ...      -0.207928      -0.156683   \n",
       "\n",
       "       center_angle3  center_angle4  center_angle5  center_angle6  \\\n",
       "index                                                               \n",
       "2                NaN            NaN            NaN            NaN   \n",
       "7          -0.744790       0.569103      -0.155152      -0.116992   \n",
       "10               NaN            NaN            NaN            NaN   \n",
       "13          0.311798      -0.040746      -0.791138       0.087187   \n",
       "25         -0.435791       0.897787      -0.041482       0.062484   \n",
       "...              ...            ...            ...            ...   \n",
       "5780             NaN            NaN            NaN            NaN   \n",
       "5783        0.724647      -0.735532      -0.386863      -0.007150   \n",
       "5788        0.808207      -0.543126      -0.196476      -0.188776   \n",
       "5807       -0.248123      -0.284693      -0.290279      -0.126371   \n",
       "5823        0.512577      -0.697381       0.622814       0.300185   \n",
       "\n",
       "       center_angle7  center_angle8  center_angle9  center_angle10  \n",
       "index                                                               \n",
       "2                NaN            NaN            NaN             NaN  \n",
       "7           0.661112       0.204118      -0.224096        0.072463  \n",
       "10               NaN            NaN            NaN             NaN  \n",
       "13         -0.185423      -0.102267       0.199356       -0.904310  \n",
       "25         -0.422683      -0.503666       0.109327        0.159718  \n",
       "...              ...            ...            ...             ...  \n",
       "5780             NaN            NaN            NaN             NaN  \n",
       "5783       -0.099774       0.123897       0.083190       -0.655104  \n",
       "5788       -0.566519      -0.312025       0.121394       -0.431946  \n",
       "5807       -0.351626      -0.180282       0.950724       -0.118663  \n",
       "5823        0.321735       0.560205      -0.446290        0.356748  \n",
       "\n",
       "[3490 rows x 72 columns]"
      ]
     },
     "execution_count": 9,
     "metadata": {},
     "output_type": "execute_result"
    }
   ],
   "source": [
    "temp = temp[['index', 'movienm', 'showtm', 'prdtyear', 'domestic', 'mpaa', 'raters',\n",
    "       'ratings', 'kor_revenue', 'kor_audience', 'sf', 'family', 'performance',\n",
    "       'horror', 'etc', 'documentary', 'drama', 'romance', 'musical',\n",
    "       'mystery', 'crime', 'history', 'western', 'adult', 'thriller',\n",
    "       'animation', 'action', 'adventure', 'war', 'comedy', 'fantasy',\n",
    "       'director_appearance', 'director_revenue', 'distributor_share',\n",
    "       'opendt_quarter', 'year_gap', 'showtypes_num', 'actor_score']]\n",
    "\n",
    "temp = temp.set_index('index')\n",
    "temp = temp.join(data1)\n",
    "temp = temp.join(data2)\n",
    "temp"
   ]
  },
  {
   "cell_type": "code",
   "execution_count": 10,
   "metadata": {},
   "outputs": [
    {
     "data": {
      "text/plain": [
       "Index(['movienm', 'showtm', 'prdtyear', 'domestic', 'mpaa', 'raters',\n",
       "       'ratings', 'kor_revenue', 'kor_audience', 'sf', 'family', 'performance',\n",
       "       'horror', 'etc', 'documentary', 'drama', 'romance', 'musical',\n",
       "       'mystery', 'crime', 'history', 'western', 'adult', 'thriller',\n",
       "       'animation', 'action', 'adventure', 'war', 'comedy', 'fantasy',\n",
       "       'director_appearance', 'director_revenue', 'distributor_share',\n",
       "       'opendt_quarter', 'year_gap', 'showtypes_num', 'actor_score', 'neg',\n",
       "       'pos', 'neu', 'compound', '스토리_com', '음악_com', '연출_com', '배우_com',\n",
       "       '연기_com', '스토리_pos', '음악_pos', '연출_pos', '배우_pos', '연기_pos', '스토리_neg',\n",
       "       '음악_neg', '연출_neg', '배우_neg', '연기_neg', 'x0', 'x1', 'x2', 'x3', 'x4',\n",
       "       'label', 'center_angle1', 'center_angle2', 'center_angle3',\n",
       "       'center_angle4', 'center_angle5', 'center_angle6', 'center_angle7',\n",
       "       'center_angle8', 'center_angle9', 'center_angle10'],\n",
       "      dtype='object')"
      ]
     },
     "execution_count": 10,
     "metadata": {},
     "output_type": "execute_result"
    }
   ],
   "source": [
    "temp.columns"
   ]
  },
  {
   "cell_type": "markdown",
   "metadata": {},
   "source": [
    "## 알고리즘 함수 정의"
   ]
  },
  {
   "cell_type": "code",
   "execution_count": 11,
   "metadata": {},
   "outputs": [],
   "source": [
    "from sklearn.tree import DecisionTreeClassifier\n",
    "from sklearn.ensemble import RandomForestClassifier\n",
    "from sklearn.ensemble import GradientBoostingClassifier\n",
    "# from sklearn.svm import SVC\n",
    "from lightgbm import LGBMClassifier\n",
    "from sklearn.neural_network import MLPClassifier\n",
    "from sklearn.linear_model import LinearRegression\n",
    "from sklearn.linear_model import LogisticRegression"
   ]
  },
  {
   "cell_type": "code",
   "execution_count": 12,
   "metadata": {},
   "outputs": [],
   "source": [
    "def DecisionTreeTest(x_train,x_test, y_train, y_test):\n",
    "    clf = DecisionTreeClassifier()\n",
    "    clf.fit(x_train,y_train)\n",
    "    prediction=clf.predict(x_test)\n",
    "    print(\"DecisionTreeTest 정확도 : %.4f\"%accuracy_score(y_test,prediction))\n",
    "\n",
    "\n",
    "def RandomForestTest(x_train,x_test, y_train, y_test):\n",
    "    rf_clf = RandomForestClassifier(random_state=0)\n",
    "    rf_clf.fit(x_train, y_train)\n",
    "    pred = rf_clf.predict(x_test)\n",
    "    accuracy=accuracy_score(y_test,pred)\n",
    "    print('랜덤포레스트 정확도 : {0:.4f}'.format(accuracy))\n",
    "\n",
    "def GBMTest(x_train,x_test, y_train, y_test) :\n",
    "    #GBM모델 셋업\n",
    "    gb_clf=GradientBoostingClassifier(random_state=0)\n",
    "    gb_clf.fit(x_train,y_train)\n",
    "    gb_pred=gb_clf.predict(x_test)\n",
    "    gb_accuracy = accuracy_score(y_test,gb_pred)\n",
    "    print('GradientBoostingClassifier 정확도:{0:.4f}'.format(gb_accuracy))\n",
    "    \n",
    "def LightGBMTest(x_train,x_test, y_train, y_test):\n",
    "    lgbm_clf = LGBMClassifier(random_state=0)\n",
    "    lgbm_clf.fit(x_train, y_train)\n",
    "    pred = lgbm_clf.predict(x_test)\n",
    "    accuracy=accuracy_score(y_test,pred)\n",
    "    print('LGBMClassifier 정확도:{0:.4f}'.format(accuracy))\n",
    "\n",
    "def MLPClassifierTest(x_train,x_test, y_train, y_test):\n",
    "    MLP_clf = MLPClassifier()\n",
    "    MLP_clf.fit(x_train,y_train)\n",
    "    pred = MLP_clf.predict(x_test)\n",
    "    accuracy=accuracy_score(y_test,pred)\n",
    "    print('MLPClassifier 정확도:{0:.4f}'.format(accuracy))\n",
    "#     print(\"MLPClassifier 수행시간 : {0:1.4f}초\".format(time.time()-start_time))\n",
    "    \n",
    "    #http://blog.naver.com/PostView.nhn?blogId=samsjang&logNo=220969601609&categoryNo=0&parentCategoryNo=0&viewDate=&currentPage=1&postListTopCurrentPage=1&from=postView\n",
    "    \n",
    "def linearRegression(x_train,x_test, y_train, y_test) : \n",
    "    LR=LinearRegression()\n",
    "    LR.fit(x_train,y_train)\n",
    "    # y_test2 = LR.predict(x_test2)\n",
    "    score=LR.score(x_test,y_test)\n",
    "    print(\"선형회귀 값 : %.6f\"%score)\n",
    "#     print(\"Misclassification samples : %d\" %(y_train2 != y_test2).sum())\n",
    "\n",
    "def logisticRegression(x_train,x_test, y_train, y_test) : \n",
    "    LR=LogisticRegression(C=1000.0,random_state=0)\n",
    "    LR.fit(x_train,y_train)\n",
    "    # y_test2 = LR.predict(x_test2)\n",
    "    score=LR.score(x_test,y_test)\n",
    "    print(\"로지스틱 회귀 값 : %.6f\"%score)\n",
    "#     print(\"Misclassification samples : %d\" %(y_train2 != y_test2).sum())"
   ]
  },
  {
   "cell_type": "code",
   "execution_count": null,
   "metadata": {},
   "outputs": [],
   "source": []
  },
  {
   "cell_type": "code",
   "execution_count": null,
   "metadata": {},
   "outputs": [],
   "source": [
    "pd.options.display.float_format = '{:.7f}'.format\n",
    "#pd.set_option('display.float_format', None)"
   ]
  },
  {
   "cell_type": "code",
   "execution_count": null,
   "metadata": {},
   "outputs": [],
   "source": [
    "temp.kor_audience.describe()"
   ]
  },
  {
   "cell_type": "code",
   "execution_count": 13,
   "metadata": {},
   "outputs": [
    {
     "data": {
      "text/plain": [
       "Index(['movienm', 'showtm', 'prdtyear', 'domestic', 'mpaa', 'raters',\n",
       "       'ratings', 'kor_revenue', 'kor_audience', 'sf', 'family', 'performance',\n",
       "       'horror', 'etc', 'documentary', 'drama', 'romance', 'musical',\n",
       "       'mystery', 'crime', 'history', 'western', 'adult', 'thriller',\n",
       "       'animation', 'action', 'adventure', 'war', 'comedy', 'fantasy',\n",
       "       'director_appearance', 'director_revenue', 'distributor_share',\n",
       "       'opendt_quarter', 'year_gap', 'showtypes_num', 'actor_score', 'neg',\n",
       "       'pos', 'neu', 'compound', '스토리_com', '음악_com', '연출_com', '배우_com',\n",
       "       '연기_com', '스토리_pos', '음악_pos', '연출_pos', '배우_pos', '연기_pos', '스토리_neg',\n",
       "       '음악_neg', '연출_neg', '배우_neg', '연기_neg', 'x0', 'x1', 'x2', 'x3', 'x4',\n",
       "       'label', 'center_angle1', 'center_angle2', 'center_angle3',\n",
       "       'center_angle4', 'center_angle5', 'center_angle6', 'center_angle7',\n",
       "       'center_angle8', 'center_angle9', 'center_angle10'],\n",
       "      dtype='object')"
      ]
     },
     "execution_count": 13,
     "metadata": {},
     "output_type": "execute_result"
    }
   ],
   "source": [
    "temp.columns"
   ]
  },
  {
   "cell_type": "code",
   "execution_count": 14,
   "metadata": {},
   "outputs": [],
   "source": [
    "temp.columns = ['movienm', 'showtm', 'prdtyear', 'domestic', 'mpaa', 'raters',\n",
    "       'ratings', 'kor_revenue', 'kor_audience', 'sf', 'family', 'performance',\n",
    "       'horror', 'etc', 'documentary', 'drama', 'romance', 'musical',\n",
    "       'mystery', 'crime', 'history', 'western', 'adult', 'thriller',\n",
    "       'animation', 'action', 'adventure', 'war', 'comedy', 'fantasy',\n",
    "       'director_appearance', 'director_revenue', 'distributor_share',\n",
    "       'opendt_quarter', 'year_gap', 'showtypes_num', 'actor_score', 'neg',\n",
    "       'pos', 'neu', 'compound', 'story_com', 'music_com', 'direction_com',\n",
    "       'actor_com', 'acting_com', 'story_pos', 'music_pos', 'direction_pos',\n",
    "       'actor_pos', 'acting_pos', 'story_neg', 'music_neg', 'direction_neg',\n",
    "       'actor_neg', 'acting_neg', 'x0', 'x1', 'x2', 'x3', 'x4',\n",
    "       'label', 'center_angle1', 'center_angle2', 'center_angle3',\n",
    "       'center_angle4', 'center_angle5', 'center_angle6', 'center_angle7',\n",
    "       'center_angle8', 'center_angle9', 'center_angle10']"
   ]
  },
  {
   "cell_type": "code",
   "execution_count": 19,
   "metadata": {},
   "outputs": [],
   "source": [
    "temp = temp.fillna(0)"
   ]
  },
  {
   "cell_type": "code",
   "execution_count": 23,
   "metadata": {},
   "outputs": [],
   "source": [
    "호에 = temp[['actor_score', 'neg',\n",
    "       'pos', 'neu', 'compound', 'story_com', 'music_com', 'direction_com',\n",
    "       'actor_com', 'acting_com', 'story_pos', 'music_pos', 'direction_pos',\n",
    "       'actor_pos', 'acting_pos', 'story_neg', 'music_neg', 'direction_neg',\n",
    "       'actor_neg', 'acting_neg']]"
   ]
  },
  {
   "cell_type": "code",
   "execution_count": 64,
   "metadata": {},
   "outputs": [],
   "source": [
    "temp.to_excel(\"최종일까_댓글빈도순.xlsx\") # 이거 파일이 저장될테니 밑에 분석하실땐 이 파일 불러서 쓰시면 됩니다."
   ]
  },
  {
   "cell_type": "code",
   "execution_count": null,
   "metadata": {},
   "outputs": [],
   "source": []
  },
  {
   "cell_type": "code",
   "execution_count": 65,
   "metadata": {},
   "outputs": [],
   "source": [
    "temp = temp[temp.compound != 0]"
   ]
  },
  {
   "cell_type": "code",
   "execution_count": 98,
   "metadata": {},
   "outputs": [],
   "source": [
    "temp = temp[temp.compound != 1] #이건 제거해야합니다 compound 1인거 살려야합니다"
   ]
  },
  {
   "cell_type": "code",
   "execution_count": 24,
   "metadata": {},
   "outputs": [
    {
     "data": {
      "text/html": [
       "<div>\n",
       "<style scoped>\n",
       "    .dataframe tbody tr th:only-of-type {\n",
       "        vertical-align: middle;\n",
       "    }\n",
       "\n",
       "    .dataframe tbody tr th {\n",
       "        vertical-align: top;\n",
       "    }\n",
       "\n",
       "    .dataframe thead th {\n",
       "        text-align: right;\n",
       "    }\n",
       "</style>\n",
       "<table border=\"1\" class=\"dataframe\">\n",
       "  <thead>\n",
       "    <tr style=\"text-align: right;\">\n",
       "      <th></th>\n",
       "      <th>actor_score</th>\n",
       "      <th>neg</th>\n",
       "      <th>pos</th>\n",
       "      <th>neu</th>\n",
       "      <th>compound</th>\n",
       "      <th>story_com</th>\n",
       "      <th>music_com</th>\n",
       "      <th>direction_com</th>\n",
       "      <th>actor_com</th>\n",
       "      <th>acting_com</th>\n",
       "      <th>story_pos</th>\n",
       "      <th>music_pos</th>\n",
       "      <th>direction_pos</th>\n",
       "      <th>actor_pos</th>\n",
       "      <th>acting_pos</th>\n",
       "      <th>story_neg</th>\n",
       "      <th>music_neg</th>\n",
       "      <th>direction_neg</th>\n",
       "      <th>actor_neg</th>\n",
       "      <th>acting_neg</th>\n",
       "    </tr>\n",
       "    <tr>\n",
       "      <th>index</th>\n",
       "      <th></th>\n",
       "      <th></th>\n",
       "      <th></th>\n",
       "      <th></th>\n",
       "      <th></th>\n",
       "      <th></th>\n",
       "      <th></th>\n",
       "      <th></th>\n",
       "      <th></th>\n",
       "      <th></th>\n",
       "      <th></th>\n",
       "      <th></th>\n",
       "      <th></th>\n",
       "      <th></th>\n",
       "      <th></th>\n",
       "      <th></th>\n",
       "      <th></th>\n",
       "      <th></th>\n",
       "      <th></th>\n",
       "      <th></th>\n",
       "    </tr>\n",
       "  </thead>\n",
       "  <tbody>\n",
       "    <tr>\n",
       "      <th>2</th>\n",
       "      <td>52.00</td>\n",
       "      <td>0.100</td>\n",
       "      <td>0.196</td>\n",
       "      <td>0.704</td>\n",
       "      <td>0.9999</td>\n",
       "      <td>281.001</td>\n",
       "      <td>29.001</td>\n",
       "      <td>19.001</td>\n",
       "      <td>158.001</td>\n",
       "      <td>62.001</td>\n",
       "      <td>39.562</td>\n",
       "      <td>4.993</td>\n",
       "      <td>3.610</td>\n",
       "      <td>23.860</td>\n",
       "      <td>6.999</td>\n",
       "      <td>11.516</td>\n",
       "      <td>1.132</td>\n",
       "      <td>0.301</td>\n",
       "      <td>6.012</td>\n",
       "      <td>3.492</td>\n",
       "    </tr>\n",
       "    <tr>\n",
       "      <th>7</th>\n",
       "      <td>92.25</td>\n",
       "      <td>0.000</td>\n",
       "      <td>0.000</td>\n",
       "      <td>0.000</td>\n",
       "      <td>0.0000</td>\n",
       "      <td>0.001</td>\n",
       "      <td>0.001</td>\n",
       "      <td>0.001</td>\n",
       "      <td>0.001</td>\n",
       "      <td>0.001</td>\n",
       "      <td>0.001</td>\n",
       "      <td>0.001</td>\n",
       "      <td>0.001</td>\n",
       "      <td>0.001</td>\n",
       "      <td>0.001</td>\n",
       "      <td>0.001</td>\n",
       "      <td>0.001</td>\n",
       "      <td>0.001</td>\n",
       "      <td>0.001</td>\n",
       "      <td>0.001</td>\n",
       "    </tr>\n",
       "    <tr>\n",
       "      <th>10</th>\n",
       "      <td>6.00</td>\n",
       "      <td>0.142</td>\n",
       "      <td>0.183</td>\n",
       "      <td>0.675</td>\n",
       "      <td>0.9998</td>\n",
       "      <td>505.001</td>\n",
       "      <td>12.001</td>\n",
       "      <td>11.001</td>\n",
       "      <td>209.001</td>\n",
       "      <td>67.001</td>\n",
       "      <td>60.987</td>\n",
       "      <td>1.521</td>\n",
       "      <td>2.413</td>\n",
       "      <td>24.304</td>\n",
       "      <td>5.455</td>\n",
       "      <td>39.561</td>\n",
       "      <td>1.431</td>\n",
       "      <td>0.211</td>\n",
       "      <td>18.843</td>\n",
       "      <td>8.441</td>\n",
       "    </tr>\n",
       "    <tr>\n",
       "      <th>13</th>\n",
       "      <td>32.00</td>\n",
       "      <td>0.111</td>\n",
       "      <td>0.152</td>\n",
       "      <td>0.737</td>\n",
       "      <td>0.9996</td>\n",
       "      <td>315.001</td>\n",
       "      <td>0.001</td>\n",
       "      <td>15.001</td>\n",
       "      <td>113.001</td>\n",
       "      <td>79.001</td>\n",
       "      <td>36.683</td>\n",
       "      <td>0.001</td>\n",
       "      <td>2.659</td>\n",
       "      <td>14.499</td>\n",
       "      <td>8.829</td>\n",
       "      <td>15.601</td>\n",
       "      <td>0.001</td>\n",
       "      <td>0.087</td>\n",
       "      <td>4.838</td>\n",
       "      <td>5.128</td>\n",
       "    </tr>\n",
       "    <tr>\n",
       "      <th>25</th>\n",
       "      <td>50.00</td>\n",
       "      <td>0.000</td>\n",
       "      <td>0.000</td>\n",
       "      <td>0.000</td>\n",
       "      <td>0.0000</td>\n",
       "      <td>0.001</td>\n",
       "      <td>0.001</td>\n",
       "      <td>0.001</td>\n",
       "      <td>0.001</td>\n",
       "      <td>0.001</td>\n",
       "      <td>0.001</td>\n",
       "      <td>0.001</td>\n",
       "      <td>0.001</td>\n",
       "      <td>0.001</td>\n",
       "      <td>0.001</td>\n",
       "      <td>0.001</td>\n",
       "      <td>0.001</td>\n",
       "      <td>0.001</td>\n",
       "      <td>0.001</td>\n",
       "      <td>0.001</td>\n",
       "    </tr>\n",
       "    <tr>\n",
       "      <th>...</th>\n",
       "      <td>...</td>\n",
       "      <td>...</td>\n",
       "      <td>...</td>\n",
       "      <td>...</td>\n",
       "      <td>...</td>\n",
       "      <td>...</td>\n",
       "      <td>...</td>\n",
       "      <td>...</td>\n",
       "      <td>...</td>\n",
       "      <td>...</td>\n",
       "      <td>...</td>\n",
       "      <td>...</td>\n",
       "      <td>...</td>\n",
       "      <td>...</td>\n",
       "      <td>...</td>\n",
       "      <td>...</td>\n",
       "      <td>...</td>\n",
       "      <td>...</td>\n",
       "      <td>...</td>\n",
       "      <td>...</td>\n",
       "    </tr>\n",
       "    <tr>\n",
       "      <th>5780</th>\n",
       "      <td>0.00</td>\n",
       "      <td>0.000</td>\n",
       "      <td>0.000</td>\n",
       "      <td>1.000</td>\n",
       "      <td>0.0000</td>\n",
       "      <td>0.001</td>\n",
       "      <td>0.001</td>\n",
       "      <td>0.001</td>\n",
       "      <td>0.001</td>\n",
       "      <td>0.001</td>\n",
       "      <td>0.001</td>\n",
       "      <td>0.001</td>\n",
       "      <td>0.001</td>\n",
       "      <td>0.001</td>\n",
       "      <td>0.001</td>\n",
       "      <td>0.001</td>\n",
       "      <td>0.001</td>\n",
       "      <td>0.001</td>\n",
       "      <td>0.001</td>\n",
       "      <td>0.001</td>\n",
       "    </tr>\n",
       "    <tr>\n",
       "      <th>5783</th>\n",
       "      <td>47.50</td>\n",
       "      <td>0.000</td>\n",
       "      <td>0.000</td>\n",
       "      <td>1.000</td>\n",
       "      <td>0.0000</td>\n",
       "      <td>0.001</td>\n",
       "      <td>0.001</td>\n",
       "      <td>0.001</td>\n",
       "      <td>0.001</td>\n",
       "      <td>0.001</td>\n",
       "      <td>0.001</td>\n",
       "      <td>0.001</td>\n",
       "      <td>0.001</td>\n",
       "      <td>0.001</td>\n",
       "      <td>0.001</td>\n",
       "      <td>0.001</td>\n",
       "      <td>0.001</td>\n",
       "      <td>0.001</td>\n",
       "      <td>0.001</td>\n",
       "      <td>0.001</td>\n",
       "    </tr>\n",
       "    <tr>\n",
       "      <th>5788</th>\n",
       "      <td>0.00</td>\n",
       "      <td>0.000</td>\n",
       "      <td>0.000</td>\n",
       "      <td>1.000</td>\n",
       "      <td>0.0000</td>\n",
       "      <td>0.001</td>\n",
       "      <td>0.001</td>\n",
       "      <td>0.001</td>\n",
       "      <td>0.001</td>\n",
       "      <td>0.001</td>\n",
       "      <td>0.001</td>\n",
       "      <td>0.001</td>\n",
       "      <td>0.001</td>\n",
       "      <td>0.001</td>\n",
       "      <td>0.001</td>\n",
       "      <td>0.001</td>\n",
       "      <td>0.001</td>\n",
       "      <td>0.001</td>\n",
       "      <td>0.001</td>\n",
       "      <td>0.001</td>\n",
       "    </tr>\n",
       "    <tr>\n",
       "      <th>5807</th>\n",
       "      <td>184.00</td>\n",
       "      <td>0.000</td>\n",
       "      <td>0.000</td>\n",
       "      <td>1.000</td>\n",
       "      <td>0.0000</td>\n",
       "      <td>0.001</td>\n",
       "      <td>0.001</td>\n",
       "      <td>0.001</td>\n",
       "      <td>0.001</td>\n",
       "      <td>0.001</td>\n",
       "      <td>0.001</td>\n",
       "      <td>0.001</td>\n",
       "      <td>0.001</td>\n",
       "      <td>0.001</td>\n",
       "      <td>0.001</td>\n",
       "      <td>0.001</td>\n",
       "      <td>0.001</td>\n",
       "      <td>0.001</td>\n",
       "      <td>0.001</td>\n",
       "      <td>0.001</td>\n",
       "    </tr>\n",
       "    <tr>\n",
       "      <th>5823</th>\n",
       "      <td>0.00</td>\n",
       "      <td>0.000</td>\n",
       "      <td>0.000</td>\n",
       "      <td>1.000</td>\n",
       "      <td>0.0000</td>\n",
       "      <td>0.001</td>\n",
       "      <td>0.001</td>\n",
       "      <td>0.001</td>\n",
       "      <td>0.001</td>\n",
       "      <td>0.001</td>\n",
       "      <td>0.001</td>\n",
       "      <td>0.001</td>\n",
       "      <td>0.001</td>\n",
       "      <td>0.001</td>\n",
       "      <td>0.001</td>\n",
       "      <td>0.001</td>\n",
       "      <td>0.001</td>\n",
       "      <td>0.001</td>\n",
       "      <td>0.001</td>\n",
       "      <td>0.001</td>\n",
       "    </tr>\n",
       "  </tbody>\n",
       "</table>\n",
       "<p>3490 rows × 20 columns</p>\n",
       "</div>"
      ],
      "text/plain": [
       "       actor_score    neg    pos    neu  compound  story_com  music_com  \\\n",
       "index                                                                     \n",
       "2            52.00  0.100  0.196  0.704    0.9999    281.001     29.001   \n",
       "7            92.25  0.000  0.000  0.000    0.0000      0.001      0.001   \n",
       "10            6.00  0.142  0.183  0.675    0.9998    505.001     12.001   \n",
       "13           32.00  0.111  0.152  0.737    0.9996    315.001      0.001   \n",
       "25           50.00  0.000  0.000  0.000    0.0000      0.001      0.001   \n",
       "...            ...    ...    ...    ...       ...        ...        ...   \n",
       "5780          0.00  0.000  0.000  1.000    0.0000      0.001      0.001   \n",
       "5783         47.50  0.000  0.000  1.000    0.0000      0.001      0.001   \n",
       "5788          0.00  0.000  0.000  1.000    0.0000      0.001      0.001   \n",
       "5807        184.00  0.000  0.000  1.000    0.0000      0.001      0.001   \n",
       "5823          0.00  0.000  0.000  1.000    0.0000      0.001      0.001   \n",
       "\n",
       "       direction_com  actor_com  acting_com  story_pos  music_pos  \\\n",
       "index                                                               \n",
       "2             19.001    158.001      62.001     39.562      4.993   \n",
       "7              0.001      0.001       0.001      0.001      0.001   \n",
       "10            11.001    209.001      67.001     60.987      1.521   \n",
       "13            15.001    113.001      79.001     36.683      0.001   \n",
       "25             0.001      0.001       0.001      0.001      0.001   \n",
       "...              ...        ...         ...        ...        ...   \n",
       "5780           0.001      0.001       0.001      0.001      0.001   \n",
       "5783           0.001      0.001       0.001      0.001      0.001   \n",
       "5788           0.001      0.001       0.001      0.001      0.001   \n",
       "5807           0.001      0.001       0.001      0.001      0.001   \n",
       "5823           0.001      0.001       0.001      0.001      0.001   \n",
       "\n",
       "       direction_pos  actor_pos  acting_pos  story_neg  music_neg  \\\n",
       "index                                                               \n",
       "2              3.610     23.860       6.999     11.516      1.132   \n",
       "7              0.001      0.001       0.001      0.001      0.001   \n",
       "10             2.413     24.304       5.455     39.561      1.431   \n",
       "13             2.659     14.499       8.829     15.601      0.001   \n",
       "25             0.001      0.001       0.001      0.001      0.001   \n",
       "...              ...        ...         ...        ...        ...   \n",
       "5780           0.001      0.001       0.001      0.001      0.001   \n",
       "5783           0.001      0.001       0.001      0.001      0.001   \n",
       "5788           0.001      0.001       0.001      0.001      0.001   \n",
       "5807           0.001      0.001       0.001      0.001      0.001   \n",
       "5823           0.001      0.001       0.001      0.001      0.001   \n",
       "\n",
       "       direction_neg  actor_neg  acting_neg  \n",
       "index                                        \n",
       "2              0.301      6.012       3.492  \n",
       "7              0.001      0.001       0.001  \n",
       "10             0.211     18.843       8.441  \n",
       "13             0.087      4.838       5.128  \n",
       "25             0.001      0.001       0.001  \n",
       "...              ...        ...         ...  \n",
       "5780           0.001      0.001       0.001  \n",
       "5783           0.001      0.001       0.001  \n",
       "5788           0.001      0.001       0.001  \n",
       "5807           0.001      0.001       0.001  \n",
       "5823           0.001      0.001       0.001  \n",
       "\n",
       "[3490 rows x 20 columns]"
      ]
     },
     "execution_count": 24,
     "metadata": {},
     "output_type": "execute_result"
    }
   ],
   "source": [
    "호에"
   ]
  },
  {
   "cell_type": "code",
   "execution_count": 99,
   "metadata": {},
   "outputs": [
    {
     "name": "stdout",
     "output_type": "stream",
     "text": [
      "<class 'pandas.core.frame.DataFrame'>\n",
      "Int64Index: 1236 entries, 2 to 3996\n",
      "Data columns (total 72 columns):\n",
      " #   Column               Non-Null Count  Dtype  \n",
      "---  ------               --------------  -----  \n",
      " 0   movienm              1236 non-null   object \n",
      " 1   showtm               1236 non-null   int64  \n",
      " 2   prdtyear             1236 non-null   int64  \n",
      " 3   domestic             1236 non-null   int64  \n",
      " 4   mpaa                 1236 non-null   int64  \n",
      " 5   raters               1236 non-null   int64  \n",
      " 6   ratings              1236 non-null   float64\n",
      " 7   kor_revenue          1236 non-null   int64  \n",
      " 8   kor_audience         1236 non-null   object \n",
      " 9   sf                   1236 non-null   int64  \n",
      " 10  family               1236 non-null   int64  \n",
      " 11  performance          1236 non-null   int64  \n",
      " 12  horror               1236 non-null   int64  \n",
      " 13  etc                  1236 non-null   int64  \n",
      " 14  documentary          1236 non-null   int64  \n",
      " 15  drama                1236 non-null   int64  \n",
      " 16  romance              1236 non-null   int64  \n",
      " 17  musical              1236 non-null   int64  \n",
      " 18  mystery              1236 non-null   int64  \n",
      " 19  crime                1236 non-null   int64  \n",
      " 20  history              1236 non-null   int64  \n",
      " 21  western              1236 non-null   int64  \n",
      " 22  adult                1236 non-null   int64  \n",
      " 23  thriller             1236 non-null   int64  \n",
      " 24  animation            1236 non-null   int64  \n",
      " 25  action               1236 non-null   int64  \n",
      " 26  adventure            1236 non-null   int64  \n",
      " 27  war                  1236 non-null   int64  \n",
      " 28  comedy               1236 non-null   int64  \n",
      " 29  fantasy              1236 non-null   int64  \n",
      " 30  director_appearance  1236 non-null   int64  \n",
      " 31  director_revenue     1236 non-null   float64\n",
      " 32  distributor_share    1236 non-null   float64\n",
      " 33  opendt_quarter       1236 non-null   int64  \n",
      " 34  year_gap             1236 non-null   int64  \n",
      " 35  showtypes_num        1236 non-null   int64  \n",
      " 36  actor_score          1236 non-null   float64\n",
      " 37  neg                  1236 non-null   float64\n",
      " 38  pos                  1236 non-null   float64\n",
      " 39  neu                  1236 non-null   float64\n",
      " 40  compound             1236 non-null   float64\n",
      " 41  story_com            1236 non-null   float64\n",
      " 42  music_com            1236 non-null   float64\n",
      " 43  direction_com        1236 non-null   float64\n",
      " 44  actor_com            1236 non-null   float64\n",
      " 45  acting_com           1236 non-null   float64\n",
      " 46  story_pos            1236 non-null   float64\n",
      " 47  music_pos            1236 non-null   float64\n",
      " 48  direction_pos        1236 non-null   float64\n",
      " 49  actor_pos            1236 non-null   float64\n",
      " 50  acting_pos           1236 non-null   float64\n",
      " 51  story_neg            1236 non-null   float64\n",
      " 52  music_neg            1236 non-null   float64\n",
      " 53  direction_neg        1236 non-null   float64\n",
      " 54  actor_neg            1236 non-null   float64\n",
      " 55  acting_neg           1236 non-null   float64\n",
      " 56  x0                   1236 non-null   float64\n",
      " 57  x1                   1236 non-null   float64\n",
      " 58  x2                   1236 non-null   float64\n",
      " 59  x3                   1236 non-null   float64\n",
      " 60  x4                   1236 non-null   float64\n",
      " 61  label                1236 non-null   float64\n",
      " 62  center_angle1        1236 non-null   float64\n",
      " 63  center_angle2        1236 non-null   float64\n",
      " 64  center_angle3        1236 non-null   float64\n",
      " 65  center_angle4        1236 non-null   float64\n",
      " 66  center_angle5        1236 non-null   float64\n",
      " 67  center_angle6        1236 non-null   float64\n",
      " 68  center_angle7        1236 non-null   float64\n",
      " 69  center_angle8        1236 non-null   float64\n",
      " 70  center_angle9        1236 non-null   float64\n",
      " 71  center_angle10       1236 non-null   float64\n",
      "dtypes: float64(39), int64(31), object(2)\n",
      "memory usage: 704.9+ KB\n"
     ]
    }
   ],
   "source": [
    "temp.info()"
   ]
  },
  {
   "cell_type": "markdown",
   "metadata": {},
   "source": [
    "## 전체 데이터"
   ]
  },
  {
   "cell_type": "code",
   "execution_count": 132,
   "metadata": {},
   "outputs": [],
   "source": [
    "X_data = temp[['showtm', 'prdtyear', 'domestic', 'mpaa', 'raters',\n",
    "       'ratings', 'sf', 'family', 'performance',\n",
    "       'horror', 'etc', 'documentary', 'drama', 'romance', 'musical',\n",
    "       'mystery', 'crime', 'history', 'western', 'adult', 'thriller',\n",
    "       'animation', 'action', 'adventure', 'war', 'comedy', 'fantasy',\n",
    "       'director_appearance', 'director_revenue', 'distributor_share',\n",
    "       'opendt_quarter', 'year_gap', 'showtypes_num', 'actor_score', 'neg',\n",
    "       'pos', 'neu', 'compound', 'story_com', 'music_com', 'direction_com',\n",
    "       'actor_com', 'acting_com', 'story_pos', 'music_pos', 'direction_pos',\n",
    "       'actor_pos', 'acting_pos', 'story_neg', 'music_neg', 'direction_neg',\n",
    "       'actor_neg', 'acting_neg', 'x0', 'x1', 'x2', 'x3', 'x4', 'label',\n",
    "       'center_angle1', 'center_angle2', 'center_angle3', 'center_angle4',\n",
    "       'center_angle5', 'center_angle6', 'center_angle7', 'center_angle8',\n",
    "       'center_angle9', 'center_angle10']]\n",
    "y_data = temp.kor_audience"
   ]
  },
  {
   "cell_type": "code",
   "execution_count": 133,
   "metadata": {},
   "outputs": [],
   "source": [
    "X_train, X_test, y_train, y_test =\\\n",
    "train_test_split(X_data, y_data,\\\n",
    "                    test_size = 0.3, \\\n",
    "                    random_state = 78)"
   ]
  },
  {
   "cell_type": "code",
   "execution_count": 134,
   "metadata": {},
   "outputs": [
    {
     "name": "stdout",
     "output_type": "stream",
     "text": [
      "DecisionTreeTest 정확도 : 0.5984\n",
      "랜덤포레스트 정확도 : 0.6792\n",
      "GradientBoostingClassifier 정확도:0.7035\n",
      "MLPClassifier 정확도:0.4879\n",
      "로지스틱 회귀 값 : 0.522911\n",
      "LGBMClassifier 정확도:0.6954\n"
     ]
    }
   ],
   "source": [
    "DecisionTreeTest(X_train, X_test, y_train, y_test)\n",
    "RandomForestTest(X_train, X_test, y_train, y_test)\n",
    "GBMTest(X_train, X_test, y_train, y_test)\n",
    "MLPClassifierTest(X_train, X_test, y_train, y_test)\n",
    "logisticRegression(X_train, X_test, y_train, y_test)\n",
    "LightGBMTest(X_train, X_test, y_train, y_test)"
   ]
  },
  {
   "cell_type": "markdown",
   "metadata": {},
   "source": [
    "## 스토리만 빼고"
   ]
  },
  {
   "cell_type": "code",
   "execution_count": 135,
   "metadata": {},
   "outputs": [],
   "source": [
    "X_data = temp[['showtm', 'prdtyear', 'domestic', 'mpaa', 'raters',\n",
    "       'ratings', 'sf', 'family', 'performance',\n",
    "       'horror', 'etc', 'documentary', 'drama', 'romance', 'musical',\n",
    "       'mystery', 'crime', 'history', 'western', 'adult', 'thriller',\n",
    "       'animation', 'action', 'adventure', 'war', 'comedy', 'fantasy',\n",
    "       'director_appearance', 'director_revenue', 'distributor_share',\n",
    "       'opendt_quarter', 'year_gap', 'showtypes_num', 'actor_score', 'neg',\n",
    "       'pos', 'neu', 'compound', 'story_com', 'music_com', 'direction_com',\n",
    "       'actor_com', 'acting_com', 'story_pos', 'music_pos', 'direction_pos',\n",
    "       'actor_pos', 'acting_pos', 'story_neg', 'music_neg', 'direction_neg',\n",
    "       'actor_neg', 'acting_neg']]\n",
    "y_data = temp.kor_audience"
   ]
  },
  {
   "cell_type": "code",
   "execution_count": 136,
   "metadata": {},
   "outputs": [],
   "source": [
    "X_train, X_test, y_train, y_test =\\\n",
    "train_test_split(X_data, y_data,\\\n",
    "                    test_size = 0.3, \\\n",
    "                    random_state = 78)"
   ]
  },
  {
   "cell_type": "code",
   "execution_count": 137,
   "metadata": {},
   "outputs": [
    {
     "name": "stdout",
     "output_type": "stream",
     "text": [
      "DecisionTreeTest 정확도 : 0.6361\n",
      "랜덤포레스트 정확도 : 0.6792\n",
      "GradientBoostingClassifier 정확도:0.7035\n",
      "MLPClassifier 정확도:0.5553\n",
      "로지스틱 회귀 값 : 0.522911\n",
      "LGBMClassifier 정확도:0.6954\n"
     ]
    }
   ],
   "source": [
    "DecisionTreeTest(X_train, X_test, y_train, y_test)\n",
    "RandomForestTest(X_train, X_test, y_train, y_test)\n",
    "GBMTest(X_train, X_test, y_train, y_test)\n",
    "MLPClassifierTest(X_train, X_test, y_train, y_test)\n",
    "logisticRegression(X_train, X_test, y_train, y_test)\n",
    "LightGBMTest(X_train, X_test, y_train, y_test)"
   ]
  },
  {
   "cell_type": "markdown",
   "metadata": {},
   "source": [
    "## 스토리 데이터로만"
   ]
  },
  {
   "cell_type": "code",
   "execution_count": 103,
   "metadata": {},
   "outputs": [],
   "source": [
    "X_data = temp[['x0', 'x1', 'x2', 'x3', 'x4', 'label',\n",
    "       'center_angle1', 'center_angle2', 'center_angle3', 'center_angle4',\n",
    "       'center_angle5', 'center_angle6', 'center_angle7', 'center_angle8',\n",
    "       'center_angle9', 'center_angle10']]\n",
    "y_data = temp.kor_audience"
   ]
  },
  {
   "cell_type": "code",
   "execution_count": 104,
   "metadata": {},
   "outputs": [],
   "source": [
    "X_train, X_test, y_train, y_test =\\\n",
    "train_test_split(X_data, y_data,\\\n",
    "                    test_size = 0.3, \\\n",
    "                    random_state = 78)"
   ]
  },
  {
   "cell_type": "code",
   "execution_count": 105,
   "metadata": {},
   "outputs": [
    {
     "name": "stdout",
     "output_type": "stream",
     "text": [
      "DecisionTreeTest 정확도 : 0.4367\n",
      "랜덤포레스트 정확도 : 0.5175\n",
      "GradientBoostingClassifier 정확도:0.4933\n",
      "MLPClassifier 정확도:0.5256\n",
      "로지스틱 회귀 값 : 0.512129\n",
      "LGBMClassifier 정확도:0.5148\n"
     ]
    }
   ],
   "source": [
    "DecisionTreeTest(X_train, X_test, y_train, y_test)\n",
    "RandomForestTest(X_train, X_test, y_train, y_test)\n",
    "GBMTest(X_train, X_test, y_train, y_test)\n",
    "MLPClassifierTest(X_train, X_test, y_train, y_test)\n",
    "logisticRegression(X_train, X_test, y_train, y_test)\n",
    "LightGBMTest(X_train, X_test, y_train, y_test)"
   ]
  },
  {
   "cell_type": "markdown",
   "metadata": {},
   "source": [
    "## 리뷰, 스토리 빼고"
   ]
  },
  {
   "cell_type": "code",
   "execution_count": 106,
   "metadata": {},
   "outputs": [],
   "source": [
    "X_data = temp[['showtm', 'prdtyear', 'domestic', 'mpaa',\n",
    "       'raters', 'ratings', 'sf', 'family',\n",
    "       'performance', 'horror', 'etc', 'documentary', 'drama', 'romance',\n",
    "       'musical', 'mystery', 'crime', 'history', 'western', 'adult',\n",
    "       'thriller', 'animation', 'action', 'adventure', 'war', 'comedy',\n",
    "       'fantasy', 'director_appearance', 'director_revenue',\n",
    "       'distributor_share', 'opendt_quarter', 'year_gap', 'showtypes_num',\n",
    "       'actor_score']]\n",
    "y_data = temp.kor_audience"
   ]
  },
  {
   "cell_type": "code",
   "execution_count": 107,
   "metadata": {},
   "outputs": [],
   "source": [
    "X_train, X_test, y_train, y_test =\\\n",
    "train_test_split(X_data, y_data,\\\n",
    "                    test_size = 0.3, \\\n",
    "                    random_state = 78)"
   ]
  },
  {
   "cell_type": "code",
   "execution_count": 108,
   "metadata": {},
   "outputs": [
    {
     "name": "stdout",
     "output_type": "stream",
     "text": [
      "DecisionTreeTest 정확도 : 0.6523\n",
      "랜덤포레스트 정확도 : 0.7278\n",
      "GradientBoostingClassifier 정확도:0.7062\n",
      "MLPClassifier 정확도:0.5472\n",
      "로지스틱 회귀 값 : 0.522911\n",
      "LGBMClassifier 정확도:0.6954\n"
     ]
    }
   ],
   "source": [
    "DecisionTreeTest(X_train, X_test, y_train, y_test)\n",
    "RandomForestTest(X_train, X_test, y_train, y_test)\n",
    "GBMTest(X_train, X_test, y_train, y_test)\n",
    "MLPClassifierTest(X_train, X_test, y_train, y_test)\n",
    "logisticRegression(X_train, X_test, y_train, y_test)\n",
    "LightGBMTest(X_train, X_test, y_train, y_test)"
   ]
  },
  {
   "cell_type": "markdown",
   "metadata": {},
   "source": [
    "## 리뷰만 빼고"
   ]
  },
  {
   "cell_type": "code",
   "execution_count": 109,
   "metadata": {},
   "outputs": [],
   "source": [
    "X_data = temp[['showtm', 'prdtyear', 'domestic', 'mpaa', 'raters',\n",
    "       'ratings', 'sf', 'family', 'performance',\n",
    "       'horror', 'etc', 'documentary', 'drama', 'romance', 'musical',\n",
    "       'mystery', 'crime', 'history', 'western', 'adult', 'thriller',\n",
    "       'animation', 'action', 'adventure', 'war', 'comedy', 'fantasy',\n",
    "       'director_appearance', 'director_revenue', 'distributor_share',\n",
    "       'opendt_quarter', 'year_gap', 'showtypes_num', 'actor_score', 'x0', 'x1', 'x2', 'x3', 'x4', 'label',\n",
    "       'center_angle1', 'center_angle2', 'center_angle3', 'center_angle4',\n",
    "       'center_angle5', 'center_angle6', 'center_angle7', 'center_angle8',\n",
    "       'center_angle9', 'center_angle10']]\n",
    "y_data = temp.kor_audience"
   ]
  },
  {
   "cell_type": "code",
   "execution_count": 110,
   "metadata": {},
   "outputs": [],
   "source": [
    "X_train, X_test, y_train, y_test =\\\n",
    "train_test_split(X_data, y_data,\\\n",
    "                    test_size = 0.3, \\\n",
    "                    random_state = 78)"
   ]
  },
  {
   "cell_type": "code",
   "execution_count": 111,
   "metadata": {},
   "outputs": [
    {
     "name": "stdout",
     "output_type": "stream",
     "text": [
      "DecisionTreeTest 정확도 : 0.6146\n",
      "랜덤포레스트 정확도 : 0.7170\n",
      "GradientBoostingClassifier 정확도:0.7224\n",
      "MLPClassifier 정확도:0.3369\n",
      "로지스틱 회귀 값 : 0.522911\n",
      "LGBMClassifier 정확도:0.7224\n"
     ]
    }
   ],
   "source": [
    "DecisionTreeTest(X_train, X_test, y_train, y_test)\n",
    "RandomForestTest(X_train, X_test, y_train, y_test)\n",
    "GBMTest(X_train, X_test, y_train, y_test)\n",
    "MLPClassifierTest(X_train, X_test, y_train, y_test)\n",
    "logisticRegression(X_train, X_test, y_train, y_test)\n",
    "LightGBMTest(X_train, X_test, y_train, y_test)"
   ]
  },
  {
   "cell_type": "markdown",
   "metadata": {},
   "source": [
    "## 리뷰 null 제거"
   ]
  },
  {
   "cell_type": "code",
   "execution_count": 112,
   "metadata": {},
   "outputs": [],
   "source": [
    "temp1 = temp[['showtm', 'prdtyear', 'domestic', 'mpaa', 'raters',\n",
    "       'ratings', 'sf', 'family', 'performance',\n",
    "       'horror', 'etc', 'documentary', 'drama', 'romance', 'musical',\n",
    "       'mystery', 'crime', 'history', 'western', 'adult', 'thriller',\n",
    "       'animation', 'action', 'adventure', 'war', 'comedy', 'fantasy',\n",
    "       'director_appearance', 'director_revenue', 'distributor_share',\n",
    "       'opendt_quarter', 'year_gap', 'showtypes_num', 'actor_score', 'neg',\n",
    "       'pos', 'neu', 'compound', 'story_com', 'music_com', 'direction_com',\n",
    "       'actor_com', 'acting_com', 'story_pos', 'music_pos', 'direction_pos',\n",
    "       'actor_pos', 'acting_pos', 'story_neg', 'music_neg', 'direction_neg',\n",
    "       'actor_neg', 'acting_neg', 'x0', 'x1', 'x2', 'x3', 'x4', 'label',\n",
    "       'center_angle1', 'center_angle2', 'center_angle3', 'center_angle4',\n",
    "       'center_angle5', 'center_angle6', 'center_angle7', 'center_angle8',\n",
    "       'center_angle9', 'center_angle10', 'kor_audience']]"
   ]
  },
  {
   "cell_type": "code",
   "execution_count": 113,
   "metadata": {},
   "outputs": [],
   "source": [
    "temp1 = temp1[temp1.compound != 0]"
   ]
  },
  {
   "cell_type": "code",
   "execution_count": 114,
   "metadata": {},
   "outputs": [],
   "source": [
    "X_data = temp1.drop(['kor_audience'], axis = 1)\n",
    "y_data = temp1.kor_audience"
   ]
  },
  {
   "cell_type": "code",
   "execution_count": 115,
   "metadata": {},
   "outputs": [],
   "source": [
    "X_train, X_test, y_train, y_test =\\\n",
    "train_test_split(X_data, y_data,\\\n",
    "                    test_size = 0.3, \\\n",
    "                    random_state = 78)"
   ]
  },
  {
   "cell_type": "code",
   "execution_count": 116,
   "metadata": {},
   "outputs": [
    {
     "name": "stdout",
     "output_type": "stream",
     "text": [
      "DecisionTreeTest 정확도 : 0.5876\n",
      "랜덤포레스트 정확도 : 0.6981\n",
      "GradientBoostingClassifier 정확도:0.7143\n",
      "MLPClassifier 정확도:0.4636\n",
      "로지스틱 회귀 값 : 0.530997\n",
      "LGBMClassifier 정확도:0.6954\n"
     ]
    }
   ],
   "source": [
    "DecisionTreeTest(X_train, X_test, y_train, y_test)\n",
    "RandomForestTest(X_train, X_test, y_train, y_test)\n",
    "GBMTest(X_train, X_test, y_train, y_test)\n",
    "MLPClassifierTest(X_train, X_test, y_train, y_test)\n",
    "logisticRegression(X_train, X_test, y_train, y_test)\n",
    "LightGBMTest(X_train, X_test, y_train, y_test)"
   ]
  },
  {
   "cell_type": "markdown",
   "metadata": {},
   "source": [
    "## 리뷰 null 제거 + 리뷰 특성 빼고"
   ]
  },
  {
   "cell_type": "code",
   "execution_count": 117,
   "metadata": {},
   "outputs": [],
   "source": [
    "X_data = temp1[['showtm', 'prdtyear', 'domestic', 'mpaa',\n",
    "       'raters', 'ratings', 'sf', 'family',\n",
    "       'performance', 'horror', 'etc', 'documentary', 'drama', 'romance',\n",
    "       'musical', 'mystery', 'crime', 'history', 'western', 'adult',\n",
    "       'thriller', 'animation', 'action', 'adventure', 'war', 'comedy',\n",
    "       'fantasy', 'director_appearance', 'director_revenue',\n",
    "       'distributor_share', 'opendt_quarter', 'year_gap', 'showtypes_num',\n",
    "       'actor_score']]\n",
    "y_data = temp1.kor_audience"
   ]
  },
  {
   "cell_type": "code",
   "execution_count": 118,
   "metadata": {},
   "outputs": [],
   "source": [
    "X_train, X_test, y_train, y_test =\\\n",
    "train_test_split(X_data, y_data,\\\n",
    "                    test_size = 0.3, \\\n",
    "                    random_state = 78)"
   ]
  },
  {
   "cell_type": "code",
   "execution_count": 119,
   "metadata": {},
   "outputs": [
    {
     "name": "stdout",
     "output_type": "stream",
     "text": [
      "DecisionTreeTest 정확도 : 0.6712\n",
      "랜덤포레스트 정확도 : 0.7278\n",
      "GradientBoostingClassifier 정확도:0.7062\n",
      "MLPClassifier 정확도:0.3585\n",
      "로지스틱 회귀 값 : 0.522911\n",
      "LGBMClassifier 정확도:0.6954\n"
     ]
    }
   ],
   "source": [
    "DecisionTreeTest(X_train, X_test, y_train, y_test)\n",
    "RandomForestTest(X_train, X_test, y_train, y_test)\n",
    "GBMTest(X_train, X_test, y_train, y_test)\n",
    "MLPClassifierTest(X_train, X_test, y_train, y_test)\n",
    "logisticRegression(X_train, X_test, y_train, y_test)\n",
    "LightGBMTest(X_train, X_test, y_train, y_test)"
   ]
  },
  {
   "cell_type": "markdown",
   "metadata": {},
   "source": [
    "## 리뷰 null 제거 + 리뷰 특성 포함"
   ]
  },
  {
   "cell_type": "code",
   "execution_count": 120,
   "metadata": {},
   "outputs": [],
   "source": [
    "X_data = temp1[['showtm', 'prdtyear', 'domestic', 'mpaa',\n",
    "       'raters', 'ratings', 'sf', 'family',\n",
    "       'performance', 'horror', 'etc', 'documentary', 'drama', 'romance',\n",
    "       'musical', 'mystery', 'crime', 'history', 'western', 'adult',\n",
    "       'thriller', 'animation', 'action', 'adventure', 'war', 'comedy',\n",
    "       'fantasy', 'director_appearance', 'director_revenue',\n",
    "       'distributor_share', 'opendt_quarter', 'year_gap', 'showtypes_num',\n",
    "       'actor_score', 'neg', 'pos', 'neu', 'compound', 'story_com',\n",
    "       'music_com', 'direction_com', 'actor_com', 'acting_com', 'story_pos',\n",
    "       'music_pos', 'direction_pos', 'actor_pos', 'acting_pos', 'story_neg',\n",
    "       'music_neg', 'direction_neg', 'actor_neg', 'acting_neg']]\n",
    "y_data = temp1.kor_audience"
   ]
  },
  {
   "cell_type": "code",
   "execution_count": 121,
   "metadata": {},
   "outputs": [],
   "source": [
    "X_train, X_test, y_train, y_test =\\\n",
    "train_test_split(X_data, y_data,\\\n",
    "                    test_size = 0.3, \\\n",
    "                    random_state = 78)"
   ]
  },
  {
   "cell_type": "code",
   "execution_count": 122,
   "metadata": {},
   "outputs": [
    {
     "name": "stdout",
     "output_type": "stream",
     "text": [
      "DecisionTreeTest 정확도 : 0.6199\n",
      "랜덤포레스트 정확도 : 0.6792\n",
      "GradientBoostingClassifier 정확도:0.7035\n",
      "MLPClassifier 정확도:0.5013\n",
      "로지스틱 회귀 값 : 0.522911\n",
      "LGBMClassifier 정확도:0.6954\n"
     ]
    }
   ],
   "source": [
    "DecisionTreeTest(X_train, X_test, y_train, y_test)\n",
    "RandomForestTest(X_train, X_test, y_train, y_test)\n",
    "GBMTest(X_train, X_test, y_train, y_test)\n",
    "MLPClassifierTest(X_train, X_test, y_train, y_test)\n",
    "logisticRegression(X_train, X_test, y_train, y_test)\n",
    "LightGBMTest(X_train, X_test, y_train, y_test)"
   ]
  },
  {
   "cell_type": "markdown",
   "metadata": {},
   "source": [
    "## 스토리 + 댓글로만"
   ]
  },
  {
   "cell_type": "code",
   "execution_count": 123,
   "metadata": {},
   "outputs": [],
   "source": [
    "X_data = temp[['neg',\n",
    "       'pos', 'neu', 'compound', 'story_com', 'music_com', 'direction_com',\n",
    "       'actor_com', 'acting_com', 'story_pos', 'music_pos', 'direction_pos',\n",
    "       'actor_pos', 'acting_pos', 'story_neg', 'music_neg', 'direction_neg',\n",
    "       'actor_neg', 'acting_neg', 'x0', 'x1', 'x2', 'x3', 'x4', 'label',\n",
    "       'center_angle1', 'center_angle2', 'center_angle3', 'center_angle4',\n",
    "       'center_angle5', 'center_angle6', 'center_angle7', 'center_angle8',\n",
    "       'center_angle9', 'center_angle10']]\n",
    "y_data = temp.kor_audience"
   ]
  },
  {
   "cell_type": "code",
   "execution_count": 124,
   "metadata": {},
   "outputs": [],
   "source": [
    "X_train, X_test, y_train, y_test =\\\n",
    "train_test_split(X_data, y_data,\\\n",
    "                    test_size = 0.3, \\\n",
    "                    random_state = 78)"
   ]
  },
  {
   "cell_type": "code",
   "execution_count": 125,
   "metadata": {},
   "outputs": [
    {
     "name": "stdout",
     "output_type": "stream",
     "text": [
      "DecisionTreeTest 정확도 : 0.4744\n",
      "랜덤포레스트 정확도 : 0.5364\n",
      "GradientBoostingClassifier 정확도:0.5391\n",
      "MLPClassifier 정확도:0.5256\n",
      "로지스틱 회귀 값 : 0.495957\n",
      "LGBMClassifier 정확도:0.5337\n"
     ]
    }
   ],
   "source": [
    "DecisionTreeTest(X_train, X_test, y_train, y_test)\n",
    "RandomForestTest(X_train, X_test, y_train, y_test)\n",
    "GBMTest(X_train, X_test, y_train, y_test)\n",
    "MLPClassifierTest(X_train, X_test, y_train, y_test)\n",
    "logisticRegression(X_train, X_test, y_train, y_test)\n",
    "LightGBMTest(X_train, X_test, y_train, y_test)"
   ]
  },
  {
   "cell_type": "markdown",
   "metadata": {},
   "source": [
    "## 스토리로만.."
   ]
  },
  {
   "cell_type": "code",
   "execution_count": 126,
   "metadata": {},
   "outputs": [],
   "source": [
    "X_data = temp[['x0', 'x1', 'x2', 'x3', 'x4', 'label',\n",
    "       'center_angle1', 'center_angle2', 'center_angle3', 'center_angle4',\n",
    "       'center_angle5', 'center_angle6', 'center_angle7', 'center_angle8',\n",
    "       'center_angle9', 'center_angle10']]\n",
    "y_data = temp.kor_audience"
   ]
  },
  {
   "cell_type": "code",
   "execution_count": 127,
   "metadata": {},
   "outputs": [],
   "source": [
    "X_train, X_test, y_train, y_test =\\\n",
    "train_test_split(X_data, y_data,\\\n",
    "                    test_size = 0.3, \\\n",
    "                    random_state = 78)"
   ]
  },
  {
   "cell_type": "code",
   "execution_count": 128,
   "metadata": {},
   "outputs": [
    {
     "name": "stdout",
     "output_type": "stream",
     "text": [
      "DecisionTreeTest 정확도 : 0.4232\n",
      "랜덤포레스트 정확도 : 0.5175\n",
      "GradientBoostingClassifier 정확도:0.4933\n",
      "MLPClassifier 정확도:0.5256\n",
      "로지스틱 회귀 값 : 0.512129\n",
      "LGBMClassifier 정확도:0.5148\n"
     ]
    }
   ],
   "source": [
    "DecisionTreeTest(X_train, X_test, y_train, y_test)\n",
    "RandomForestTest(X_train, X_test, y_train, y_test)\n",
    "GBMTest(X_train, X_test, y_train, y_test)\n",
    "MLPClassifierTest(X_train, X_test, y_train, y_test)\n",
    "logisticRegression(X_train, X_test, y_train, y_test)\n",
    "LightGBMTest(X_train, X_test, y_train, y_test)"
   ]
  },
  {
   "cell_type": "code",
   "execution_count": null,
   "metadata": {},
   "outputs": [],
   "source": []
  },
  {
   "cell_type": "code",
   "execution_count": null,
   "metadata": {},
   "outputs": [],
   "source": []
  },
  {
   "cell_type": "code",
   "execution_count": null,
   "metadata": {},
   "outputs": [],
   "source": []
  },
  {
   "cell_type": "markdown",
   "metadata": {},
   "source": [
    "# 데이터 뿔려보기"
   ]
  },
  {
   "cell_type": "code",
   "execution_count": 129,
   "metadata": {},
   "outputs": [],
   "source": [
    "X_data = temp[['showtm', 'prdtyear', 'domestic', 'mpaa', 'raters',\n",
    "       'ratings', 'sf', 'family', 'performance',\n",
    "       'horror', 'etc', 'documentary', 'drama', 'romance', 'musical',\n",
    "       'mystery', 'crime', 'history', 'western', 'adult', 'thriller',\n",
    "       'animation', 'action', 'adventure', 'war', 'comedy', 'fantasy',\n",
    "       'director_appearance', 'director_revenue', 'distributor_share',\n",
    "       'opendt_quarter', 'year_gap', 'showtypes_num', 'actor_score', 'neg',\n",
    "       'pos', 'neu', 'compound', 'story_com', 'music_com', 'direction_com',\n",
    "       'actor_com', 'acting_com', 'story_pos', 'music_pos', 'direction_pos',\n",
    "       'actor_pos', 'acting_pos', 'story_neg', 'music_neg', 'direction_neg',\n",
    "       'actor_neg', 'acting_neg', 'x0', 'x1', 'x2', 'x3', 'x4', 'label',\n",
    "       'center_angle1', 'center_angle2', 'center_angle3', 'center_angle4',\n",
    "       'center_angle5', 'center_angle6', 'center_angle7', 'center_angle8',\n",
    "       'center_angle9', 'center_angle10']]\n",
    "y_data = temp.kor_audience"
   ]
  },
  {
   "cell_type": "code",
   "execution_count": 130,
   "metadata": {},
   "outputs": [],
   "source": [
    "X_train, X_test, y_train, y_test =\\\n",
    "train_test_split(X_data, y_data,\\\n",
    "                    test_size = 0.3, \\\n",
    "                    random_state = 20)"
   ]
  },
  {
   "cell_type": "code",
   "execution_count": 131,
   "metadata": {},
   "outputs": [
    {
     "ename": "ValueError",
     "evalue": "Expected n_neighbors <= n_samples,  but n_samples = 4, n_neighbors = 6",
     "output_type": "error",
     "traceback": [
      "\u001b[0;31m---------------------------------------------------------------------------\u001b[0m",
      "\u001b[0;31mValueError\u001b[0m                                Traceback (most recent call last)",
      "\u001b[0;32m<ipython-input-131-be71cb168849>\u001b[0m in \u001b[0;36m<module>\u001b[0;34m\u001b[0m\n\u001b[1;32m      1\u001b[0m \u001b[0;32mfrom\u001b[0m \u001b[0mimblearn\u001b[0m\u001b[0;34m.\u001b[0m\u001b[0mover_sampling\u001b[0m \u001b[0;32mimport\u001b[0m \u001b[0mSMOTE\u001b[0m\u001b[0;34m\u001b[0m\u001b[0;34m\u001b[0m\u001b[0m\n\u001b[1;32m      2\u001b[0m \u001b[0msmote\u001b[0m \u001b[0;34m=\u001b[0m \u001b[0mSMOTE\u001b[0m\u001b[0;34m(\u001b[0m\u001b[0mrandom_state\u001b[0m\u001b[0;34m=\u001b[0m\u001b[0;36m0\u001b[0m\u001b[0;34m)\u001b[0m\u001b[0;34m\u001b[0m\u001b[0;34m\u001b[0m\u001b[0m\n\u001b[0;32m----> 3\u001b[0;31m \u001b[0mX_train_over\u001b[0m\u001b[0;34m,\u001b[0m \u001b[0my_train_over\u001b[0m \u001b[0;34m=\u001b[0m \u001b[0msmote\u001b[0m\u001b[0;34m.\u001b[0m\u001b[0mfit_sample\u001b[0m\u001b[0;34m(\u001b[0m\u001b[0mX_train\u001b[0m\u001b[0;34m,\u001b[0m\u001b[0my_train\u001b[0m\u001b[0;34m)\u001b[0m\u001b[0;34m\u001b[0m\u001b[0;34m\u001b[0m\u001b[0m\n\u001b[0m",
      "\u001b[0;32m~/opt/anaconda3/lib/python3.7/site-packages/imblearn/base.py\u001b[0m in \u001b[0;36mfit_resample\u001b[0;34m(self, X, y)\u001b[0m\n\u001b[1;32m     81\u001b[0m         )\n\u001b[1;32m     82\u001b[0m \u001b[0;34m\u001b[0m\u001b[0m\n\u001b[0;32m---> 83\u001b[0;31m         \u001b[0moutput\u001b[0m \u001b[0;34m=\u001b[0m \u001b[0mself\u001b[0m\u001b[0;34m.\u001b[0m\u001b[0m_fit_resample\u001b[0m\u001b[0;34m(\u001b[0m\u001b[0mX\u001b[0m\u001b[0;34m,\u001b[0m \u001b[0my\u001b[0m\u001b[0;34m)\u001b[0m\u001b[0;34m\u001b[0m\u001b[0;34m\u001b[0m\u001b[0m\n\u001b[0m\u001b[1;32m     84\u001b[0m \u001b[0;34m\u001b[0m\u001b[0m\n\u001b[1;32m     85\u001b[0m         y_ = (label_binarize(output[1], np.unique(y))\n",
      "\u001b[0;32m~/opt/anaconda3/lib/python3.7/site-packages/imblearn/over_sampling/_smote.py\u001b[0m in \u001b[0;36m_fit_resample\u001b[0;34m(self, X, y)\u001b[0m\n\u001b[1;32m    730\u001b[0m \u001b[0;34m\u001b[0m\u001b[0m\n\u001b[1;32m    731\u001b[0m             \u001b[0mself\u001b[0m\u001b[0;34m.\u001b[0m\u001b[0mnn_k_\u001b[0m\u001b[0;34m.\u001b[0m\u001b[0mfit\u001b[0m\u001b[0;34m(\u001b[0m\u001b[0mX_class\u001b[0m\u001b[0;34m)\u001b[0m\u001b[0;34m\u001b[0m\u001b[0;34m\u001b[0m\u001b[0m\n\u001b[0;32m--> 732\u001b[0;31m             \u001b[0mnns\u001b[0m \u001b[0;34m=\u001b[0m \u001b[0mself\u001b[0m\u001b[0;34m.\u001b[0m\u001b[0mnn_k_\u001b[0m\u001b[0;34m.\u001b[0m\u001b[0mkneighbors\u001b[0m\u001b[0;34m(\u001b[0m\u001b[0mX_class\u001b[0m\u001b[0;34m,\u001b[0m \u001b[0mreturn_distance\u001b[0m\u001b[0;34m=\u001b[0m\u001b[0;32mFalse\u001b[0m\u001b[0;34m)\u001b[0m\u001b[0;34m[\u001b[0m\u001b[0;34m:\u001b[0m\u001b[0;34m,\u001b[0m \u001b[0;36m1\u001b[0m\u001b[0;34m:\u001b[0m\u001b[0;34m]\u001b[0m\u001b[0;34m\u001b[0m\u001b[0;34m\u001b[0m\u001b[0m\n\u001b[0m\u001b[1;32m    733\u001b[0m             X_new, y_new = self._make_samples(\n\u001b[1;32m    734\u001b[0m                 \u001b[0mX_class\u001b[0m\u001b[0;34m,\u001b[0m \u001b[0my\u001b[0m\u001b[0;34m.\u001b[0m\u001b[0mdtype\u001b[0m\u001b[0;34m,\u001b[0m \u001b[0mclass_sample\u001b[0m\u001b[0;34m,\u001b[0m \u001b[0mX_class\u001b[0m\u001b[0;34m,\u001b[0m \u001b[0mnns\u001b[0m\u001b[0;34m,\u001b[0m \u001b[0mn_samples\u001b[0m\u001b[0;34m,\u001b[0m \u001b[0;36m1.0\u001b[0m\u001b[0;34m\u001b[0m\u001b[0;34m\u001b[0m\u001b[0m\n",
      "\u001b[0;32m~/opt/anaconda3/lib/python3.7/site-packages/sklearn/neighbors/_base.py\u001b[0m in \u001b[0;36mkneighbors\u001b[0;34m(self, X, n_neighbors, return_distance)\u001b[0m\n\u001b[1;32m    617\u001b[0m                 \u001b[0;34m\"Expected n_neighbors <= n_samples, \"\u001b[0m\u001b[0;34m\u001b[0m\u001b[0;34m\u001b[0m\u001b[0m\n\u001b[1;32m    618\u001b[0m                 \u001b[0;34m\" but n_samples = %d, n_neighbors = %d\"\u001b[0m \u001b[0;34m%\u001b[0m\u001b[0;34m\u001b[0m\u001b[0;34m\u001b[0m\u001b[0m\n\u001b[0;32m--> 619\u001b[0;31m                 \u001b[0;34m(\u001b[0m\u001b[0mn_samples_fit\u001b[0m\u001b[0;34m,\u001b[0m \u001b[0mn_neighbors\u001b[0m\u001b[0;34m)\u001b[0m\u001b[0;34m\u001b[0m\u001b[0;34m\u001b[0m\u001b[0m\n\u001b[0m\u001b[1;32m    620\u001b[0m             )\n\u001b[1;32m    621\u001b[0m \u001b[0;34m\u001b[0m\u001b[0m\n",
      "\u001b[0;31mValueError\u001b[0m: Expected n_neighbors <= n_samples,  but n_samples = 4, n_neighbors = 6"
     ]
    }
   ],
   "source": [
    "from imblearn.over_sampling import SMOTE\n",
    "smote = SMOTE(random_state=0)\n",
    "X_train_over, y_train_over = smote.fit_sample(X_train,y_train)"
   ]
  },
  {
   "cell_type": "code",
   "execution_count": null,
   "metadata": {},
   "outputs": [],
   "source": [
    "DecisionTreeTest(X_train_over, X_test, y_train_over, y_test)\n",
    "RandomForestTest(X_train_over, X_test, y_train_over, y_test)\n",
    "GBMTest(X_train_over, X_test, y_train_over, y_test)\n",
    "MLPClassifierTest(X_train_over, X_test, y_train_over, y_test)\n",
    "logisticRegression(X_train_over, X_test, y_train_over, y_test)\n",
    "LightGBMTest(X_train_over, X_test, y_train_over, y_test)"
   ]
  },
  {
   "cell_type": "code",
   "execution_count": null,
   "metadata": {},
   "outputs": [],
   "source": []
  },
  {
   "cell_type": "code",
   "execution_count": null,
   "metadata": {},
   "outputs": [],
   "source": []
  }
 ],
 "metadata": {
  "kernelspec": {
   "display_name": "Python 3",
   "language": "python",
   "name": "python3"
  },
  "language_info": {
   "codemirror_mode": {
    "name": "ipython",
    "version": 3
   },
   "file_extension": ".py",
   "mimetype": "text/x-python",
   "name": "python",
   "nbconvert_exporter": "python",
   "pygments_lexer": "ipython3",
   "version": "3.7.6"
  }
 },
 "nbformat": 4,
 "nbformat_minor": 4
}
