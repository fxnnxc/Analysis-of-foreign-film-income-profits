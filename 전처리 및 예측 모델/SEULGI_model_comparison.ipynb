{
 "cells": [
  {
   "cell_type": "code",
   "execution_count": 1,
   "metadata": {
    "colab": {},
    "colab_type": "code",
    "id": "Q0tyHj23JF0i"
   },
   "outputs": [
    {
     "name": "stderr",
     "output_type": "stream",
     "text": [
      "/Users/injin/opt/anaconda3/lib/python3.7/site-packages/lightgbm/__init__.py:48: UserWarning: Starting from version 2.2.1, the library file in distribution wheels for macOS is built by the Apple Clang (Xcode_8.3.3) compiler.\n",
      "This means that in case of installing LightGBM from PyPI via the ``pip install lightgbm`` command, you don't need to install the gcc compiler anymore.\n",
      "Instead of that, you need to install the OpenMP library, which is required for running LightGBM on the system with the Apple Clang compiler.\n",
      "You can install the OpenMP library by the following command: ``brew install libomp``.\n",
      "  \"You can install the OpenMP library by the following command: ``brew install libomp``.\", UserWarning)\n"
     ]
    }
   ],
   "source": [
    "from xgboost import XGBRegressor\n",
    "from sklearn.ensemble import RandomForestRegressor\n",
    "import numpy as np\n",
    "import pandas as pd\n",
    "from sklearn import datasets\n",
    "from sklearn.preprocessing import RobustScaler\n",
    "from sklearn.preprocessing import StandardScaler\n",
    "from sklearn.svm import SVC\n",
    "import lightgbm as lgb\n",
    "import sklearn.metrics as mt\n",
    "\n",
    "from sklearn.model_selection import cross_val_score\n",
    "from sklearn.model_selection import train_test_split\n",
    "\n",
    "import pandas as pd\n",
    "import warnings \n",
    "warnings.filterwarnings('ignore')\n",
    "\n",
    "pd.set_option('display.max_columns', 500)\n",
    "pd.set_option('display.max_rows', 500)"
   ]
  },
  {
   "cell_type": "code",
   "execution_count": 37,
   "metadata": {
    "colab": {
     "base_uri": "https://localhost:8080/",
     "height": 163
    },
    "colab_type": "code",
    "id": "dmf0zCpmDink",
    "outputId": "e26db54b-234d-489f-d605-bfb467ccf960"
   },
   "outputs": [],
   "source": [
    "# temp = pd.read_csv(\"data/notnulldata.csv\")\n",
    "temp = pd.read_excel('data/최종낫널.xlsx')\n",
    "temp.drop(['Budget','kor_audience','kor_audience_class'],axis = 1, inplace = True)"
   ]
  },
  {
   "cell_type": "code",
   "execution_count": 38,
   "metadata": {
    "scrolled": true
   },
   "outputs": [
    {
     "name": "stdout",
     "output_type": "stream",
     "text": [
      "<class 'pandas.core.frame.DataFrame'>\n",
      "RangeIndex: 3490 entries, 0 to 3489\n",
      "Data columns (total 72 columns):\n",
      " #   Column               Non-Null Count  Dtype  \n",
      "---  ------               --------------  -----  \n",
      " 0   index                3490 non-null   int64  \n",
      " 1   movienm              3490 non-null   object \n",
      " 2   showtm               3490 non-null   int64  \n",
      " 3   prdtyear             3490 non-null   int64  \n",
      " 4   Domestic             3490 non-null   int64  \n",
      " 5   mpaa                 3490 non-null   int64  \n",
      " 6   raters               3490 non-null   int64  \n",
      " 7   ratings              3490 non-null   float64\n",
      " 8   kor_revenue          3490 non-null   int64  \n",
      " 9   sf                   3490 non-null   int64  \n",
      " 10  family               3490 non-null   int64  \n",
      " 11  performance          3490 non-null   int64  \n",
      " 12  horror               3490 non-null   int64  \n",
      " 13  etc                  3490 non-null   int64  \n",
      " 14  documentary          3490 non-null   int64  \n",
      " 15  drama                3490 non-null   int64  \n",
      " 16  romance              3490 non-null   int64  \n",
      " 17  musical              3490 non-null   int64  \n",
      " 18  mystery              3490 non-null   int64  \n",
      " 19  crime                3490 non-null   int64  \n",
      " 20  history              3490 non-null   int64  \n",
      " 21  western              3490 non-null   int64  \n",
      " 22  adult                3490 non-null   int64  \n",
      " 23  thriller             3490 non-null   int64  \n",
      " 24  animation            3490 non-null   int64  \n",
      " 25  action               3490 non-null   int64  \n",
      " 26  adventure            3490 non-null   int64  \n",
      " 27  war                  3490 non-null   int64  \n",
      " 28  comedy               3490 non-null   int64  \n",
      " 29  fantasy              3490 non-null   int64  \n",
      " 30  director_appearance  3490 non-null   int64  \n",
      " 31  director_revenue     3490 non-null   float64\n",
      " 32  distributor_share    3490 non-null   float64\n",
      " 33  opendt_quarter       3490 non-null   int64  \n",
      " 34  year_gap             3490 non-null   int64  \n",
      " 35  showtypes_num        3490 non-null   int64  \n",
      " 36  actor_score          3490 non-null   float64\n",
      " 37  neg                  3490 non-null   float64\n",
      " 38  pos                  3490 non-null   float64\n",
      " 39  neu                  3490 non-null   float64\n",
      " 40  compound             3490 non-null   float64\n",
      " 41  story_com            3490 non-null   float64\n",
      " 42  music_com            3490 non-null   float64\n",
      " 43  direction_com        3490 non-null   float64\n",
      " 44  actor_com            3490 non-null   float64\n",
      " 45  acting_com           3490 non-null   float64\n",
      " 46  story_pos            3490 non-null   float64\n",
      " 47  music_pos            3490 non-null   float64\n",
      " 48  direction_pos        3490 non-null   float64\n",
      " 49  actor_pos            3490 non-null   float64\n",
      " 50  acting_pos           3490 non-null   float64\n",
      " 51  story_neg            3490 non-null   float64\n",
      " 52  music_neg            3490 non-null   float64\n",
      " 53  direction_neg        3490 non-null   float64\n",
      " 54  actor_neg            3490 non-null   float64\n",
      " 55  acting_neg           3490 non-null   float64\n",
      " 56  x0                   3490 non-null   float64\n",
      " 57  x1                   3490 non-null   float64\n",
      " 58  x2                   3490 non-null   float64\n",
      " 59  x3                   3490 non-null   float64\n",
      " 60  x4                   3490 non-null   float64\n",
      " 61  label                3490 non-null   int64  \n",
      " 62  center_angle1        3490 non-null   float64\n",
      " 63  center_angle2        3490 non-null   float64\n",
      " 64  center_angle3        3490 non-null   float64\n",
      " 65  center_angle4        3490 non-null   float64\n",
      " 66  center_angle5        3490 non-null   float64\n",
      " 67  center_angle6        3490 non-null   float64\n",
      " 68  center_angle7        3490 non-null   float64\n",
      " 69  center_angle8        3490 non-null   float64\n",
      " 70  center_angle9        3490 non-null   float64\n",
      " 71  center_angle10       3490 non-null   float64\n",
      "dtypes: float64(38), int64(33), object(1)\n",
      "memory usage: 1.9+ MB\n"
     ]
    }
   ],
   "source": [
    "temp.info()"
   ]
  },
  {
   "cell_type": "code",
   "execution_count": 39,
   "metadata": {},
   "outputs": [],
   "source": [
    "temp.set_index('index', inplace = True)"
   ]
  },
  {
   "cell_type": "code",
   "execution_count": 40,
   "metadata": {},
   "outputs": [
    {
     "data": {
      "text/plain": [
       "Index(['movienm', 'showtm', 'prdtyear', 'Domestic', 'mpaa', 'raters',\n",
       "       'ratings', 'kor_revenue', 'sf', 'family', 'performance', 'horror',\n",
       "       'etc', 'documentary', 'drama', 'romance', 'musical', 'mystery', 'crime',\n",
       "       'history', 'western', 'adult', 'thriller', 'animation', 'action',\n",
       "       'adventure', 'war', 'comedy', 'fantasy', 'director_appearance',\n",
       "       'director_revenue', 'distributor_share', 'opendt_quarter', 'year_gap',\n",
       "       'showtypes_num', 'actor_score', 'neg', 'pos', 'neu', 'compound',\n",
       "       'story_com', 'music_com', 'direction_com', 'actor_com', 'acting_com',\n",
       "       'story_pos', 'music_pos', 'direction_pos', 'actor_pos', 'acting_pos',\n",
       "       'story_neg', 'music_neg', 'direction_neg', 'actor_neg', 'acting_neg',\n",
       "       'x0', 'x1', 'x2', 'x3', 'x4', 'label', 'center_angle1', 'center_angle2',\n",
       "       'center_angle3', 'center_angle4', 'center_angle5', 'center_angle6',\n",
       "       'center_angle7', 'center_angle8', 'center_angle9', 'center_angle10'],\n",
       "      dtype='object')"
      ]
     },
     "execution_count": 40,
     "metadata": {},
     "output_type": "execute_result"
    }
   ],
   "source": [
    "temp.columns"
   ]
  },
  {
   "cell_type": "code",
   "execution_count": 41,
   "metadata": {},
   "outputs": [],
   "source": [
    "# domestic log 변환\n",
    "\n",
    "#label_list = ['domestic']\n",
    "temp['Domestic'] = temp['Domestic'].apply(lambda x : np.log(1+x))"
   ]
  },
  {
   "cell_type": "code",
   "execution_count": 42,
   "metadata": {
    "colab": {},
    "colab_type": "code",
    "id": "AeW_I1jFGcNJ"
   },
   "outputs": [],
   "source": [
    "full_cols = ['movienm', 'showtm', 'prdtyear', 'Domestic', 'mpaa', 'raters',\n",
    "       'ratings', 'kor_revenue', 'kor_audience', 'kor_audience_class', 'sf',\n",
    "       'family', 'performance', 'horror', 'etc', 'documentary', 'drama',\n",
    "       'romance', 'musical', 'mystery', 'crime', 'history', 'western', 'adult',\n",
    "       'thriller', 'animation', 'action', 'adventure', 'war', 'comedy',\n",
    "       'fantasy', 'director_appearance', 'director_revenue',\n",
    "       'distributor_share', 'opendt_quarter', 'year_gap', 'showtypes_num',\n",
    "       'actor_score', 'neg', 'pos', 'neu', 'compound', 'story_com',\n",
    "       'music_com', 'direction_com', 'actor_com', 'acting_com', 'story_pos',\n",
    "       'music_pos', 'direction_pos', 'actor_pos', 'acting_pos', 'story_neg',\n",
    "       'music_neg', 'direction_neg', 'actor_neg', 'acting_neg', 'x0', 'x1',\n",
    "       'x2', 'x3', 'x4', 'label', 'center_angle1', 'center_angle2',\n",
    "       'center_angle3', 'center_angle4', 'center_angle5', 'center_angle6',\n",
    "       'center_angle7', 'center_angle8', 'center_angle9', 'center_angle10']\n",
    "\n",
    "x_cols1 =['showtm', 'prdtyear', 'Domestic', 'mpaa', 'raters',\n",
    "       'ratings','sf',\n",
    "       'family', 'performance', 'horror', 'etc', 'documentary', 'drama',\n",
    "       'romance', 'musical', 'mystery', 'crime', 'history', 'western', 'adult',\n",
    "       'thriller', 'animation', 'action', 'adventure', 'war', 'comedy',\n",
    "       'fantasy', 'director_appearance', 'director_revenue',\n",
    "       'distributor_share', 'opendt_quarter', 'year_gap', 'showtypes_num',\n",
    "       'actor_score', 'neg', 'pos', 'neu', 'compound', 'story_com',\n",
    "       'music_com', 'direction_com', 'actor_com', 'acting_com', 'story_pos',\n",
    "       'music_pos', 'direction_pos', 'actor_pos', 'acting_pos', 'story_neg',\n",
    "       'music_neg', 'direction_neg', 'actor_neg', 'acting_neg', 'x0', 'x1',\n",
    "       'x2', 'x3', 'x4', 'label', 'center_angle1', 'center_angle2',\n",
    "       'center_angle3', 'center_angle4', 'center_angle5', 'center_angle6',\n",
    "       'center_angle7', 'center_angle8', 'center_angle9', 'center_angle10']\n",
    "\n",
    "x_cols2 = ['showtm', 'prdtyear', 'Domestic', 'mpaa', 'raters',\n",
    "       'ratings', 'sf',\n",
    "       'family', 'performance', 'horror', 'etc', 'documentary', 'drama',\n",
    "       'romance', 'musical', 'mystery', 'crime', 'history', 'western', 'adult',\n",
    "       'thriller', 'animation', 'action', 'adventure', 'war', 'comedy',\n",
    "       'fantasy', 'director_appearance', 'director_revenue',\n",
    "       'distributor_share', 'opendt_quarter', 'year_gap', 'showtypes_num',\n",
    "       'actor_score','x0', 'x1',\n",
    "       'x2', 'x3', 'x4', 'label', 'center_angle1', 'center_angle2',\n",
    "       'center_angle3', 'center_angle4', 'center_angle5', 'center_angle6',\n",
    "       'center_angle7', 'center_angle8', 'center_angle9', 'center_angle10']\n",
    "y_cols = ['kor_revenue']\n",
    "\n",
    "\n",
    "X = temp[x_cols1]\n",
    "X2 = temp[x_cols2]\n",
    "Y = temp[y_cols]"
   ]
  },
  {
   "cell_type": "code",
   "execution_count": 43,
   "metadata": {
    "colab": {},
    "colab_type": "code",
    "id": "0TzRDa3EmuV-",
    "scrolled": true
   },
   "outputs": [],
   "source": [
    "transformer = StandardScaler().fit(X)\n",
    "X = transformer.transform(X)\n",
    "\n",
    "transformer =  StandardScaler().fit(X2)\n",
    "X2 = transformer.transform(X2)"
   ]
  },
  {
   "cell_type": "code",
   "execution_count": 44,
   "metadata": {
    "colab": {},
    "colab_type": "code",
    "id": "1QCoZSfGJv9P"
   },
   "outputs": [],
   "source": [
    "X_train, X_test, Y_train, Y_test = train_test_split(X, Y, test_size=0.3)\n",
    "X_train2, X_test2, Y_train2, Y_test2 = train_test_split(X2, Y, test_size=0.3)"
   ]
  },
  {
   "cell_type": "markdown",
   "metadata": {
    "colab_type": "text",
    "id": "O-3ZlAq53TId"
   },
   "source": [
    "# Random Forest"
   ]
  },
  {
   "cell_type": "code",
   "execution_count": 45,
   "metadata": {
    "colab": {
     "base_uri": "https://localhost:8080/",
     "height": 35
    },
    "colab_type": "code",
    "id": "Ev-EXqjYtYDZ",
    "outputId": "df02d7a9-d9fe-40f9-bff1-06b98a5d0641"
   },
   "outputs": [
    {
     "name": "stdout",
     "output_type": "stream",
     "text": [
      "0.6076799671260702\n",
      "0.5855598975823992\n"
     ]
    },
    {
     "data": {
      "text/plain": [
       "(0.416418556593822, 0.3682237833615433)"
      ]
     },
     "execution_count": 45,
     "metadata": {},
     "output_type": "execute_result"
    }
   ],
   "source": [
    "from sklearn.model_selection import RandomizedSearchCV\n",
    "\n",
    "param_space = {\"bootstrap\": [True],\n",
    "        \"max_depth\": [10],\n",
    "        #\"max_features\": ['auto', 'sqrt','log2'],\n",
    "        #\"min_samples_leaf\": [2, 3, 4],\n",
    "        #\"min_samples_split\": [2, 3, 4, 5],\n",
    "        \"n_estimators\": [800, 1000]\n",
    "}\n",
    "\n",
    "forest_reg = RandomForestRegressor()\n",
    "forest_rand_search1 = RandomizedSearchCV(forest_reg, param_space, n_iter=32,\n",
    "                                        scoring=\"r2\", verbose=False, cv=2,\n",
    "                                        n_jobs=-1, random_state=42)\n",
    "forest_reg = RandomForestRegressor()\n",
    "forest_rand_search2 = RandomizedSearchCV(forest_reg, param_space, n_iter=32,\n",
    "                                        scoring=\"r2\", verbose=False, cv=2,\n",
    "                                        n_jobs=-1, random_state=42)\n",
    "\n",
    "forest_rand_search1.fit(X_train, Y_train)\n",
    "forest_rand_search2.fit(X_train2,Y_train2)\n",
    "\n",
    "Y_pred11 = forest_rand_search1.predict(X_test)\n",
    "Y_pred12 = forest_rand_search2.predict(X_test2)\n",
    "\n",
    "print(mt.r2_score(Y_test, Y_pred11))\n",
    "print(mt.r2_score(Y_test2, Y_pred12))\n",
    "forest_rand_search1.best_score_, forest_rand_search2.best_score_"
   ]
  },
  {
   "cell_type": "code",
   "execution_count": 46,
   "metadata": {},
   "outputs": [
    {
     "data": {
      "text/plain": [
       "{'n_estimators': 800, 'max_depth': 10, 'bootstrap': True}"
      ]
     },
     "execution_count": 46,
     "metadata": {},
     "output_type": "execute_result"
    }
   ],
   "source": [
    "forest_rand_search1.best_params_"
   ]
  },
  {
   "cell_type": "code",
   "execution_count": 47,
   "metadata": {},
   "outputs": [
    {
     "data": {
      "text/plain": [
       "{'n_estimators': 1000, 'max_depth': 10, 'bootstrap': True}"
      ]
     },
     "execution_count": 47,
     "metadata": {},
     "output_type": "execute_result"
    }
   ],
   "source": [
    "forest_rand_search2.best_params_"
   ]
  },
  {
   "cell_type": "markdown",
   "metadata": {
    "colab_type": "text",
    "id": "kMgqFOwm3WPW"
   },
   "source": [
    "# XGBoost"
   ]
  },
  {
   "cell_type": "code",
   "execution_count": 48,
   "metadata": {
    "colab": {
     "base_uri": "https://localhost:8080/",
     "height": 35
    },
    "colab_type": "code",
    "id": "bCF6oVaH6f5Q",
    "outputId": "195f914c-82d6-48f7-d973-b70287973c2d"
   },
   "outputs": [
    {
     "name": "stdout",
     "output_type": "stream",
     "text": [
      "0.46658814160999673\n",
      "0.6124212819468773\n"
     ]
    },
    {
     "data": {
      "text/plain": [
       "(0.4244745899253834, 0.3097760239299573)"
      ]
     },
     "execution_count": 48,
     "metadata": {},
     "output_type": "execute_result"
    }
   ],
   "source": [
    "from scipy import stats\n",
    "\n",
    "param_space = {'n_estimators': stats.randint(150, 1000),\n",
    "              'learning_rate': stats.uniform(0.01, 0.6),\n",
    "              'subsample': stats.uniform(0.3, 0.9),\n",
    "              'max_depth': [ 8, 9],\n",
    "              'colsample_bytree': stats.uniform(0.5, 0.9),\n",
    "              'min_child_weight': [1, 2]\n",
    "             }\n",
    "\n",
    "\n",
    "reg = XGBRegressor(objective='reg:squarederror')\n",
    "rand_search1 = RandomizedSearchCV(reg, param_space, n_iter=32,\n",
    "                                        scoring=\"r2\", verbose=False, cv=2,\n",
    "                                        n_jobs=-1, random_state=42)\n",
    "\n",
    "reg = XGBRegressor(objective='reg:squarederror')\n",
    "rand_search2 = RandomizedSearchCV(reg, param_space, n_iter=32,\n",
    "                                        scoring=\"r2\", verbose=False, cv=2,\n",
    "                                        n_jobs=-1, random_state=42)\n",
    "\n",
    "rand_search1.fit(X_train,Y_train)\n",
    "rand_search2.fit(X_train2,Y_train2)\n",
    "\n",
    "Y_pred21 = rand_search1.predict(X_test)\n",
    "Y_pred22 = rand_search2.predict(X_test2)\n",
    "\n",
    "print(mt.r2_score(Y_test, Y_pred21))\n",
    "print(mt.r2_score(Y_test2, Y_pred22))\n",
    "\n",
    "rand_search1.best_score_, rand_search2.best_score_"
   ]
  },
  {
   "cell_type": "code",
   "execution_count": 49,
   "metadata": {},
   "outputs": [
    {
     "data": {
      "text/plain": [
       "{'colsample_bytree': 0.8498095607205338,\n",
       " 'learning_rate': 0.17280941906433755,\n",
       " 'max_depth': 8,\n",
       " 'min_child_weight': 2,\n",
       " 'n_estimators': 366,\n",
       " 'subsample': 0.5528410587186428}"
      ]
     },
     "execution_count": 49,
     "metadata": {},
     "output_type": "execute_result"
    }
   ],
   "source": [
    "rand_search1.best_params_"
   ]
  },
  {
   "cell_type": "code",
   "execution_count": 50,
   "metadata": {},
   "outputs": [
    {
     "data": {
      "text/plain": [
       "{'colsample_bytree': 0.8634525539522367,\n",
       " 'learning_rate': 0.04893534826538894,\n",
       " 'max_depth': 9,\n",
       " 'min_child_weight': 2,\n",
       " 'n_estimators': 417,\n",
       " 'subsample': 0.5266040662428277}"
      ]
     },
     "execution_count": 50,
     "metadata": {},
     "output_type": "execute_result"
    }
   ],
   "source": [
    "rand_search2.best_params_"
   ]
  },
  {
   "cell_type": "code",
   "execution_count": null,
   "metadata": {},
   "outputs": [],
   "source": []
  },
  {
   "cell_type": "markdown",
   "metadata": {},
   "source": [
    "# LGBM"
   ]
  },
  {
   "cell_type": "code",
   "execution_count": 55,
   "metadata": {},
   "outputs": [
    {
     "name": "stdout",
     "output_type": "stream",
     "text": [
      "0.5459402622471968\n",
      "0.5799764470048704\n"
     ]
    },
    {
     "data": {
      "text/plain": [
       "(0.428136544349516, 0.4168399687899727)"
      ]
     },
     "execution_count": 55,
     "metadata": {},
     "output_type": "execute_result"
    }
   ],
   "source": [
    "param_space = {'max_depth' : [10,20],\n",
    "            'num_leaves' : [100,200],\n",
    "            'max_bin':[100,200,300,400],\n",
    "            'learning_rate':[0.05,0.02]\n",
    "             }\n",
    "\n",
    "\n",
    "reg = lgb.LGBMRegressor(max_depth = -1, random_state = 0, learning_state = 0.1, n_estimators = 50 )\n",
    "\n",
    "lgbm_search1 = RandomizedSearchCV(reg, param_space, n_iter=32,\n",
    "                                        scoring=\"r2\", verbose=False, cv=2,\n",
    "                                        n_jobs=-1, random_state=42)\n",
    "\n",
    "reg = lgb.LGBMRegressor(max_depth = -1, random_state = 0, learning_state = 0.1, n_estimators = 50 )\n",
    "lgbm_search2 = RandomizedSearchCV(reg, param_space, n_iter=32,\n",
    "                                        scoring=\"r2\", verbose=False, cv=2,\n",
    "                                        n_jobs=-1, random_state=42)\n",
    "\n",
    "\n",
    "lgbm_search1.fit(X_train,Y_train)\n",
    "lgbm_search2.fit(X_train2,Y_train2)\n",
    "\n",
    "Y_pred31 = lgbm_search1.predict(X_test)\n",
    "Y_pred32 = lgbm_search2.predict(X_test2)\n",
    "\n",
    "print(mt.r2_score(Y_test, Y_pred31))\n",
    "print(mt.r2_score(Y_test2, Y_pred32))\n",
    "lgbm_search1.best_score_, lgbm_search2.best_score_"
   ]
  },
  {
   "cell_type": "code",
   "execution_count": 52,
   "metadata": {},
   "outputs": [
    {
     "data": {
      "text/plain": [
       "{'num_leaves': 100, 'max_depth': 20, 'max_bin': 200, 'learning_rate': 0.05}"
      ]
     },
     "execution_count": 52,
     "metadata": {},
     "output_type": "execute_result"
    }
   ],
   "source": [
    "lgbm_search1.best_params_"
   ]
  },
  {
   "cell_type": "code",
   "execution_count": 53,
   "metadata": {},
   "outputs": [
    {
     "data": {
      "text/plain": [
       "{'num_leaves': 100, 'max_depth': 10, 'max_bin': 200, 'learning_rate': 0.05}"
      ]
     },
     "execution_count": 53,
     "metadata": {},
     "output_type": "execute_result"
    }
   ],
   "source": [
    "lgbm_search2.best_params_"
   ]
  },
  {
   "cell_type": "markdown",
   "metadata": {
    "colab_type": "text",
    "id": "acFAjXTkBJFP"
   },
   "source": [
    "# Comparision"
   ]
  },
  {
   "cell_type": "code",
   "execution_count": 54,
   "metadata": {
    "colab": {
     "base_uri": "https://localhost:8080/",
     "height": 82
    },
    "colab_type": "code",
    "id": "KLn7_qQ3BKfE",
    "outputId": "854e3ad1-08e1-484c-f927-5c0549ce04ce"
   },
   "outputs": [
    {
     "data": {
      "text/html": [
       "<style  type=\"text/css\" >\n",
       "    #T_dd086254_ef5f_11ea_9017_acde48001122row0_col0 {\n",
       "            background-color:  #ffff66;\n",
       "            color:  #000000;\n",
       "        }    #T_dd086254_ef5f_11ea_9017_acde48001122row0_col1 {\n",
       "            background-color:  #2c9666;\n",
       "            color:  #000000;\n",
       "        }    #T_dd086254_ef5f_11ea_9017_acde48001122row1_col0 {\n",
       "            background-color:  #008066;\n",
       "            color:  #f1f1f1;\n",
       "        }    #T_dd086254_ef5f_11ea_9017_acde48001122row1_col1 {\n",
       "            background-color:  #ffff66;\n",
       "            color:  #000000;\n",
       "        }    #T_dd086254_ef5f_11ea_9017_acde48001122row2_col0 {\n",
       "            background-color:  #8fc766;\n",
       "            color:  #000000;\n",
       "        }    #T_dd086254_ef5f_11ea_9017_acde48001122row2_col1 {\n",
       "            background-color:  #008066;\n",
       "            color:  #f1f1f1;\n",
       "        }</style><table id=\"T_dd086254_ef5f_11ea_9017_acde48001122\" ><thead>    <tr>        <th class=\"blank level0\" ></th>        <th class=\"col_heading level0 col0\" >X1</th>        <th class=\"col_heading level0 col1\" >X2</th>    </tr></thead><tbody>\n",
       "                <tr>\n",
       "                        <th id=\"T_dd086254_ef5f_11ea_9017_acde48001122level0_row0\" class=\"row_heading level0 row0\" >RF</th>\n",
       "                        <td id=\"T_dd086254_ef5f_11ea_9017_acde48001122row0_col0\" class=\"data row0 col0\" >0.607680</td>\n",
       "                        <td id=\"T_dd086254_ef5f_11ea_9017_acde48001122row0_col1\" class=\"data row0 col1\" >0.585560</td>\n",
       "            </tr>\n",
       "            <tr>\n",
       "                        <th id=\"T_dd086254_ef5f_11ea_9017_acde48001122level0_row1\" class=\"row_heading level0 row1\" >XG</th>\n",
       "                        <td id=\"T_dd086254_ef5f_11ea_9017_acde48001122row1_col0\" class=\"data row1 col0\" >0.466588</td>\n",
       "                        <td id=\"T_dd086254_ef5f_11ea_9017_acde48001122row1_col1\" class=\"data row1 col1\" >0.612421</td>\n",
       "            </tr>\n",
       "            <tr>\n",
       "                        <th id=\"T_dd086254_ef5f_11ea_9017_acde48001122level0_row2\" class=\"row_heading level0 row2\" >LGBM</th>\n",
       "                        <td id=\"T_dd086254_ef5f_11ea_9017_acde48001122row2_col0\" class=\"data row2 col0\" >0.545940</td>\n",
       "                        <td id=\"T_dd086254_ef5f_11ea_9017_acde48001122row2_col1\" class=\"data row2 col1\" >0.579976</td>\n",
       "            </tr>\n",
       "    </tbody></table>"
      ],
      "text/plain": [
       "<pandas.io.formats.style.Styler at 0x7f8715f39e50>"
      ]
     },
     "execution_count": 54,
     "metadata": {},
     "output_type": "execute_result"
    }
   ],
   "source": [
    "pd.DataFrame(\n",
    "[[mt.r2_score(Y_test, Y_pred11), mt.r2_score(Y_test2, Y_pred12)],\n",
    "[mt.r2_score(Y_test, Y_pred21), mt.r2_score(Y_test2, Y_pred22)],\n",
    "[mt.r2_score(Y_test, Y_pred31), mt.r2_score(Y_test2, Y_pred32)]], index=['RF', 'XG','LGBM'] ,columns=['X1', 'X2']).style.background_gradient(cmap='summer')"
   ]
  },
  {
   "cell_type": "code",
   "execution_count": null,
   "metadata": {},
   "outputs": [],
   "source": []
  },
  {
   "cell_type": "code",
   "execution_count": null,
   "metadata": {},
   "outputs": [],
   "source": []
  },
  {
   "cell_type": "code",
   "execution_count": null,
   "metadata": {},
   "outputs": [],
   "source": []
  }
 ],
 "metadata": {
  "colab": {
   "collapsed_sections": [],
   "name": "SULGI_model_prediction.ipynb의 사본",
   "provenance": []
  },
  "kernelspec": {
   "display_name": "Python 3",
   "language": "python",
   "name": "python3"
  },
  "language_info": {
   "codemirror_mode": {
    "name": "ipython",
    "version": 3
   },
   "file_extension": ".py",
   "mimetype": "text/x-python",
   "name": "python",
   "nbconvert_exporter": "python",
   "pygments_lexer": "ipython3",
   "version": "3.7.6"
  }
 },
 "nbformat": 4,
 "nbformat_minor": 1
}
